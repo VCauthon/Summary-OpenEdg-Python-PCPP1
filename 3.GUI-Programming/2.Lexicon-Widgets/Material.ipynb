{
 "cells": [
  {
   "cell_type": "markdown",
   "metadata": {},
   "source": [
    "## Lexicon of Widgets\n",
    "\n",
    "---"
   ]
  },
  {
   "cell_type": "markdown",
   "metadata": {},
   "source": [
    "### Introduction\n",
    "\n",
    "Now that we have detailed, in broad strokes, how tkinter works, we will go deeper into the catalog of functions offered by the library.\n",
    "\n",
    "---"
   ]
  },
  {
   "cell_type": "markdown",
   "metadata": {},
   "source": [
    "### Types of widgets\n",
    "\n",
    "Each widget is created through the Tkinter constructors, this constructor will always accept as first argument, the __master widget__. This will be the widget owner of the newly generated widget.\n",
    "\n",
    "In most cases the master widget will be a window, however, in some cases it will be a normal widget (such as a `Frame` containing a `LabelFrame`).\n",
    "\n",
    "> __NOTE__: Through this element tkinter knows which children to delete when the master widget executes the `.destroy()` method.\n",
    "\n",
    "All widgets fall into two main categories:\n",
    "- __Clickable__\n",
    "    - `Button`\n",
    "    - `Checkbutton`\n",
    "    - `Radiobutton`\n",
    "- __Non-clickable__\n",
    "    - `Label`\n",
    "    - `Frame`\n",
    "    - `LabelFrame`\n",
    "\n",
    "---"
   ]
  },
  {
   "cell_type": "markdown",
   "metadata": {},
   "source": [
    "### Button\n",
    "\n",
    "The following are the most usable properties of the button widget:\n",
    "\n",
    "| Button property | Property meaning |\n",
    "|-----------------|-----------------|\n",
    "| `command` | The __callback__ being invoked when the button is clicked |\n",
    "| `justify` | The way in which the inner text is justified: possible (self-describing) values are: `LEFT`, `CENTER`, and `RIGHT` |\n",
    "| `state` | `DISABLED`: The button becomes deaf and doesn’t react to clicks, while its title is shown in gray.<br>`NORMAL`: Restores normal button functioning.<br>`ACTIVE`:when the mouse is located above the button. |\n",
    "\n",
    "<br>\n",
    "\n",
    "| Button method | Method role |\n",
    "|---------------|-------------|\n",
    "| `flash()` | The button __flashes__ a few times but doesn’t change its state |\n",
    "| `invoke()` | Activates the __callback__ assigned to the widget and returns the same value the callback returned; note: this is the __only way__ to invoke your own callback explicitly, as the event manager must be aware of the fact |\n",
    "\n",
    "<br>\n",
    "\n",
    "---"
   ]
  },
  {
   "cell_type": "markdown",
   "metadata": {},
   "source": [
    "### Checkbuttons\n",
    "\n",
    "The Checkbutton is a two-state switch that can be ticked (checked) or not; thus, it is a handy tool to represent yes/no user choices.\n",
    "\n",
    "The most usable properties and methods are the following:\n",
    "\n",
    "| Checkbutton property | Property meaning |\n",
    "|----------------------|------------------|\n",
    "| `bd`  | The checkbutton frame width (default is two pixels) |\n",
    "| `command` |\tThe callback being invoked when the checkbutton changes its state |\n",
    "| `justify` |\tThe same as for Button |\n",
    "| `state` | The same as for Button |\n",
    "| `variable` | An observable IntVar variable reflecting the widget’s state; defaultly it’s set to 1 when the checkbutton is checked, and to 0 otherwise |\n",
    "| `offvalue` |\tThe non-default value being assigned to a variable when the checkbutton is not checked |\n",
    "| `onvalue` |\tThe non-default value being assigned to a variable when the checkbutton is checked |\n",
    "\n",
    "<br>\n",
    "\n",
    "| Checkbutton method | Method role |\n",
    "|--------------------|-------------|\n",
    "`deselect()` |\tUnchecks the widget |\n",
    "`flash()` |\tThe same as for Button |\n",
    "`invoke()` |\tThe same as for Button |\n",
    "`select()` |\tChecks the widget |\n",
    "`toggle()` |\tToggles the widget (changes its state to the opposite one) |\n",
    "\n",
    "<br>\n",
    "\n",
    "---"
   ]
  },
  {
   "cell_type": "markdown",
   "metadata": {},
   "source": [
    "### Radiobutton\n",
    "\n",
    "The Radiobutton is usable when you group (couple) a number (>1) of these widgets - as only one of them can be mutually selected (checked), it’s a good tool to represent one of many user choices.\n",
    "\n",
    "__Assigning the same observable variable to more than one Radiobutton creates a group.__\n",
    "\n",
    "This also means that when two Radiobuttons use different observable variables, they belong to different groups by definition.\n",
    "\n",
    "Here are some of the Radiobutton’s properties:\n",
    "\n",
    "The most usable properties and methods are the following:\n",
    "| Radiobutton property | Property meaning |\n",
    "|----------------------|------------------|\n",
    "| `command` |\tThe callback being invoked when the Radiobutton (not the group it belongs to!) changes its state |\n",
    "| `justify` |\tThe same as for Button |\n",
    "| `state` |\tThe same as for Button |\n",
    "| `variable` |\tAn observable IntVa r or StringVar variable reflecting the current selection within the Radiobutton’s group; changing the variable’s value automatically changes the selection |\n",
    "| `value` | \tA unique (inside the group) value identifying the Radiobutton; can be an integer value or a string, and should be compatible with the variable’s type |\n",
    "\n",
    "<br>\n",
    "\n",
    "\n",
    "| Radiobutton method | Method role |\n",
    "|--------------------|-------------|\n",
    "| `deselect()` | \tUnchecks the widget |\n",
    "| `flash()` | \tThe same as for Button |\n",
    "| `invoke()` | \tThe same as for Button |\n",
    "| `select()` | \tChecks the widget |\n",
    "\n",
    "<br>\n",
    "\n",
    "---"
   ]
  }
 ],
 "metadata": {
  "kernelspec": {
   "display_name": "Python 3",
   "language": "python",
   "name": "python3"
  },
  "language_info": {
   "codemirror_mode": {
    "name": "ipython",
    "version": 3
   },
   "file_extension": ".py",
   "mimetype": "text/x-python",
   "name": "python",
   "nbconvert_exporter": "python",
   "pygments_lexer": "ipython3",
   "version": "3.10.12"
  },
  "orig_nbformat": 4
 },
 "nbformat": 4,
 "nbformat_minor": 2
}
