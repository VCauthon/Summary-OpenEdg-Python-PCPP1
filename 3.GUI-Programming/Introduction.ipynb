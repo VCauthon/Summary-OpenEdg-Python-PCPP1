{
 "cells": [
  {
   "cell_type": "markdown",
   "metadata": {},
   "source": [
    "## An overview of the OpenEdg material can be found in [edube.org](https://edube.org/study/pcpp1-3).\n",
    "\n",
    "All the topics that we will cover in this course are listed below:\n",
    "1. [__TkInter Essentials__](https://github.com/VCauthon/Summary-OpenEdg-Pyhon-PCPP1/blob/main/3.GUI-Programming/1.TkInter-Essentials/Material.ipynb):\n",
    "    + Intro to GUI Programming\n",
    "    + Settling widgets in the window's interior, coloring your widgets, a simple GUI application, events and how to handle them, widget properties, interacting with widget methods, variables\n",
    "2. [__Lexicon of widgets and more TkInter Essentials__](https://github.com/VCauthon/Summary-OpenEdg-Pyhon-PCPP1/blob/main/3.GUI-Programming/2.Lexicon-Widgets/Material.ipynb):\n",
    "    + Important widgets\n",
    "    + Shaping the main window and conversing with the user\n",
    "    + Working with canvas\n",
    "3. __Exercises__:\n",
    "    + [A simple calculator](./3.Exercises/1_presentation.ipynb)\n",
    "    + [A game you can't win](./3.Exercises/2_presentation.ipynb)\n",
    "    + [A memory game](./3.Exercises/3_presentation.ipynb)\n",
    "    + [Traffic lights](./3.Exercises/4_presentation.ipynb)\n",
    "    + [Tic Tac Toe](./3.Exercises/5_presentation.ipynb)\n",
    "    + [A pocket calculator](./3.Exercises/6_presentation.ipynb)\n",
    "\n",
    "## [__Questions to test your skills__](https://quizlet.com/es/847305764/introduction-to-gui-programming-in-python-tkinter-flash-cards/?new)\n",
    "\n",
    "[< __GO BACK__](https://github.com/VCauthon/Summary-OpenEdg-Pyhon-PCPP1/blob/main/README.md)"
   ]
  }
 ],
 "metadata": {
  "language_info": {
   "name": "python"
  },
  "orig_nbformat": 4
 },
 "nbformat": 4,
 "nbformat_minor": 2
}
