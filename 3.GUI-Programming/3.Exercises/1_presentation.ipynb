{
 "cells": [
  {
   "attachments": {
    "image.png": {
     "image/png": "[encoded data removed]"
    }
   },
   "cell_type": "markdown",
   "metadata": {},
   "source": [
    "## [Solution](./1_solution.py)\n",
    "\n",
    "---\n",
    "\n",
    "# Estimated time\n",
    "\n",
    "20-30 minutes\n",
    "\n",
    "# Level of difficulty\n",
    "\n",
    "Easy\n",
    "\n",
    "# Objectives\n",
    "\n",
    "Learn practical skills related to:\n",
    "- Using the Entry, Radiobutton and Button widgets,\n",
    "- Managing widgets with the grid manager,\n",
    "- Checking the validity of user input and handling errors.\n",
    "\n",
    "# Scenario\n",
    "You need a calculator. A very simple and very specific calculator. Look at the picture - it contains two fields that the user can use to enter arguments, a radio button to select the operation to perform, and a button initiating the evaluation:\n",
    "\n",
    "![image.png](attachment:image.png)\n",
    "\n",
    "We expect the calculator to behave in the following way:\n",
    "\n",
    "- If both fields contain valid (integer or float) numbers, clicking the Evaluate button should display an info window showing the evaluation's result;\n",
    "- If any of the fields contains invalid data (e.g., a string, or a field is empty), clicking the Evaluate button should present an error window describing the problem, and the focus should be moved to the field causing the problem.\n",
    "\n",
    "Don't forget to protect your code from dividing by zero, and use the grid manager to compose the window interior."
   ]
  }
 ],
 "metadata": {
  "language_info": {
   "name": "python"
  }
 },
 "nbformat": 4,
 "nbformat_minor": 2
}
