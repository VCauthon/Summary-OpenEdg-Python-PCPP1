{
 "cells": [
  {
   "cell_type": "markdown",
   "metadata": {},
   "source": [
    "## PEP 257 - Docstring Conventions\n",
    "\n",
    "---\n",
    "[< __GO BACK__](https://github.com/VCauthon/Summary-OpenEdg-Pyhon-PCPP1/blob/main/2.Best-Practices/Introduction.ipynb)"
   ]
  },
  {
   "cell_type": "markdown",
   "metadata": {},
   "source": [
    "### Introduction\n",
    "\n",
    "In short, PEP 257 tries to answer the following two questions:\n",
    "\n",
    "1. __What__ should Python docstrings contain?\n",
    "2. __How__ should Python docstrings be used?\n",
    "\n",
    "Before going into details first we have to answer...\n",
    "\n",
    "__¿What is a docstring?__\n",
    "> A docstring is \"a string literal that occurs as the first statement in a module, function, class, or method definition. Such a docstring becomes the __doc__ special attribute of that object\". <br><br>\n",
    "> In other words, docstrings are Python documentation strings that are used in the class, module, function, and method definition in order to provide information about the functionality of a larger piece of code in a prescriptive way.<br><br>\n",
    "\n",
    "__¿What's the difference between a docstring and a comment?__\n",
    "| QUESTION | COMMENT | DOCSTRING |\n",
    "| :--- | :--- | :--- |\n",
    "| __Executable__ | Aren't | Can be accessed throw `__doc__` and `help()` |\n",
    "| __Purpose__ | Increase readability and understandability of the code | Describing its use to users |\n",
    "| __Documentation__ | Can't create | Can create |\n",
    "\n",
    "---"
   ]
  },
  {
   "cell_type": "markdown",
   "metadata": {},
   "source": [
    "### Docstrings – where and how?\n",
    "\n",
    "Docstrings are string literals that occur as the first statement in a module, function, class, or method.\n",
    "\n",
    "First of all, indicate that the docstrings are oriented to indicate to an end user the utility of the `module`, `package`, `function`, `class` or `method`, therefore... these should be generated in the public elements of a module.\n",
    "\n",
    "In the case of indicating the own utility of the package it would have to be generated in the own `__init__.py`.\n",
    "\n",
    "That said, it is not necessary to generate docstrings in the private elements of the code. For these we can leave a simple comment.\n",
    "\n",
    "---"
   ]
  },
  {
   "cell_type": "markdown",
   "metadata": {},
   "source": [
    "### How to create a docstring\n",
    "\n",
    "Docstrings should be surrounded by triple double quotes `(\"\"\"triple double quotes\"\"\")`. And they can be written in one line or in multiple lines.\n",
    "\n",
    "Differences between one line and multiple lines docstrings:\n",
    "- One line:\n",
    "    - Should be used for rather simple, obvious, and short descriptions.\n",
    "    - Should prescribe the code segment's effect, not describe it.\n",
    "    - Should not just simply repeat the function or method parameters.\n",
    "    - Do not use a blank line above or under a one-line docstring unless you're documenting a class.\n",
    "- Multiple lines:\n",
    "    - Should be used for non-obvious cases and more detailed descriptions of code segments.\n",
    "    - A multi-line docstring should be indented to the same level as the open quotes.\n",
    "    - You should insert a blank line after all the multi-line docstrings that are documenting a class.\n",
    "    - Should document the script's function, command line syntax, environment variables, and files.\n",
    "    - Module docstrings should list the classes, exceptions, and functions exported by the module.\n",
    "    - Package docstrings (understood as the docstring of the package's `__init__.py` module) should list the modules and subpackages exported by the package.\n",
    "    - Class docstrings should also summarize its behavior as well as document the public methods and instance variables.\n",
    "\n",
    "For example:\n",
    "> ```python\n",
    "> \n",
    "> def function_1(arg: str):\n",
    ">     \"\"\"This is a docstring in one line\"\"\"\n",
    ">     return arg\n",
    "> \n",
    "> \n",
    "> def function_2(arg: str):\n",
    ">     \"\"\"This is a ...\n",
    ">     docstring in multiple lines.\n",
    ">     \n",
    ">     Keyword arguments:\n",
    ">     arg arg: Returned value\n",
    ">     type arg: Str\n",
    ">     \"\"\"\n",
    ">     return arg\n",
    "> ```\n",
    "\n",
    "---"
   ]
  },
  {
   "cell_type": "markdown",
   "metadata": {},
   "source": [
    "### Docstrings formatting types\n",
    "\n",
    "There are two main docstring formatting types:\n",
    "- __reStructuredText__: The first type of formatting is called reStructuredText, and it's the official Python documentation standard explained and described in [PEP 287](https://peps.python.org/pep-0287/).\n",
    "- __Numpty/SciPty docstring__: Which is a combination of the [Google docstrings](https://google.github.io/styleguide/pyguide.html#38-comments-and-docstrings) format and the reStructuredText format.\n",
    "\n",
    "---"
   ]
  },
  {
   "cell_type": "markdown",
   "metadata": {},
   "source": [
    "### Document a project\n",
    "\n",
    "When documenting a Python project, depending on the nature of the project (i.e. private, shared, public, open source/public domain), you should first and foremost define its users and think about their needs. Creating a user persona may come in handy here as it will help you identify the ways the users will use your project.\n",
    "\n",
    "Generally, a project should contain the following documentation elements:\n",
    "- __readme.md__: Which provides a brief summary of the project, its purpose, and possibly some installation guidelines.\n",
    "- __examples.py__: File, which is a script that demonstrates a few examples of how to utilize the project.\n",
    "- __license__: In the form of a txt file (particularly important for Open Source and Public Domain projects).\n",
    "- __how to contribute__: File which provides information about the possible ways of contributing to the project (shared, open source, and public domain projects).\n",
    "---"
   ]
  },
  {
   "cell_type": "markdown",
   "metadata": {},
   "source": [
    "### Linters\n",
    "\n",
    "It's a tool that helps you write your code, because it analyzes it for any stylistic anomalies and programming errors against a set of pre-defined rules.\n",
    "\n",
    "In other words, it's a program that analyzes your code and reports such issues as structural and syntax errors, consistency breakups, and a lack of compatibility with best practices or code style guidelines such as PEP 8. \n",
    "\n",
    "The most popular linters are:\n",
    "- Flake8\n",
    "- Ruff\n",
    "- Pylint\n",
    "- Pyflakes\n",
    "- Pychecker\n",
    "- Mypy\n",
    "- Pycodestyle (formerly Pep8)\n",
    "---"
   ]
  },
  {
   "cell_type": "markdown",
   "metadata": {},
   "source": [
    "### Fixers\n",
    "\n",
    "Program that helps you fix these issues and format your code to be consistent with the adopted standards.\n",
    "\n",
    "The most popular fixers are:\n",
    "- Black\n",
    "- YAPF\n",
    "- autopep8\n",
    "---\n",
    "[< __GO BACK__](https://github.com/VCauthon/Summary-OpenEdg-Pyhon-PCPP1/blob/main/2.Best-Practices/Introduction.ipynb)"
   ]
  }
 ],
 "metadata": {
  "kernelspec": {
   "display_name": "Python 3",
   "language": "python",
   "name": "python3"
  },
  "language_info": {
   "codemirror_mode": {
    "name": "ipython",
    "version": 3
   },
   "file_extension": ".py",
   "mimetype": "text/x-python",
   "name": "python",
   "nbconvert_exporter": "python",
   "pygments_lexer": "ipython3",
   "version": "3.10.12"
  },
  "orig_nbformat": 4
 },
 "nbformat": 4,
 "nbformat_minor": 2
}
