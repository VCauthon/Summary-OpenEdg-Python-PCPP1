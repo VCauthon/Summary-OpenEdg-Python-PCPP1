{
 "cells": [
  {
   "cell_type": "markdown",
   "metadata": {},
   "source": [
    "## PEP 484 - Type Hints\n",
    "\n",
    "---"
   ]
  },
  {
   "cell_type": "markdown",
   "metadata": {},
   "source": [
    "### Introduction\n",
    "\n",
    "Feature that makes it possible for you to use the Python built-in typing module to __provide type hint information__ in your code in order to leave certain suggestions, mark certain possible problems that may come up in the development process, and label specific names with type information.\n",
    "\n",
    "In a nutshell, type hinting allows you to __statically indicate__ the `type` information related to Python objects, which means that you can, for example, add type information to a function – indicate the type of an argument the function accepts, or the type of the value it will return.\n",
    "\n",
    "Look at the following examples:"
   ]
  },
  {
   "cell_type": "code",
   "execution_count": null,
   "metadata": {},
   "outputs": [],
   "source": [
    "# No type information added:\n",
    "def hello(name):\n",
    "    return \"Hello, \" + name\n",
    "\n",
    "\n",
    "# Type information added to a function:\n",
    "def hello(name: str) -> str:\n",
    "    return \"Hello, \" + name"
   ]
  },
  {
   "cell_type": "markdown",
   "metadata": {},
   "source": [
    "In the second example, the str annotation, which indicates that __the name argument passed to the `hello()` function should be of type str__ helps us minimize the risk of certain (un)expected situations – it reduces the risk of passing a wrong type of value to the function. __The -> str annotation indicates, too, that the `hello()` function will return a value of type str__, which of course is a string.\n",
    "\n",
    "---"
   ]
  }
 ],
 "metadata": {
  "kernelspec": {
   "display_name": "Python 3",
   "language": "python",
   "name": "python3"
  },
  "language_info": {
   "codemirror_mode": {
    "name": "ipython",
    "version": 3
   },
   "file_extension": ".py",
   "mimetype": "text/x-python",
   "name": "python",
   "nbconvert_exporter": "python",
   "pygments_lexer": "ipython3",
   "version": "3.10.12"
  },
  "orig_nbformat": 4
 },
 "nbformat": 4,
 "nbformat_minor": 2
}
