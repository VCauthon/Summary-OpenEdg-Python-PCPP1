{
 "cells": [
  {
   "cell_type": "markdown",
   "metadata": {},
   "source": [
    "# PEP 1 - PEP Purpose and Guidelines\n",
    "---\n",
    "[< __GO BACK__](https://github.com/VCauthon/Summary-OpenEdg-Pyhon-PCPP1/blob/main/2.Best-Practices/Introduction.ipynb)"
   ]
  },
  {
   "cell_type": "markdown",
   "metadata": {},
   "source": [
    "### What is a PEP?\n",
    "\n",
    "__PEP__ stands for __Python Enhancement Proposals__ and is an online document that summarizes the language standards and provides information on many changes and processes related to Python.\n",
    "\n",
    "> Simply speaking, if a new feature is planned to be added to Python, it will be detailed in a PEP along with the technical specifications and the rationale for its implementation.\n",
    "\n",
    "There are several editions of the PEP where the evolution of Python is indicated. Starting with [PEP 0 which is the index of all proposals](https://peps.python.org/).\n",
    "\n",
    "To read all the PEPs can be a titanic task, for that reason, the most remarkable editions are indicated below:\n",
    "- __PEP 1__: PEP Purpose and Guidelines, which provides information on the purpose of PEPs, their types and introduces general guidelines.\n",
    "- __PEP 8__: Python Code Style Guide, which gives conventions and presents best practices for coding in Python.\n",
    "- __PEP 20__: The Zen of Python, which presents a list of principles for Python design.\n",
    "- __PEP 257__: Docstring Conventions, which provides guidelines for the conventions and semantics associated with Python docstrings.\n",
    "\n",
    "__NOTE__: We encourage you to dive into PEPs on your own. We're sure you'll become increasingly curious about them as your programming experience and knowledge grows.\n",
    "\n",
    "---"
   ]
  },
  {
   "cell_type": "markdown",
   "metadata": {},
   "source": [
    "### Types of PEPs\n",
    "\n",
    "Since several Python-related topics are covered in the PEPs each edition counts is of a particular type.\n",
    "\n",
    "The types are as follows:\n",
    "- __Standards Track__: New language features and implementations\n",
    "- __Informational__: Improvements detected:\n",
    "    - Design issues\n",
    "    - Guidelines\n",
    "    - Information to the Python community\n",
    "- __Process__: Processes that revolve around Python\n",
    "    - Propose changes\n",
    "    - Recommendations\n",
    "    - Specify certain procedures\n",
    "    - Etc...\n",
    "\n",
    "### \n",
    "\n",
    "---"
   ]
  },
  {
   "cell_type": "markdown",
   "metadata": {},
   "source": [
    "### Creating a PEP\n",
    "\n",
    "If you have a new (brilliant) idea for Python, you are more than welcome to become your PEP’s champion, i.e., the one who writes a PEP proposal, puts it up for discussion in subject-related forums, and tries to reach a community consensus over it.\n",
    "\n",
    "PEP formats, templates, and the submission process (including reporting bugs and submitting updates) as well as the subsequent stages: review, resolution, and maintenance, are all described in detail within [PEP 1 – PEP Purpose and Guidelines](https://peps.python.org/pep-0001/#start-with-an-idea-for-python). Feel free to quickly browse through it – you never know when you’re going to need it!\n",
    "\n",
    "---\n",
    "\n",
    "\n",
    "\n"
   ]
  },
  {
   "cell_type": "markdown",
   "metadata": {},
   "source": [
    "### Last but not least\n",
    "\n",
    "PEP 1 Defines:\n",
    "\n",
    "- __Python’s Steering Council__: A five-person committee and the final authorities who accept or reject PEPs;\n",
    "- __Python’s Core Developers__: The group of volunteers who manage Python, and;\n",
    "- __Python’s BDFL__: Guido van Rossum, the original creator of Python, who served as the project’s Benevolent Dictator For Life until 2018, when he resigned from the decision-making process.\n",
    "\n",
    "---\n",
    "[< __GO BACK__](https://github.com/VCauthon/Summary-OpenEdg-Pyhon-PCPP1/blob/main/2.Best-Practices/Introduction.ipynb)"
   ]
  }
 ],
 "metadata": {
  "kernelspec": {
   "display_name": "Python 3",
   "language": "python",
   "name": "python3"
  },
  "language_info": {
   "codemirror_mode": {
    "name": "ipython",
    "version": 3
   },
   "file_extension": ".py",
   "mimetype": "text/x-python",
   "name": "python",
   "nbconvert_exporter": "python",
   "pygments_lexer": "ipython3",
   "version": "3.10.12"
  },
  "orig_nbformat": 4
 },
 "nbformat": 4,
 "nbformat_minor": 2
}
