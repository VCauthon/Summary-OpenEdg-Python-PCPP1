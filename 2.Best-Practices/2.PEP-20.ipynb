{
 "cells": [
  {
   "cell_type": "markdown",
   "metadata": {},
   "source": [
    "# PEP 20 - The Zen of Python\n",
    "---\n",
    "[< __GO BACK__](https://github.com/VCauthon/Summary-OpenEdg-Pyhon-PCPP1/blob/main/2.Best-Practices/Introduction.ipynb)"
   ]
  },
  {
   "cell_type": "markdown",
   "metadata": {},
   "source": [
    "### Tim Peters\n",
    "\n",
    "Tim Peters, a long time major contributor to the Python programming language and Python community, wrote this 19-line poem on the Python mailing list in 1999, and it became entry [#20](https://peps.python.org/pep-0020/) in the Python Enhancement Proposals in 2004.\n",
    "\n",
    "In this course we will go into detail about each verse, however, first we must see the poem.\n",
    "\n",
    "This importing __this__:\n"
   ]
  },
  {
   "cell_type": "code",
   "execution_count": 1,
   "metadata": {},
   "outputs": [
    {
     "name": "stdout",
     "output_type": "stream",
     "text": [
      "The Zen of Python, by Tim Peters\n",
      "\n",
      "Beautiful is better than ugly.\n",
      "Explicit is better than implicit.\n",
      "Simple is better than complex.\n",
      "Complex is better than complicated.\n",
      "Flat is better than nested.\n",
      "Sparse is better than dense.\n",
      "Readability counts.\n",
      "Special cases aren't special enough to break the rules.\n",
      "Although practicality beats purity.\n",
      "Errors should never pass silently.\n",
      "Unless explicitly silenced.\n",
      "In the face of ambiguity, refuse the temptation to guess.\n",
      "There should be one-- and preferably only one --obvious way to do it.\n",
      "Although that way may not be obvious at first unless you're Dutch.\n",
      "Now is better than never.\n",
      "Although never is often better than *right* now.\n",
      "If the implementation is hard to explain, it's a bad idea.\n",
      "If the implementation is easy to explain, it may be a good idea.\n",
      "Namespaces are one honking great idea -- let's do more of those!\n"
     ]
    }
   ],
   "source": [
    "import this"
   ]
  },
  {
   "cell_type": "markdown",
   "metadata": {},
   "source": [
    "---"
   ]
  },
  {
   "cell_type": "markdown",
   "metadata": {},
   "source": [
    "### Dissecting the Zen of Python\n",
    "\n",
    "From each of the verses a lesson can be drawn, at this point we will dissect each message into programming tips.\n",
    "\n",
    "- Beautiful is better than ugly.\n",
    "    - Make the code more readable > `79 characters maximum`.\n",
    "- Explicit is better than implicit.\n",
    "    - Avoid interpretation of the code by explicitly indicating that it will be used > `import concrete functionality and use of arguments` > `import concrete functionality and use of arguments`.\n",
    "- Simple is better than complex.\n",
    "    - Understand your tools to generate simple solutions > `Less lines of code`.\n",
    "- Complex is better than complicated.\n",
    "    - Better to generate one complex solution than several simple ones that turn into one complicated one > `Repetition of code is the evil` > `Repetition of code is the evil` > `Repetition of code is the evil` > `Simple is better than nested.\n",
    "- Flat is better than nested.\n",
    "    - Control the number of validations performed > `Not more than 3 if`.\n",
    "- Sparse is better than dense.\n",
    "    - Avoid concentrating too much code in one line > `If it can be read better make more lines`.\n",
    "- Readability counts.\n",
    "    - Code is read more often than it is written > `Let the declared elements have a meaning` > `Special cases aren't special enough to be read > `Special cases aren't special enough to be read\n",
    "- Special cases aren't special enough to break the rules.\n",
    "    - Do not get carried away by the pressure of the moment and `respect standards and conventions`.\n",
    "- Although practicality beats purity.\n",
    "    - If the situation involves breaking some rule, break it (e.g., I want to make a sysout of a string that has 85 letters, but the standard only allows me 79, so yes, it is necessary to break that rule).\n",
    "- Errors should never pass silently.\n",
    "    - A program that crashes is easier to debug than a program that silences an error. > `don't use except Exception`\n",
    "- Unless explicitly silenced.\n",
    "    - there may be situations where you don’t want to shout “Hey! There’s an error!” > `just don't use Exception`\n",
    "- In the face of ambiguity, refuse the temptation to guess.\n",
    "    - what you assume to be the most common may turn out to be the least common > `explicitly tell what you need`\n",
    "- There should be one-- and preferably only one --obvious way to do it.\n",
    "    - everything has a clear purpose > `set the conventions with the team and each function has one clear responsibility`\n",
    "- Although that way may not be obvious at first unless you're Dutch.\n",
    "    - one obvious way to do something may not necessarily be obvious at first\n",
    "- Now is better than never.\n",
    "    - You should not put off till tomorrow what you can do today.\n",
    "- Although never is often better than *right* now.\n",
    "    - not to forget about the proper balance\n",
    "- If the implementation is hard to explain, it's a bad idea.\n",
    "    - f you find it difficult to explain its features and functionality, it may be a signal that maybe your idea should be thought over again and digested\n",
    "- If the implementation is easy to explain, it may be a good idea.\n",
    "    - Keep things simple; the simpler, the better\n",
    "- Namespaces are one honking great idea -- let's do more of those!\n",
    "    - avoid conflicts with already existing names > `BAD IDEA: from instruments.guitars import fender, ibanez GOOD IDEA: from instruments import guitars`\n",
    "\n",
    "---\n",
    "[< __GO BACK__](https://github.com/VCauthon/Summary-OpenEdg-Pyhon-PCPP1/blob/main/2.Best-Practices/Introduction.ipynb)"
   ]
  }
 ],
 "metadata": {
  "kernelspec": {
   "display_name": "Python 3",
   "language": "python",
   "name": "python3"
  },
  "language_info": {
   "codemirror_mode": {
    "name": "ipython",
    "version": 3
   },
   "file_extension": ".py",
   "mimetype": "text/x-python",
   "name": "python",
   "nbconvert_exporter": "python",
   "pygments_lexer": "ipython3",
   "version": "3.10.12"
  },
  "orig_nbformat": 4
 },
 "nbformat": 4,
 "nbformat_minor": 2
}
