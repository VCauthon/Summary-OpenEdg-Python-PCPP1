{
 "cells": [
  {
   "cell_type": "markdown",
   "metadata": {},
   "source": [
    "# PEP 8 - Coding conventions\n",
    "---\n",
    "[< __GO BACK__](https://github.com/VCauthon/Summary-OpenEdg-Pyhon-PCPP1/blob/main/2.Best-Practices/Introduction.ipynb)"
   ]
  },
  {
   "cell_type": "markdown",
   "metadata": {},
   "source": [
    "### Introduction\n",
    "\n",
    "PEP 8 is considered one of the most important PEPs and a must-read for every professional Python programmer, as it helps to make the code more consistent, more readable, and more efficient.\n",
    "\n",
    "Even though some programming projects may adopt their own style guidelines (in which case such project-specific guidelines may be favored over the conventions provided for by PEP 8, especially in the case of any conflicts, or backwards-compatibility issues), the PEP 8 best practices are still highly recommended reading, as they help you to better understand the philosophy behind Python and become a more aware and proficient programmer.\n",
    "\n",
    "When should you ignore some specific PEP 8 guidelines (or at least consider doing so)?\n",
    "\n",
    "- If following them will mean that you break backwards compatibility.\n",
    "- If following them will have a negative effect on code readability.\n",
    "- If following them will cause inconsistency with the rest of the code. (However, this may be a good opportunity to rewrite the code and make it PEP 8 compliant.)\n",
    "- If there is no good reason for making the code PEP 8 compliant, or the code predates PEP 8.\n",
    "\n",
    "---"
   ]
  },
  {
   "cell_type": "markdown",
   "metadata": {},
   "source": [
    "### PEP 8 compliant checkers\n",
    "\n",
    "There are many useful tools that can help you validate your code style and check it against PEP 8 style conventions.\n",
    "\n",
    "Some of the most popular ones are:\n",
    "\n",
    "- [pycodestyle](https://pypi.org/project/pycodestyle/) (formerly known as pep8)\n",
    "    - You can run it on a file or files to obtain information about non-conformance (and indicate errors in the source code and their frequency).\n",
    "- [autopep8](https://pypi.org/project/autopep8/)\n",
    "    - You can run it on a file or files to automatically fix some of the non-conformance issues (it uses pycodestyle).\n",
    "- pep8online\n",
    "    - You can use it to check your code online.\n",
    "\n",
    "---"
   ]
  },
  {
   "cell_type": "markdown",
   "metadata": {},
   "source": [
    "### Indentation\n",
    "\n",
    "The indentation level, understood as the leading whitespace (i.e., spaces and tabs) at the beginning of each logical line, is used to group statements.\n",
    "\n",
    "When writing code in Python, you should remember to follow these two simple rules:\n",
    "\n",
    "- Use four spaces per indentation level\n",
    "- Use spaces rather than tabs\n",
    "\n",
    "__NOTE__: Mixing tabs and spaces for indentation is not allowed in Python 3 (this will raise a TabError exception).\n"
   ]
  },
  {
   "cell_type": "code",
   "execution_count": 5,
   "metadata": {},
   "outputs": [],
   "source": [
    "### BAD\n",
    "\n",
    "def print_something_1(arg: str):\n",
    "    print(f\"The received parameter is: {arg}\")\n",
    "\n",
    "\n",
    "def print_something_2(arg: str):\n",
    "  print(f\"The received parameter is: {arg}\")\n",
    "#! ^ 2 spaces instead of 4\n"
   ]
  },
  {
   "cell_type": "code",
   "execution_count": 4,
   "metadata": {},
   "outputs": [],
   "source": [
    "### GOOD\n",
    "\n",
    "def print_something_1(arg: str):\n",
    "    print(f\"The received parameter is: {arg}\")\n",
    "\n",
    "\n",
    "def print_something_2(arg: str):\n",
    "    print(f\"The received parameter is: {arg}\")"
   ]
  },
  {
   "cell_type": "markdown",
   "metadata": {},
   "source": [
    "---"
   ]
  },
  {
   "cell_type": "markdown",
   "metadata": {},
   "source": [
    "### Continuation lines\n",
    "\n",
    "Continuation lines (i.e., logical lines of code that you want to split because they’re too long or because you want to improve readability) are allowed if using parentheses/brackets/braces:\n",
    "\n",
    "\n"
   ]
  },
  {
   "cell_type": "code",
   "execution_count": 7,
   "metadata": {},
   "outputs": [
    {
     "name": "stdout",
     "output_type": "stream",
     "text": [
      "The received parameters are:\n",
      "- hi\n",
      "- how\n",
      "- are\n",
      "- you\n",
      "- doing\n",
      "- ?\n"
     ]
    }
   ],
   "source": [
    "### BAD\n",
    "\n",
    "\n",
    "GLOBAL_VARIABLE = [1, 2, 3,\n",
    "    4, 5, 6,\n",
    "    7, 8, 9,\n",
    "    10\n",
    "]\n",
    "\n",
    "\n",
    "def print_something(arg1: str, arg2: str, arg3: str,\n",
    "                    arg4: str, arg5: str, arg6: str):\n",
    "    print(\"The received parameters are:\")\n",
    "    for arg in [arg1, arg2, arg3, arg4, arg5, arg6]:\n",
    "        print(f\"- {arg}\")\n",
    "\n",
    "\n",
    "print_something(\"hi\", \"how\", \"are\", \"you\", \"doing\", \"?\")\n"
   ]
  },
  {
   "cell_type": "code",
   "execution_count": 8,
   "metadata": {},
   "outputs": [
    {
     "name": "stdout",
     "output_type": "stream",
     "text": [
      "The received parameters are:\n",
      "- hi\n",
      "- how\n",
      "- are\n",
      "- you\n",
      "- doing\n",
      "- ?\n"
     ]
    }
   ],
   "source": [
    "### GOOD\n",
    "\n",
    "\n",
    "GLOBAL_VARIABLE = [\n",
    "    1, 2, 3,\n",
    "    4, 5, 6,\n",
    "    7, 8, 9,\n",
    "    10\n",
    "]\n",
    "\n",
    "\n",
    "def print_something(\n",
    "        arg1: str, arg2: str, arg3: str,\n",
    "        arg4: str, arg5: str, arg6: str):\n",
    "    print(\"The received parameters are:\")\n",
    "    for arg in [arg1, arg2, arg3, arg4, arg5, arg6]:\n",
    "        print(f\"- {arg}\")\n",
    "\n",
    "\n",
    "print_something(\n",
    "    \"hi\", \"how\", \"are\",\n",
    "    \"you\", \"doing\", \"?\")\n"
   ]
  },
  {
   "cell_type": "markdown",
   "metadata": {},
   "source": [
    "---"
   ]
  },
  {
   "cell_type": "markdown",
   "metadata": {},
   "source": [
    "### Maximum Line Length and Line Breaks\n",
    "\n",
    "If possible, you should __limit all lines to a maximum of 79 characters__ as this will help you avoid wrapping several lines of code. If line wrapping is inevitable, use Python’s implied line continuation from the previous page.\n",
    "\n",
    "__NOTE__: In case of __docstrings and comments__, the limit is __72 characters__.\n",
    "\n",
    "---"
   ]
  },
  {
   "cell_type": "markdown",
   "metadata": {},
   "source": [
    "### Line breaks and operators\n",
    "\n",
    "It is recommended that you follow Donald Knuth’s style suggestions and __break before binary operators__ as this results in a more readable, eye-friendly code.\n"
   ]
  },
  {
   "cell_type": "code",
   "execution_count": 9,
   "metadata": {},
   "outputs": [],
   "source": [
    "# BAD\n",
    "\n",
    "total_values = (1 +\n",
    "                2 +\n",
    "                3 +\n",
    "                4 +\n",
    "                5 - (1 + 4))"
   ]
  },
  {
   "cell_type": "code",
   "execution_count": 10,
   "metadata": {},
   "outputs": [],
   "source": [
    "# GOOD\n",
    "\n",
    "total_values = (1\n",
    "                + 2\n",
    "                + 3\n",
    "                + 4\n",
    "                + 5\n",
    "                - (1 + 4))"
   ]
  },
  {
   "cell_type": "markdown",
   "metadata": {},
   "source": [
    "---"
   ]
  },
  {
   "cell_type": "markdown",
   "metadata": {},
   "source": [
    "### Blank Lines\n",
    "\n",
    "Blank lines, called vertical whitespaces, improve the readability of your code.\n",
    "\n",
    "They allow the person reading your code to see the division of the code into sections, help them better understand the relation between the sections, and grasp the logic of given blocks of code more easily.\n",
    "\n",
    "PEP 8 recommends that you should use:\n",
    "\n",
    "- __1 blank line__:\n",
    "    - To surround methods definitions inside classes.\n",
    "    - In functions, to indicate logical sections.\n",
    "- __2 blank lines__:\n",
    "    - To surround top-level functions and class definitions.\n",
    "\n",
    "---"
   ]
  },
  {
   "cell_type": "markdown",
   "metadata": {},
   "source": [
    "### Default encodings\n",
    "\n",
    "It is recommended that you use Python’s default encodings. Non-default encodings are discouraged and should only be used for test purposes or in situations where your comments or docstrings use a name (e.g., an author’s name) that contains a non-ASCII character.\n",
    "\n",
    "These are the default encodings by Python version:\n",
    "- __Python 3.x__: UTF-8\n",
    "- __Python 2.x__: ASCII\n",
    "\n",
    "---"
   ]
  },
  {
   "cell_type": "markdown",
   "metadata": {},
   "source": [
    "### Imports\n",
    "\n",
    "You should always put imports at the beginning of your script, between module comments/docstrings and module globals and constants, respecting the following order:\n",
    "\n",
    "1. Standard library imports;\n",
    "2. Related third-party imports;\n",
    "3. Local application/library specific imports.\n",
    "\n",
    "PEP 8 recommends that your __imports be on separate lines__, rather than squeezed onto one line:\n",
    "\n",
    "> ```python\n",
    "> # Bad\n",
    "> \n",
    "> import os, sys\n",
    "> \n",
    "> # Good\n",
    "> \n",
    "> import os\n",
    "> import sys\n",
    "> ```\n",
    "\n",
    "However it's __correct to import multiple classes from a module on the same line__:\n",
    "\n",
    "> ```python\n",
    "> \n",
    "> from fruits import Apple, Banana, Pear\n",
    "> \n",
    "> ```\n",
    "\n",
    "Its possible to import using __absolute imports__:\n",
    "\n",
    "> ```python\n",
    "> \n",
    "> import fruit.Apple\n",
    "> \n",
    "> ```\n",
    "\n",
    "And avoid using wildcards into the imports:\n",
    "\n",
    "> ```python\n",
    "> \n",
    "> from fruit import *\n",
    "> \n",
    "> ```\n",
    "\n",
    "---"
   ]
  },
  {
   "cell_type": "markdown",
   "metadata": {},
   "source": [
    "### String quotes\n",
    "\n",
    "Python allows us to use single-quoted (e.g., `'a string'`) and double-quoted (e.g., `\"a string\"`) strings. __They’re the same__.\n",
    "\n",
    "PEP 8 recommends that you __always use double-quote characters__.\n",
    "In exception, PEP 8 recommends that you should try to __avoid using backslashes__ (escape characters) in strings this means that:\n",
    " - If your string contains single-quote characters, it’s recommended that you use double-quoted strings;\n",
    "    - `print(\"It's a string\")`\n",
    " - If your string contains double-quote characters, it’s recommended that you use single-quoted strings.\n",
    "    - `print('He said \"Hello\"')`\n",
    "\n",
    "---\n"
   ]
  },
  {
   "cell_type": "markdown",
   "metadata": {},
   "source": [
    "### Whitespace in expressions and statements\n",
    "\n",
    "Generally, __you should avoid using too much whitespace__, as it makes your code difficult to follow.\n",
    "\n",
    "So, for example, do not use excessive whitespace immediately:\n",
    "- Inside __parentheses/brackets/braces__\n",
    "    - Bad example: `print( \"hi\" )`\n",
    "    - Good example: `print(\"hi\")`\n",
    "- Before __comma/semicolon/colon__\n",
    "    - Bad example: `(1 , 2 , 3)`\n",
    "    - Good example: `(1, 2, 3)`\n",
    "- Before or after in __slices__\n",
    "    - Bad example: `[1 : 2]`\n",
    "    - Good example: `[1:2]`\n",
    "- Don't use more than one space\n",
    "    - Bad example: `a  =  1`\n",
    "    - Good example: `a = 1`\n",
    "- Surround binary operators with a single space on both sides.\n",
    "    - Bad example: `a=1+2`\n",
    "    - Good example: `a = 1 + 2`\n",
    "- Don't surround the `=` operator with spaces when used to indicate a keyword argument or a default parameter value\n",
    "    - Bad example: `def my_func( a = 0 ):`\n",
    "    - Good example: `def my_func(a=0):`\n",
    "\n",
    "A full example:\n",
    "\n",
    "> ```python\n",
    "> \n",
    "> # Bad:\n",
    "> \n",
    "> my_list = ( dog[ 2 ] , 5 , { \"year\": 1980 } , \"string\" )\n",
    "> #          ^        ^   ^   ^            ^ ^          ^\n",
    "> if 5 in my_list : print( \"Hello!\" ) ; print( \"Goodbye!\" )\n",
    "> #              ^        ^        ^ ^        ^          ^       \n",
    "> # ^: Wrong spacing\n",
    "> \n",
    "> # Good:\n",
    "> \n",
    "> my_list = (dog[2], 5, {\"year\": 1980}, \"string\")\n",
    "> if 5 in my_list: print(\"Hello!\"); print(\"Goodbye!\")\n",
    "> \n",
    "> ```\n",
    "\n",
    "---"
   ]
  },
  {
   "cell_type": "markdown",
   "metadata": {},
   "source": [
    "\n",
    "### Comments\n",
    "\n",
    "There are a few rules you should follow when leaving comments in code:\n",
    "- __Online comments__: \n",
    "    - Write comments that will not contradict the code or mislead the reader.\n",
    "    - Update your comments when your program gets updated.\n",
    "    - Write comments as complete sentences\n",
    "    - When writing block comments with multi-sentence comments, use two spaces after each full stop ending a sentence, except after the final sentence.\n",
    "    - Write comments in English\n",
    "    - Comments should consist of no more than 72 characters per line\n",
    "- __Inline comments__:\n",
    "    - Further explanation to a single line of code or a single statement\n",
    "    - Separated by two (or more) spaces from the statement they address.\n",
    "    - Used sparingly.\n",
    "- __Block comments__:\n",
    "    - Explain sections of code rather than particular lines.\n",
    "    - Should refer to the code that follows them.\n",
    "    - Should be indented to the same level as the code they describe.\n",
    "\n",
    "---"
   ]
  },
  {
   "cell_type": "markdown",
   "metadata": {},
   "source": [
    "### Naming conventions\n",
    "\n",
    "Python naming conventions are, unfortunately, not fully consistent throughout the Python library. However, it is recommended that new modules and packages be written in compliance with the PEP 8 naming recommendations (unless an existing library follows a different style, in which case internal consistency is the preferred solution).\n",
    "\n",
    "Naming styles:\n",
    "- `mysamplename` - Lowercase\n",
    "- `my_sample_name` - Lowercase with underscores (snake_case)\n",
    "- `MYSAMPLENAME` - Uppercase\n",
    "- `MY_SAMPLE_NAME` - Uppercase with underscores (SNAKE_CASE)\n",
    "- `MySampleName` - CamelCase (also known as capitalized words, StudlyCaps, or CapWords)\n",
    "    - __NOTE__: When you use acronyms, you should capitalize all the letters that make up the acronym, e.g., `HTTPServerError`\n",
    "- `mySampleName` - Mixed case, which actually differs from CamelCase only by having an initial lowercase character\n",
    "- `My_Sample_Name` - Capitalized words with underscores (considered ugly by PEP 8)\n",
    "- `_my_sample_name` - A name that starts with a single leading underscore indicates a weak \"internal use\".\n",
    "    - __NOTE__: The instruction ```from SAMPLE import *``` will not import objects whose names start with an underscore.\n",
    "- `my_sample_name_` - A single trailing underscore is used by convention in order to avoid any conflicts with Python keywords, e.g., `class_`\n",
    "- `__my_sample_name` - A name that starts with a double leading underscore is used for class attributes where it invokes name mangling.\n",
    "    - __NOTE__: inside the class `MySampleClass`, `__room` will become `_MySampleClass__room`.\n",
    "- `__my_sample_name__` - A name that starts and ends with a double underscore is used for \"magic\" objects and attributes that reside in user-controlled namespaces, e.g., `__init__`, `__import__`, or `__file__`. You shouldn't create such names, but only use them as documented.\n",
    "\n",
    "\n",
    "PEP8 naming conventions:\n",
    "- __Lowercase__:\n",
    "    - Package names - `my_package`\n",
    "- __Lowercase with underscores (snake_case)__:\n",
    "    - Variables - `my_variable`\n",
    "    - Functions - `my_function`\n",
    "    - Methods - `my_method` (the first argument must be called self or cls)\n",
    "    - Modules - `my_module.py`\n",
    "- __CamelCase__:\n",
    "    - Classes - `MyClass`\n",
    "    - Exceptions - `MyError`\n",
    "    - Type variables - `Str`\n",
    "- __Uppercase__:\n",
    "    - Constants - `MY_CONSTANT`\n",
    "\n",
    "---"
   ]
  },
  {
   "cell_type": "markdown",
   "metadata": {},
   "source": [
    "### Programming recommendations\n",
    "\n",
    "There are often multiple ways of writing code that will perform the same action in Python, however PEP 8, again, imposes certain conventions and provides tips as to how you should follow the best programming practices to avoid ambiguity.\n",
    "\n",
    "Here they are:\n",
    "- Make comparisons to the `None` object with the use of `is` or `is not`, not with the (in)equality operators (`==` and `!=`), e.g.:\n",
    "    - Bad example: `if var == None:`\n",
    "    - Good example: `if var is None:`\n",
    "- Do not use the (in)equality operators when comparing Boolean values to True or False. Again, use `is` or `is not` instead:\n",
    "    - Bad example: `if greeting == False:`\n",
    "    - Good example: `if greeting is False:`\n",
    "    - Even better example: `if not greeting:`\n",
    "- For readability purposes, use the `is not` operator instead of not `... is`:\n",
    "    - Bad example: `if not greeting is False:`\n",
    "    - Good example: `if greeting is not False:`\n",
    "- When checking for prefixes or suffixes, use the `''.startswith()` and `''.endswith()` string methods, as they’re cleaner and less error prone. Generally, it’s better to use string methods over importing the string module.\n",
    "    - Bad example: `if foo[:3] == 'bar':`\n",
    "    - Good example: `if foo.startswith('bar'):`\n",
    "\n",
    "\n",
    "---\n",
    "[< __GO BACK__](https://github.com/VCauthon/Summary-OpenEdg-Pyhon-PCPP1/blob/main/2.Best-Practices/Introduction.ipynb)"
   ]
  },
  {
   "cell_type": "markdown",
   "metadata": {},
   "source": []
  }
 ],
 "metadata": {
  "kernelspec": {
   "display_name": "Python 3",
   "language": "python",
   "name": "python3"
  },
  "language_info": {
   "codemirror_mode": {
    "name": "ipython",
    "version": 3
   },
   "file_extension": ".py",
   "mimetype": "text/x-python",
   "name": "python",
   "nbconvert_exporter": "python",
   "pygments_lexer": "ipython3",
   "version": "3.10.12"
  },
  "orig_nbformat": 4
 },
 "nbformat": 4,
 "nbformat_minor": 2
}
