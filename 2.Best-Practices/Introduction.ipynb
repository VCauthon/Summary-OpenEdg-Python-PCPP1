{
 "cells": [
  {
   "cell_type": "markdown",
   "metadata": {},
   "source": [
    "## An overview of the OpenEdg material can be found in [edube.org](https://edube.org/study/pcpp1-2).\n",
    "\n",
    "All the topics that we will cover in this course are listed below:\n",
    "1. [__Introduction to PEP__](https://github.com/VCauthon/Summary-OpenEdg-Pyhon-PCPP1/blob/main/2.Best-Practices/1.Introduction-PEPs/Material.ipynb):\n",
    "    + What is PEP?\n",
    "    + Coding conventions (code layout, style, naming, comments, etc.)\n",
    "2. [__PEP 20__](https://github.com/VCauthon/Summary-OpenEdg-Pyhon-PCPP1/blob/main/2.Best-Practices/2.PEP-20/Material.ipynb):\n",
    "    + The Zen of Python\n",
    "3. [__PEP 8__](https://github.com/VCauthon/Summary-OpenEdg-Pyhon-PCPP1/blob/main/2.Best-Practices/3.PEP-8/Material.ipynb):\n",
    "    + Style Guide for Python Code\n",
    "4. [__PEP 257__](https://github.com/VCauthon/Summary-OpenEdg-Pyhon-PCPP1/blob/main/2.Best-Practices/4.PEP-257/Material.ipynb):\n",
    "    + Docstring Conventions\n",
    "5. [__Other PEPs__](https://github.com/VCauthon/Summary-OpenEdg-Pyhon-PCPP1/blob/main/2.Best-Practices/5.PEP-484/Material.ipynb):\n",
    "    + A quick tour of other important PEPs\n",
    "\n",
    "## [__Questions to test your skills__](https://quizlet.com/es/844155003/2best-practices-and-standardization-flash-cards/)\n",
    "\n",
    "[< __GO BACK__](/README.md)"
   ]
  }
 ],
 "metadata": {
  "language_info": {
   "name": "python"
  },
  "orig_nbformat": 4
 },
 "nbformat": 4,
 "nbformat_minor": 2
}
