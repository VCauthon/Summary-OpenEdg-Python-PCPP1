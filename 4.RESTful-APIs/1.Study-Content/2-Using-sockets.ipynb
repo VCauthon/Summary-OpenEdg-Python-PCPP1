{
 "cells": [
  {
   "attachments": {
    "image.png": {
     "image/png": "[encoded data removed]"
    }
   },
   "cell_type": "markdown",
   "metadata": {},
   "source": [
    "## Fetching documents throw a socket\n",
    "\n",
    "To ground the concepts covered in the previous point about the basics of the REST solution we are going to move on to the code, specifically, we are going to develop a solution to retrieve a file from a remote server through the use of python.\n",
    "\n",
    "This solution will connect to a web page to retrieve its `HTML` document.\n",
    "\n",
    "This will be achieved in the following way:\n",
    "1. The script will have an `input()` for the user to provide the web address\n",
    "2. A new `socket` will be created to handle a _connection-orientation_ based on `TCP`\n",
    "3. A request will be made to ask the server for the document.\n",
    "4. Monitor the response sent from the server\n",
    "5. Terminate the `socket`\n",
    "6. The whole document is displayed on the screen\n",
    "\n",
    "![Diagrama](attachment:image.png)\n",
    "\n",
    "---\n"
   ]
  },
  {
   "cell_type": "markdown",
   "metadata": {},
   "source": [
    "## Creating the socket\n",
    "\n",
    "To generate the socket we are going to rely on a python build-in library called __socket__.\n",
    "\n",
    "This module contains all the functionality needed to generate sockets, however, we will only focus on the ones used to make a TCP/IP connection in order to generate a connection via REST.\n",
    "\n",
    "Socket has a main class called Socket which encapsulates all the basic actions related to the behaviour of a socket. This means that the first step to generate a socket would be to instantiate this class.\n"
   ]
  },
  {
   "cell_type": "code",
   "execution_count": 1,
   "metadata": {},
   "outputs": [],
   "source": [
    "import socket\n",
    "\n",
    "obj_socket = socket.socket(socket.AF_INET, socket.SOCK_STREAM)"
   ]
  },
  {
   "cell_type": "markdown",
   "metadata": {},
   "source": [
    "The arguments received by the socket object may be familiar from [previous section](./1-Basic-Concepts.ipynb).\n",
    "\n",
    "Let's go in detail:\n",
    "- __First argument__: Receives the socket domain, which could be internal (`UNIX`) or external (`INET`).\n",
    "- __Second argument__: Indicates which device will be used to transfer the information (byte by byte).\n",
    "\n",
    "---"
   ]
  },
  {
   "cell_type": "markdown",
   "metadata": {},
   "source": [
    "## Setting a connection\n",
    "\n",
    "Now we would have a socket on the client side, however, the client must connect somewhere in order to request the HTML document.\n",
    "\n",
    "> __MATIZ__: Server-side sockets are more complex as they must be able to respond to multiple requests from different clients.\n",
    "\n",
    "In order for our socket to initialise a connection against the server we will use the `connect()` method, which tries to establish a connection against another socket, so (and for our particular case of connection over an INET domain) we will need the IP address and the port.\n",
    "\n",
    "We will therefore include the following to our socket:"
   ]
  },
  {
   "cell_type": "code",
   "execution_count": 2,
   "metadata": {},
   "outputs": [],
   "source": [
    "import socket\n",
    "\n",
    "webpage, port = \"www.pythoninstitute.org\", 80  # 80 it's a service number to connect into a web\n",
    "obj_socket = socket.socket(socket.AF_INET, socket.SOCK_STREAM) \n",
    "obj_socket.connect((webpage, port))  # Yes its a tuple"
   ]
  },
  {
   "cell_type": "markdown",
   "metadata": {},
   "source": [
    "> __NOTE__: The connection against a remote socket can go wrong for different reasons (no connection, the server has a problem, etc ...) so, let's assume that the code works and does not raise any exception (yes, even if it does).\n",
    "\n",
    "Although ... now our socket has a connection against a remote server and now ... what should it do to be able to request the document ? Well ... talk to it in `HTTP`.\n",
    "\n",
    "---"
   ]
  },
  {
   "cell_type": "markdown",
   "metadata": {},
   "source": [
    "## HTTP protocol\n",
    "\n",
    "The HTTP protocol is based on requests sent by a client and responses generated from a server. This protocol defines different methods (or HTTP words) for requesting information from a server.\n",
    "\n",
    "Some of these methods are:\n",
    "- __GET__: Get Data\n",
    "- __DELETE__: Delete data\n",
    "- __POST__: Publish Data\n",
    "\n",
    "> __NOTES__: All the existing methods can be consulted in [next section](https://developer.mozilla.org/es/docs/Web/HTTP/Methods).\n",
    "\n",
    "---\n",
    "\n"
   ]
  },
  {
   "cell_type": "markdown",
   "metadata": {},
   "source": [
    "## GET method\n",
    "\n",
    "The method for asking to the server to send a particular document of a given name is called `GET`.\n",
    "\n",
    "The code to request this kind of data has the following `HTTP` format:\n",
    "```HTTP\n",
    "GET / HTTP/1.1\\r\\n\n",
    "Host: www.site.com\\r\\n\n",
    "Connection: close\\r\\n\n",
    "\\r\\n\n",
    "```\n",
    "\n",
    "Based on this code we can state the following for each line:\n",
    "1. The executed method and the resource to be accessed are requested\n",
    "    - `GET / HTTP/1.1\\r\\n`\n",
    "2. The host to be accessed (UNIX domain) is indicated\n",
    "    - `Host: www.site.com\\r\\n`\n",
    "3. The server is instructed to cut the connection to our socket at the end of the transfer\n",
    "    - `Connection: close\\r\\n`\n",
    "4. The closing of the session is requested with a line break\n",
    "    - `\\r\\n`\n",
    "\n",
    "Knowing this method we can now tell our socket to send a GET request to the server, this request can be initialised using the socket's `send()` method.\n",
    "\n",
    "> __NOTE__: This method accepts bytes as arguments, so the HTTP code will be passed to it as bytes.\n"
   ]
  },
  {
   "cell_type": "code",
   "execution_count": 1,
   "metadata": {},
   "outputs": [
    {
     "data": {
      "text/plain": [
       "68"
      ]
     },
     "execution_count": 1,
     "metadata": {},
     "output_type": "execute_result"
    }
   ],
   "source": [
    "import socket\n",
    "\n",
    "webpage, port = \"www.pythoninstitute.org\", 80\n",
    "\n",
    "# Sets the connection with the socket\n",
    "obj_socket = socket.socket(socket.AF_INET, socket.SOCK_STREAM) \n",
    "obj_socket.connect((webpage, port))\n",
    "\n",
    "# Retrieves data from the server\n",
    "obj_socket.send(\n",
    "    b\"GET / HTTP/1.1\\r\\nHost: \" +\n",
    "    bytes(webpage, \"utf8\") +\n",
    "    b\"\\r\\nConnection: close\\r\\n\\r\\n\")"
   ]
  },
  {
   "cell_type": "markdown",
   "metadata": {},
   "source": [
    "---\n",
    "\n",
    "## Waiting for the server response\n",
    "\n",
    "Once our socket (CLIENT) has sent the request to the remote socket (SERVER), we only have to wait for the remote socket to receive all the response from the server. To do this we can use the `recv()` method of socket indicating as argument the maximum allowed size that can wait for the server's response.\n",
    "\n",
    "This implies the following change in our socket:"
   ]
  },
  {
   "cell_type": "code",
   "execution_count": 2,
   "metadata": {},
   "outputs": [
    {
     "name": "stdout",
     "output_type": "stream",
     "text": [
      "b'HTTP/1.1 301 Moved Permanently\\r\\nServer: nginx/1.18.0 (Ubuntu)\\r\\nDate: Tue, 27 Feb 2024 11:29:01 GMT\\r\\nContent-Type: text/html\\r\\nContent-Length: 178\\r\\nConnection: close\\r\\nLocation: https://pythoninstitute.org/\\r\\n\\r\\n<html>\\r\\n<head><title>301 Moved Permanently</title></head>\\r\\n<body>\\r\\n<center><h1>301 Moved Permanently</h1></center>\\r\\n<hr><center>nginx/1.18.0 (Ubuntu)</center>\\r\\n</body>\\r\\n</html>\\r\\n'\n"
     ]
    }
   ],
   "source": [
    "import socket\n",
    "\n",
    "webpage, port = \"www.pythoninstitute.org\", 80\n",
    "\n",
    "# Sets the connection with the socket\n",
    "obj_socket = socket.socket(socket.AF_INET, socket.SOCK_STREAM) \n",
    "obj_socket.connect((webpage, port))\n",
    "\n",
    "# Retrieves data from the server\n",
    "obj_socket.send(\n",
    "    b\"GET / HTTP/1.1\\r\\nHost: \" +\n",
    "    bytes(webpage, \"utf8\") +\n",
    "    b\"\\r\\nConnection: close\\r\\n\\r\\n\")\n",
    "response = obj_socket.recv(10000)"
   ]
  },
  {
   "cell_type": "markdown",
   "metadata": {},
   "source": [
    "---\n",
    "\n",
    "## Closing the connection\n",
    "\n",
    "A nuance, if we remember the penultimate line of the GET request (`Connection: close\\r\\n`) the server was told to terminate the connection once the document was sent.\n",
    "\n",
    "If the remote socket (SERVER) should terminate the connection, our socket (CLIENT) should do the same.\n",
    "\n",
    "To accomplish this task we can use the following methods:\n",
    "- `shutdown()`: A message is sent to the server to indicate that we will close the socket. This method allows the following message types:\n",
    "    - `socket.SHUT_RD`: We won't read any more messages from you\n",
    "    - `socket.SHUT_WR`: We won't send any more messages to you\n",
    "    - `socket.SHUT_RDWR`: A combination of both messages\n",
    "- `close()`: Closes definetly our socket\n",
    "\n",
    "This implies the following changes in our socket to __fully terminate this connection__"
   ]
  },
  {
   "cell_type": "code",
   "execution_count": 3,
   "metadata": {},
   "outputs": [
    {
     "name": "stdout",
     "output_type": "stream",
     "text": [
      "b'HTTP/1.1 301 Moved Permanently\\r\\nServer: nginx/1.18.0 (Ubuntu)\\r\\nDate: Tue, 27 Feb 2024 11:39:34 GMT\\r\\nContent-Type: text/html\\r\\nContent-Length: 178\\r\\nConnection: close\\r\\nLocation: https://pythoninstitute.org/\\r\\n\\r\\n<html>\\r\\n<head><title>301 Moved Permanently</title></head>\\r\\n<body>\\r\\n<center><h1>301 Moved Permanently</h1></center>\\r\\n<hr><center>nginx/1.18.0 (Ubuntu)</center>\\r\\n</body>\\r\\n</html>\\r\\n'\n"
     ]
    }
   ],
   "source": [
    "import socket\n",
    "\n",
    "webpage, port = \"www.pythoninstitute.org\", 80\n",
    "\n",
    "# Sets the connection with the socket\n",
    "obj_socket = socket.socket(socket.AF_INET, socket.SOCK_STREAM) \n",
    "obj_socket.connect((webpage, port))\n",
    "\n",
    "# Retrieves data from the server\n",
    "obj_socket.send(\n",
    "    b\"GET / HTTP/1.1\\r\\nHost: \" +\n",
    "    bytes(webpage, \"utf8\") +\n",
    "    b\"\\r\\nConnection: close\\r\\n\\r\\n\")\n",
    "response = obj_socket.recv(10000)\n",
    "\n",
    "# Terminating the connection with the remote socket\n",
    "obj_socket.shutdown(socket.SHUT_RDWR)\n",
    "obj_socket.close()"
   ]
  },
  {
   "cell_type": "markdown",
   "metadata": {},
   "source": [
    "---\n",
    "\n",
    "## Displaying the received document\n",
    "\n",
    "We have the response from the server, now we only need to show it through the terminal.\n",
    "\n",
    "Given that this response is code intended to be seen from a browser, surely making a print will not help us to understand what we are seeing, however, and in order not to complicate the solution, what we are going to do is to use the python `repr()` function which allows us to give __a more visual finish to any object__.\n",
    "\n",
    "Additionally, we will include the `input()` so that the user can report the web page he wants."
   ]
  },
  {
   "cell_type": "code",
   "execution_count": 5,
   "metadata": {},
   "outputs": [
    {
     "name": "stdout",
     "output_type": "stream",
     "text": [
      "b'HTTP/1.1 301 Moved Permanently\\r\\nServer: nginx/1.18.0 (Ubuntu)\\r\\nDate: Tue, 27 Feb 2024 11:53:45 GMT\\r\\nContent-Type: text/html\\r\\nContent-Length: 178\\r\\nConnection: close\\r\\nLocation: https://pythoninstitute.org/\\r\\n\\r\\n<html>\\r\\n<head><title>301 Moved Permanently</title></head>\\r\\n<body>\\r\\n<center><h1>301 Moved Permanently</h1></center>\\r\\n<hr><center>nginx/1.18.0 (Ubuntu)</center>\\r\\n</body>\\r\\n</html>\\r\\n'\n"
     ]
    }
   ],
   "source": [
    "import socket\n",
    "\n",
    "# webpage = input(\"What page do you want to access?\")\n",
    "webpage, port = \"www.pythoninstitute.org\", 80\n",
    "\n",
    "# Sets the connection with the socket\n",
    "obj_socket = socket.socket(socket.AF_INET, socket.SOCK_STREAM) \n",
    "obj_socket.connect((webpage, port))\n",
    "\n",
    "# Retrieves data from the server\n",
    "obj_socket.send(\n",
    "    b\"GET / HTTP/1.1\\r\\nHost: \" +\n",
    "    bytes(webpage, \"utf8\") +\n",
    "    b\"\\r\\nConnection: close\\r\\n\\r\\n\")\n",
    "response = obj_socket.recv(10000)\n",
    "\n",
    "# Terminating the connection with the remote socket\n",
    "obj_socket.shutdown(socket.SHUT_RDWR)\n",
    "obj_socket.close()\n",
    "\n",
    "print(repr(response))"
   ]
  },
  {
   "cell_type": "markdown",
   "metadata": {},
   "source": [
    "---\n",
    "\n",
    "## HTTP Responses\n",
    "\n",
    "\n"
   ]
  }
 ],
 "metadata": {
  "kernelspec": {
   "display_name": "Python 3",
   "language": "python",
   "name": "python3"
  },
  "language_info": {
   "codemirror_mode": {
    "name": "ipython",
    "version": 3
   },
   "file_extension": ".py",
   "mimetype": "text/x-python",
   "name": "python",
   "nbconvert_exporter": "python",
   "pygments_lexer": "ipython3",
   "version": "3.10.12"
  }
 },
 "nbformat": 4,
 "nbformat_minor": 2
}
