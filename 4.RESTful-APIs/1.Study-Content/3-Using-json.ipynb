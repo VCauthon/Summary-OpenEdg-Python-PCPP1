{
 "cells": [
  {
   "cell_type": "markdown",
   "metadata": {},
   "source": [
    "## Introduction\n",
    "\n",
    "First of all, it should be noted that a common problem within the IT field is having to deal with the number of anachronisms that exist, in fact, an old anecdote tells that the programming industry is based on `TLA` (__Three Letter Acronyms__). However, JSON breaks with this tradition, since it is an acronym for `JavaScript Object Notation`.\n",
    "\n",
    "JSON, while intended for JavaScript use, is a universal format for transferring information that is part of an object between different systems.\n",
    "\n",
    "JSON defines a system for representing objects that can be sent over the network.\n",
    "\n",
    "It does this by doing the following:\n",
    "- It uses UTF-8 to encode text.\n",
    "    - Is human readable\n",
    "    - Does not depend on a third party to read it\n",
    "- Defines a system for representing object relationships\n",
    "- In the main layers it works as a dictionary\n",
    "- Each value can be an object, an array, a number, a string, a boolean, or null.\n",
    "\n",
    "Here is an example of a json:\n",
    "```json\n",
    "{\n",
    "  \"name\": \"John\",\n",
    "  \"age\": 30,\n",
    "  \"cars\": {\n",
    "    \"car1\": \"Ford\",\n",
    "  }\n",
    "}\n",
    "```\n",
    "\n",
    "---"
   ]
  }
 ],
 "metadata": {
  "language_info": {
   "name": "python"
  }
 },
 "nbformat": 4,
 "nbformat_minor": 2
}
