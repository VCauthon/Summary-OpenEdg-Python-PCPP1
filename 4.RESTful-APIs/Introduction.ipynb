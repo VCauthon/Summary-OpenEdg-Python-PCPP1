{
 "cells": [
  {
   "cell_type": "markdown",
   "metadata": {},
   "source": [
    "## An overview of the OpenEdg material can be found in [edube.org](https://edube.org/study/pcpp1-4)\n",
    "\n",
    "In this course you will learn the basic concepts of network programming in Python, how to use sockets, and how to communicate with RESTful APIs using CRUD methods.\n",
    "\n",
    "- [Basic concepts](./1.Study-Content/1-Basic-Concepts.ipynb)\n",
    "    - REST\n",
    "    - Stack protocols\n",
    "    - BDS Sockets\n",
    "- [Working with sockets](./1.Study-Content/2-Using-sockets.ipynb)\n",
    "    - Working with sockets\n",
    "    - PoC requesting data from a server\n",
    "    - HTTP Protocols\n",
    "    - HTML messaging\n",
    "- [Transfer data](./1.Study-Content/3-Using-json.ipynb)\n",
    "    - Introduction of JSON\n",
    "    - Working with JSON throw Python\n",
    "    - Introduction of XML\n",
    "    - Working with XML throw Python\n",
    "- [Node.js](./1.Study-Content/4-Node-js.ipynb)\n",
    "    - PENDING\n",
    "\n",
    "---\n",
    "\n",
    "[< __GO BACK__](/README.md)\n"
   ]
  }
 ],
 "metadata": {
  "language_info": {
   "name": "python"
  },
  "orig_nbformat": 4
 },
 "nbformat": 4,
 "nbformat_minor": 2
}
