{
 "cells": [
  {
   "cell_type": "markdown",
   "metadata": {},
   "source": [
    "## An overview of the OpenEdg material can be found in [edube.org](https://edube.org/study/pcpp1-4)\n",
    "\n",
    "In this course you will learn the basic concepts of network programming in Python, how to use sockets, and how to communicate with RESTful APIs using CRUD methods.\n",
    "\n",
    "- [Basic concepts](./1.Study-Content/1-Basic-Concepts.ipynb)\n",
    "    - REST\n",
    "    - Stack protocols\n",
    "    - BDS Sockets\n",
    "- [Working with sockets](./1.Study-Content/2-Using-sockets.ipynb)\n",
    "    - Working with sockets\n",
    "    - PoC requesting data from a server\n",
    "    - HTTP Protocols\n",
    "    - HTML messaging\n",
    "- [Transfer data](./1.Study-Content/3-Transfering-Data.ipynb)\n",
    "    - Introduction of JSON\n",
    "    - Working with JSON throw Python\n",
    "    - Introduction of XML\n",
    "    - Working with XML throw Python\n",
    "- [Request module](./1.Study-Content/4-Request.ipynb)\n",
    "    - Simplifies HTTP with easy-to-use functions\n",
    "    - Interpreting HTTP responses received from a server\n",
    "    - Error control section of the module \n",
    "- [CRUD](./1.Study-Content/5-CRUD.ipynb)\n",
    "    - Introduction to these interface\n",
    "    - Default HTTP 1.1 socket implementation\n",
    "    - Implementing a CRUD interface\n",
    "\n",
    "---\n",
    "\n",
    "[< __GO BACK__](/README.md)\n"
   ]
  }
 ],
 "metadata": {
  "language_info": {
   "name": "python"
  },
  "orig_nbformat": 4
 },
 "nbformat": 4,
 "nbformat_minor": 2
}
