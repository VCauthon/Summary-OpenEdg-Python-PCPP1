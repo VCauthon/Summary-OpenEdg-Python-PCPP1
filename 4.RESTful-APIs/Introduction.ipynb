{
 "cells": [
  {
   "cell_type": "markdown",
   "metadata": {},
   "source": [
    "## An overview of the OpenEdg material can be found in [edube.org](https://edube.org/study/pcpp1-4)\n",
    "\n",
    "In this course you will learn the basic concepts of network programming in Python, how to use sockets, and how to communicate with RESTful APIs using CRUD methods.\n",
    "\n",
    "- [Study content](./1.Study-Content/Material.ipynb):\n",
    "    - The basic concepts of network programming\n",
    "    - How to use and create sockets in Python\n",
    "    - How to establish and close the connection with a server\n",
    "    - Sending files (XML/JSON) throw the network\n",
    "    - How to build a sample testing environment\n",
    "    - What CRUD is\n",
    "    - How to build a simple REST client to work with server's data\n",
    "\n",
    "[< __GO BACK__](/README.md)\n"
   ]
  }
 ],
 "metadata": {
  "language_info": {
   "name": "python"
  },
  "orig_nbformat": 4
 },
 "nbformat": 4,
 "nbformat_minor": 2
}
