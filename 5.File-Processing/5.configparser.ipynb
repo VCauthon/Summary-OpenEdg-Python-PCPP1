{
 "cells": [
  {
   "cell_type": "markdown",
   "metadata": {},
   "source": [
    "[< __INTRO MODULE 5__](./0.Introduction.ipynb)\n",
    "\n",
    "---\n"
   ]
  },
  {
   "cell_type": "markdown",
   "metadata": {},
   "source": [
    "# Index\n",
    "- [Introduction](#introduction)\n",
    "- [Parsing](#parsing)\n",
    "    - [Different formats](#different-formats)\n",
    "- [Creating a configuration file](#creating-a-configuration-file)\n",
    "- [Interpolating](#interpolating)\n",
    "\n",
    "---"
   ]
  },
  {
   "cell_type": "markdown",
   "metadata": {},
   "source": [
    "# Introduction\n",
    "\n",
    "Let's suppose that our application must connect to a database. This database has different environments which can be: `consolidation`, `pre-production` and `production`. Each environment consists of a replica of the same system but for a different purpose, for example, the consolidation and pre-production environments are intended for the development of new features and production to the final environment where the client connects.\n",
    "\n",
    "Each of these environments will have its own credentials. So where should these credentials be stored?\n",
    "\n",
    "This is where the `configparser` module comes in. This module will allow us to store the credentials for each environment securely.\n",
    "\n",
    "An example format would be:\n",
    "\n",
    "```INI\n",
    "[DEFAULT]\n",
    "# This is a comment.\n",
    "host = localhost\n",
    "\n",
    "[mariadb]\n",
    "; Also this is a comment.\n",
    "# LOOK THAT THE DEFINITION OF KEY/VALUE CAN BE DONE WITH : !!\n",
    "name : hello\n",
    "user : user\n",
    "password : password\n",
    "\n",
    "[redis]\n",
    "port = 6379\n",
    "db = 0\n",
    "```\n",
    "\n",
    "> __NOTE__: The configuration file has a format very similar to the Microsoft Windows INI.\n",
    "\n",
    "In the example case we can identify the `DEFAULT`, `mariadb` and `redis` credentials. These groupings are known as sections (with the exception of DEFAULT).\n",
    "\n",
    "---\n",
    "\n",
    "# Parsing\n",
    "\n",
    "As an example, let's say we want to get the credentials seen in the previous point (which we have saved in a file called [config.ini](./persistance/config.ini)) from a python script.\n",
    "\n",
    "The steps to follow to read the information are:\n",
    "1. Import `configparser`.\n",
    "2. Instantiate `ConfigParser()`.\n",
    "3. On the instantiated object, use the `read()` method passing as argument the path of the [file](./persistance/config.ini).\n",
    "4. After performing the read, the object in point two will give us access to the information in the file.\n",
    "\n",
    "The following is an example of reading the file:"
   ]
  },
  {
   "cell_type": "code",
   "execution_count": 18,
   "metadata": {},
   "outputs": [
    {
     "name": "stdout",
     "output_type": "stream",
     "text": [
      "['./persistance/config.ini']\n",
      "['mariadb', 'redis']\n",
      "mariadb section:\n",
      "Host: localhost\n",
      "Database: hello\n",
      "Username: user\n",
      "Password: password \n",
      "\n",
      "redis section:\n",
      "Host: dummy\n",
      "Port: 6379\n",
      "Database number: 0\n"
     ]
    }
   ],
   "source": [
    "import configparser\n",
    "\n",
    "obj = configparser.ConfigParser()\n",
    "print(obj.read('./persistance/config.ini'))\n",
    "\n",
    "print(obj.sections())\n",
    "\n",
    "print('mariadb section:')\n",
    "print('Host:', obj['mariadb']['host'])\n",
    "print('Database:', obj['mariadb']['name'])\n",
    "print('Username:', obj['mariadb']['user'])\n",
    "print('Password:', obj['mariadb']['password'], '\\n')\n",
    "\n",
    "print('redis section:')\n",
    "print('Host:', obj['redis']['host'])\n",
    "print('Port:', int(obj['redis']['port']))\n",
    "print('Database number:', int(obj['redis']['db']))"
   ]
  },
  {
   "cell_type": "markdown",
   "metadata": {},
   "source": [
    "As we can see, the `host` field in the `DEFAULT` section is accessible from both `mariadb` and `mariadb`. This is because the `DEFAULT` fields are replicated in other environments (unless they are explicitly modified as we see in redis)."
   ]
  },
  {
   "cell_type": "markdown",
   "metadata": {},
   "source": [
    "\n",
    "---\n",
    "\n",
    "## Different formats\n",
    "\n",
    "Apart from the format (similar to Microsoft Windows INI), `configparser` also allows the use of other formats.\n",
    "\n",
    "The formats that could be read are:\n",
    "- `read_string`: Is able to interpret a string.\n",
    "- read_file`: Is able to read a file.\n",
    "    - It differs from read in that this method reads an object that is already a file (instead of fetching it directly through the `path` as `read()` does).\n",
    "- read_dict`: Is capable of interpreting a dictionary.\n",
    "\n",
    "As an example, it will read a file from a dictionary. The only difference is that instead of using the `read()` method to read the file we will use the `read_dict()` method.\n",
    "\n",
    "Here is an example:"
   ]
  },
  {
   "cell_type": "code",
   "execution_count": 12,
   "metadata": {},
   "outputs": [
    {
     "name": "stdout",
     "output_type": "stream",
     "text": [
      "*********************mariadb**********************\n",
      "name: hello 2\n",
      "user: root\n",
      "password: password\n",
      "host: localhost\n",
      "**********************redis***********************\n",
      "port: 6379\n",
      "db: 0\n",
      "host: localhost\n"
     ]
    }
   ],
   "source": [
    "obj2 = configparser.ConfigParser()\n",
    "obj2.read_dict(\n",
    "    {\n",
    "        'DEFAULT': {\n",
    "            'host': 'localhost'\n",
    "            },\n",
    "        'mariadb': {\n",
    "            'name': 'hello 2',\n",
    "            'user': 'root',\n",
    "            'password': 'password'\n",
    "            },\n",
    "        'redis': {\n",
    "            'port': 6379,\n",
    "            'db': 0\n",
    "            }\n",
    "        }\n",
    "    )\n",
    "\n",
    "for section in obj2.sections():\n",
    "    print(section.center(50, \"*\"))\n",
    "    for key, value in obj2[section].items():\n",
    "        print(f'{key}: {value}')"
   ]
  },
  {
   "cell_type": "markdown",
   "metadata": {},
   "source": [
    "\n",
    "---\n",
    "\n",
    "# Creating a configuration file\n",
    "\n",
    "To create a configuration file, you should treat the `ConfigParser` object as a `dictionary`. Note that the section names are keys, while their options are listed in separate dictionaries.\n",
    "\n",
    "The above configuration is saved using the write method, which requires an open file to be passed in text mode. For this purpose, the built-in open method is used.\n",
    "\n",
    "> __NOTE__: You can edit config files also when reading the file\n",
    "\n",
    "As following we will show how to create these configuration:"
   ]
  },
  {
   "cell_type": "code",
   "execution_count": 14,
   "metadata": {},
   "outputs": [
    {
     "name": "stdout",
     "output_type": "stream",
     "text": [
      "*********************mariadb**********************\n",
      "name: byee\n",
      "user: user1\n",
      "password: 123456\n",
      "host: localhost\n",
      "**********************redis***********************\n",
      "port: 6379\n",
      "db: 0\n",
      "host: localhost\n"
     ]
    }
   ],
   "source": [
    "import configparser\n",
    "\n",
    "config = configparser.ConfigParser()\n",
    "\n",
    "config['DEFAULT'] = {'host': 'localhost'}\n",
    "config['mariadb'] = {\n",
    "    'name': 'byee',\n",
    "    'user': 'user1',\n",
    "    'password': '123456'\n",
    "    }\n",
    "config['redis'] = {\n",
    "    'port': 6379,\n",
    "    'db': 0}\n",
    "\n",
    "path_config = './persistance/created_config.ini'\n",
    "\n",
    "with open(path_config, '+w') as configfile:\n",
    "    config.write(configfile)\n",
    "\n",
    "\n",
    "obj = configparser.ConfigParser()\n",
    "obj.read(path_config)\n",
    "\n",
    "for section in obj.sections():\n",
    "    print(section.center(50, \"*\"))\n",
    "    for key, val in obj[section].items():\n",
    "        print(f\"{key}: {val}\")"
   ]
  },
  {
   "cell_type": "markdown",
   "metadata": {},
   "source": [
    "\n",
    "---\n",
    "\n",
    "# Interpolating\n",
    "\n",
    "The big advantage of the configuration file is the possibility of using interpolation. It allows you to create expressions consisting of a placeholder under which the appropriate value will be substituted.\n",
    "\n",
    "Take a look at the configuration file below:\n",
    "\n",
    "```INI\n",
    "[DEFAULT]\n",
    "host = localhost\n",
    "\n",
    "[mariadb]\n",
    "name = hello\n",
    "user = user\n",
    "password = password\n",
    "\n",
    "[redis]\n",
    "port = 6379\n",
    "db = 0\n",
    "dsn = redis://%(host)s\n",
    "```\n",
    "\n",
    "The configuration file has been extended with another option called dsn. Its value contains the placeholder `%(host)s`, which needs to be replaced by an appropriate value.\n",
    "\n",
    "> __NOTE__: Placing any key between `%` and `s` informs the parser of the need to interpolate. Of course, all the work is done for us, and we only get the ready results.\n",
    "\n",
    "Let's check if these works:"
   ]
  },
  {
   "cell_type": "code",
   "execution_count": 16,
   "metadata": {},
   "outputs": [
    {
     "name": "stdout",
     "output_type": "stream",
     "text": [
      "*********************mariadb**********************\n",
      "name: byee\n",
      "user: user1\n",
      "password: 123456\n",
      "host: localhost\n",
      "**********************redis***********************\n",
      "port: 6379\n",
      "db: 0\n",
      "dns: redis://localhost\n",
      "direct_link: 192.168.1.1:6379\n",
      "host: localhost\n"
     ]
    }
   ],
   "source": [
    "import configparser\n",
    "\n",
    "config = configparser.ConfigParser()\n",
    "\n",
    "config['DEFAULT'] = {'host': 'localhost'}\n",
    "config['mariadb'] = {\n",
    "    'name': 'byee',\n",
    "    'user': 'user1',\n",
    "    'password': '123456'\n",
    "    }\n",
    "config['redis'] = {\n",
    "    'port': 6379,\n",
    "    'db': 0,\n",
    "    'dns': 'redis://%(host)s',\n",
    "    'direct_link': '192.168.1.1:%(port)s'}\n",
    "\n",
    "path_config = './persistance/created_config.ini'\n",
    "\n",
    "with open(path_config, '+w') as configfile:\n",
    "    config.write(configfile)\n",
    "\n",
    "\n",
    "obj = configparser.ConfigParser()\n",
    "obj.read(path_config)\n",
    "\n",
    "for section in obj.sections():\n",
    "    print(section.center(50, \"*\"))\n",
    "    for key, val in obj[section].items():\n",
    "        print(f\"{key}: {val}\")"
   ]
  },
  {
   "cell_type": "markdown",
   "metadata": {},
   "source": [
    "\n",
    "---\n",
    "\n",
    "[< __INTRO MODULE 5__](./Introduction.ipynb)"
   ]
  }
 ],
 "metadata": {
  "kernelspec": {
   "display_name": "Python 3",
   "language": "python",
   "name": "python3"
  },
  "language_info": {
   "codemirror_mode": {
    "name": "ipython",
    "version": 3
   },
   "file_extension": ".py",
   "mimetype": "text/x-python",
   "name": "python",
   "nbconvert_exporter": "python",
   "pygments_lexer": "ipython3",
   "version": "3.10.12"
  }
 },
 "nbformat": 4,
 "nbformat_minor": 2
}
