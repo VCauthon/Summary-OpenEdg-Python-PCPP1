{
 "cells": [
  {
   "cell_type": "markdown",
   "metadata": {},
   "source": [
    "## An overview of the OpenEdg material can be found in [edube.org](https://edube.org/study/pcpp1-5).\n",
    "\n",
    "All the topics that we will cover in this course are listed below:\n",
    "1. `sqlite`: Interacting with SQLite databases\n",
    "2. `xml`: Creating and processing XML files\n",
    "3. `csv`: CSV file reading and writing\n",
    "4. `logging`: Basics logging facility for Python\n",
    "5. `configparser`: Configuration file parser\n"
   ]
  }
 ],
 "metadata": {
  "language_info": {
   "name": "python"
  },
  "orig_nbformat": 4
 },
 "nbformat": 4,
 "nbformat_minor": 2
}
