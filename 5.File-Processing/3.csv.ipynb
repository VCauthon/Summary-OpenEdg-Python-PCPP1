{
 "cells": [
  {
   "cell_type": "markdown",
   "metadata": {},
   "source": [
    "[< __INTRO MODULE 5__](./0.Introduction.ipynb)\n",
    "\n",
    "---\n",
    "\n",
    "# Index:\n",
    "\n",
    "- [What is a CSV](#what-is-a-csv)\n",
    "- [Reading data from a CSV](#reading-data-from-a-csv)\n",
    "    - [`reader`](#reader)\n",
    "    - [`DictReader`](#dictreader)\n",
    "- [Saving data to a CSV](#saving-data-to-a-csv)\n",
    "    - [`write`](#write)\n",
    "    - [Parameters of `write` (and also `reader`)](#parameters-of-write-and-also-reader)\n",
    "    - [`DictWriter`](#dictwriter)\n",
    "\n",
    "---"
   ]
  },
  {
   "cell_type": "markdown",
   "metadata": {},
   "source": [
    "## What is a CSV\n",
    "\n",
    "CSV stands for Comma Separated Values. It is __one of the most popular formats for storing information__ from different programs by comma separation.\n",
    "\n",
    "> NOTE: There are different databases that make use of this system and the popular data processing program EXCEL.\n",
    "\n",
    "The structure of these files is as follows:\n",
    "```csv\n",
    "header1, header2\n",
    "value1_H1, value1_H2\n",
    "value2_H1, value2_H2\n",
    "value3_H1, value3_H2\n",
    "value4_H1, value4_H2\n",
    "```\n",
    "\n",
    "A real example could be the following:\n",
    "```csv\n",
    "Name,Phone\n",
    "mother,222-555-101\n",
    "father,222-555-102\n",
    "wife,222-555-103\n",
    "mother-in-law,222-555-104\n",
    "```\n",
    "\n",
    "---\n",
    "\n",
    "## Reading data from a CSV\n",
    "\n",
    "During this module we will work with CSV through the python build-in module called `csv`, however, for commercial reasons, it is recommended to use the module called `pandas`.\n",
    "\n",
    "We could segment the `csv` module into two classes called `reader` and `writer`, but well, we will go into detail about them below.\n",
    "\n",
    "First of all, the following examples will be created from the file [contacts.csv](./persistance/contacts.csv).\n",
    "\n",
    "### `reader`\n",
    "\n",
    "As we can see, `reader` reads the content of a csv file in a structured way, however, we must point out that this reading is not done directly from the file, but from an instance of `open` with which we have the data of the file.\n",
    "\n",
    "It is important to note that, apart from the file itself, `reader` must receive the `delimiter` parameter indicating how the data will be separated within the CSV (although by default it is already set to `,`, but it could also be a `;`).\n",
    "\n",
    "Below is an example of reading the file:"
   ]
  },
  {
   "cell_type": "code",
   "execution_count": 1,
   "metadata": {},
   "outputs": [],
   "source": [
    "import csv\n",
    "\n",
    "with open('./persistance/contacts.csv', newline='') as file:\n",
    "    reader = csv.reader(file, delimiter=',')"
   ]
  },
  {
   "cell_type": "markdown",
   "metadata": {},
   "source": [
    "#### And the data?\n",
    "\n",
    "`reader` returns, in an iterator, the data organized in lists where each list represents a line of the CSV file itself, therefore, through a loop we could directly access them line by line.\n",
    "\n",
    "Below is an example where we show the data:"
   ]
  },
  {
   "cell_type": "code",
   "execution_count": 5,
   "metadata": {},
   "outputs": [
    {
     "name": "stdout",
     "output_type": "stream",
     "text": [
      "['Name', 'Phone']\n",
      "['mother', '222-555-101']\n",
      "['father', '222-555-102']\n",
      "['wife', '222-555-103']\n",
      "['mother-in-law', '222-555-104']\n"
     ]
    }
   ],
   "source": [
    "with open('./persistance/contacts.csv', newline='') as file:\n",
    "    reader = csv.reader(file)  # As you can see in this section reader does not receive the delimiter, but is still able to parse the data (as the data is separated by a ,).\n",
    "    for row in reader:\n",
    "        print(row)"
   ]
  },
  {
   "cell_type": "markdown",
   "metadata": {},
   "source": [
    "### `DictReader`\n",
    "\n",
    "The module also provides another system for reading CSVs in a more organised way, in particular, this is achieved with a class called `DictReader`.\n",
    "\n",
    "This returns an `OrderedDict` with all the elements in the CSV in dictionary format. This means that, for each row, we can access the value we are interested in using as key the header (column) where it is located.\n",
    "\n",
    "> NOTE: An `OrderedDict` is a type of Python dictionary which has persistence in the order in which the data is stored, i.e. if you store a = 1 and b = 2 in the file, when you iterate the dictionary in a for loop, the first thing you will receive is a and then b.\n",
    "\n",
    "DictReader uses `reader` to format the CSV data, so the class will assume that the file delimits the data with a comma. If this is not the case, it will be necessary to send the delimiting symbol as a parameter.\n",
    "\n",
    "Below is an example where the CSV data seen previously is read:"
   ]
  },
  {
   "cell_type": "code",
   "execution_count": 24,
   "metadata": {},
   "outputs": [
    {
     "name": "stdout",
     "output_type": "stream",
     "text": [
      "{'Name': 'mother', 'Phone': '222-555-101'}\n",
      "{'Name': 'father', 'Phone': '222-555-102'}\n",
      "{'Name': 'wife', 'Phone': '222-555-103'}\n",
      "{'Name': 'mother-in-law', 'Phone': '222-555-104'}\n"
     ]
    }
   ],
   "source": [
    "\n",
    "with open('./persistance/contacts.csv', newline='') as file:\n",
    "    data = csv.DictReader(file)\n",
    "    for row in data:\n",
    "        print(row)"
   ]
  },
  {
   "cell_type": "markdown",
   "metadata": {},
   "source": [
    "#### About headers\n",
    "\n",
    "Note that `DictReader`, when reading the CSV file, assumes that the first row of the CSV will be the headers.\n",
    "\n",
    "In case the CSV does not have a header, this can be a problem, since we will have no way to access the data, as we will not know the name of the key of each value of the dictionary that we will obtain per row.\n",
    "\n",
    "An example is shown below:"
   ]
  },
  {
   "cell_type": "code",
   "execution_count": 29,
   "metadata": {},
   "outputs": [
    {
     "name": "stdout",
     "output_type": "stream",
     "text": [
      "{'mother': 'father', '222-555-101': '222-555-102'}\n",
      "{'mother': 'wife', '222-555-101': '222-555-103'}\n",
      "{'mother': 'mother-in-law', '222-555-101': '222-555-104'}\n"
     ]
    }
   ],
   "source": [
    "from io import StringIO\n",
    "\n",
    "raw_csv = \"\"\"mother,222-555-101\n",
    "father,222-555-102\n",
    "wife,222-555-103\n",
    "mother-in-law,222-555-104\n",
    "\"\"\"\n",
    "\n",
    "with StringIO(raw_csv, newline='') as file:\n",
    "    data = csv.DictReader(file)\n",
    "    for row in data:\n",
    "        print(row)\n"
   ]
  },
  {
   "cell_type": "markdown",
   "metadata": {},
   "source": [
    "As we can see, `mother` and `222-555-101` become the headers for each value, which is wrong, fortunately DictReader allows a parameter called `fieldnames` with which we can indicate the headers to apply to this file without header.\n",
    "\n",
    "An example is shown below:"
   ]
  },
  {
   "cell_type": "code",
   "execution_count": 30,
   "metadata": {},
   "outputs": [
    {
     "name": "stdout",
     "output_type": "stream",
     "text": [
      "{'Name': 'mother', 'Phone': '222-555-101'}\n",
      "{'Name': 'father', 'Phone': '222-555-102'}\n",
      "{'Name': 'wife', 'Phone': '222-555-103'}\n",
      "{'Name': 'mother-in-law', 'Phone': '222-555-104'}\n"
     ]
    }
   ],
   "source": [
    "with StringIO(raw_csv, newline=\"\") as file:\n",
    "    data = csv.DictReader(file, fieldnames=[\"Name\", \"Phone\"])\n",
    "    for row in data:\n",
    "        print(row)\n",
    "\n"
   ]
  },
  {
   "cell_type": "markdown",
   "metadata": {},
   "source": [
    "\n",
    "---\n",
    "\n",
    "## Saving data to a CSV\n",
    "\n",
    "In this section of the module we will go into detail on how to save content to a CSV format via the Python `csv` module.\n",
    "\n",
    "### `write`\n",
    "\n",
    "Starting with the `write` function, this, like its sister version for reading `CSV`, can receive an instance of open with the data from a CSV file and include information.\n",
    "\n",
    "The `write` function contains a method called `writerow` which allows to include data in each row.\n",
    "\n",
    "To show an example we will create a version of contacts.csv where we include the known data:"
   ]
  },
  {
   "cell_type": "code",
   "execution_count": 32,
   "metadata": {},
   "outputs": [
    {
     "name": "stdout",
     "output_type": "stream",
     "text": [
      "{'Name': 'mother', 'Phone': '222-555-101'}\n",
      "{'Name': 'father', 'Phone': '222-555-102'}\n",
      "{'Name': 'wife', 'Phone': '222-555-103'}\n",
      "{'Name': 'mother-in-law', 'Phone': '222-555-104'}\n"
     ]
    }
   ],
   "source": [
    "# Function to read the file created\n",
    "def csv_reader(path_file: str) -> None:\n",
    "    with open(path_file, newline='') as file:\n",
    "        data = csv.DictReader(file)\n",
    "        for row in data:\n",
    "            print(row)\n",
    "\n",
    "# Writing the csv\n",
    "path_file = './persistance/exported_contacts.csv'\n",
    "with open(path_file, '+w', newline='') as file:\n",
    "    writer = csv.writer(file, delimiter=',') # Like in reader ',' is the default delimiter\n",
    "\n",
    "    writer.writerow(['Name', 'Phone'])\n",
    "    writer.writerow(['mother', '222-555-101'])\n",
    "    writer.writerow(['father', '222-555-102'])\n",
    "    writer.writerow(['wife', '222-555-103'])\n",
    "    writer.writerow(['mother-in-law', '222-555-104'])\n",
    "\n",
    "csv_reader(path_file)"
   ]
  },
  {
   "cell_type": "markdown",
   "metadata": {},
   "source": [
    "\n",
    "### Parameters of `write` (and also `reader`)\n",
    "\n",
    "The writer and reader functions allow two arguments to give more special formatting to values that meet a special condition.\n",
    "\n",
    "To give an example, let's say one of the contact values contains one of the separators. This should generate a conflict, however, the `csv` module handles this automatically.\n",
    "\n",
    "Next we will generate a new contact list with one of the contacts containing a comma:"
   ]
  },
  {
   "cell_type": "code",
   "execution_count": 38,
   "metadata": {},
   "outputs": [
    {
     "name": "stdout",
     "output_type": "stream",
     "text": [
      "Name,Phone\n",
      "\n",
      "mother,222-555-101\n",
      "\n",
      "father,222-555-102\n",
      "\n",
      "wife,222-555-103\n",
      "\n",
      "mother-in-law,222-555-104\n",
      "\n",
      "\"grandmother, grandfather\",222-555-105\n",
      "\n"
     ]
    }
   ],
   "source": [
    "path_file = './persistance/exported_contacts.csv'\n",
    "with open(path_file, '+w', newline='') as file:\n",
    "    writer = csv.writer(file, delimiter=',') # Like in reader ',' is the default delimiter\n",
    "\n",
    "    writer.writerow(['Name', 'Phone'])\n",
    "    writer.writerow(['mother', '222-555-101'])\n",
    "    writer.writerow(['father', '222-555-102'])\n",
    "    writer.writerow(['wife', '222-555-103'])\n",
    "    writer.writerow(['mother-in-law', '222-555-104'])\n",
    "    writer.writerow(['grandmother, grandfather', '222-555-105'])\n",
    "\n",
    "for row in open(path_file):\n",
    "    print(row)\n"
   ]
  },
  {
   "cell_type": "markdown",
   "metadata": {},
   "source": [
    "\n",
    "As we can see, ‘grandmother, grandfather’ are surrounded by double quotes. This is done automatically by writer (and reader) when it detects that within a value there is a value used as a separator.\n",
    "\n",
    "This behaviour can be altered through the following parameters:\n",
    "- `quotechar`: Value used to group the value (default is ‘).\n",
    "- quoting`: Condition for `quoting` to be applied. Options can be:\n",
    "    - csv.QUOTE_MINIMAL: Only values with special characters (suc as `separators` or `quotechar`) will be quoted.\n",
    "    - csv.QUOTE_ALL: Quotations all values\n",
    "    - csv.QUOTE_NONNUMERIC: Quotes only non-numeric values\n",
    "    - csv.QUOTE_NONE: Doesn't quote any values. It's not a good idea to set this value if you have special characters that require quoting, because this will raise an error\n",
    "\n",
    "\n",
    "If the module did not include this double quote automatically, the following would occur:"
   ]
  },
  {
   "cell_type": "code",
   "execution_count": 40,
   "metadata": {},
   "outputs": [
    {
     "name": "stdout",
     "output_type": "stream",
     "text": [
      "['Name', ' Phone']\n",
      "['mother', '222-555-101']\n",
      "['father', '222-555-102']\n",
      "['wife', '222-555-103']\n",
      "['mother-in-law', '222-555-104']\n",
      "['grandmother', ' grandfather', '222-555-105']\n"
     ]
    }
   ],
   "source": [
    "raw_csv = \"\"\"Name, Phone\n",
    "mother,222-555-101\n",
    "father,222-555-102\n",
    "wife,222-555-103\n",
    "mother-in-law,222-555-104\n",
    "grandmother, grandfather,222-555-105\n",
    "\"\"\"\n",
    "\n",
    "with StringIO(raw_csv, newline='') as file:\n",
    "    data = csv.reader(file)\n",
    "    for row in data:\n",
    "        print(row)"
   ]
  },
  {
   "cell_type": "markdown",
   "metadata": {},
   "source": [
    "As we can see, the last column treats the value of grandmother and grandfather as individual values.\n",
    "\n",
    "### `DictWriter`\n",
    "\n",
    "Do you remember how we read rows from the CSV file to `OrderedDict` objects?\n",
    "\n",
    "In the csv module, there is an analogous class called `DictWriter` with which we can map dictionaries to rows. Unlike the `DictReader` object, when creating the `DictWriter` object, __we must define a header__.\n",
    "\n",
    "Let's look an example:"
   ]
  },
  {
   "cell_type": "code",
   "execution_count": 41,
   "metadata": {},
   "outputs": [
    {
     "name": "stdout",
     "output_type": "stream",
     "text": [
      "Name,Phone\n",
      "\n",
      "mother,222-555-101\n",
      "\n",
      "father,222-555-102\n",
      "\n",
      "wife,222-555-103\n",
      "\n",
      "mother-in-law,222-555-104\n",
      "\n",
      "\"grandmother, grandfather and auntie\",222-555-105\n",
      "\n"
     ]
    }
   ],
   "source": [
    "path_file = './persistance/exported_contacts.csv'\n",
    "with open(path_file, '+w', newline='') as file:\n",
    "    writer = csv.DictWriter(file, fieldnames=['Name', 'Phone'])  # Hey its fieldnames again!\n",
    "\n",
    "    writer.writeheader()  # Mandatory to add the header into the first line of the file\n",
    "    writer.writerow({'Name': 'mother', 'Phone': '222-555-101'})\n",
    "    writer.writerow({'Name': 'father', 'Phone': '222-555-102'})\n",
    "    writer.writerow({'Name': 'wife', 'Phone': '222-555-103'})\n",
    "    writer.writerow({'Name': 'mother-in-law', 'Phone': '222-555-104'})\n",
    "    writer.writerow({'Name': 'grandmother, grandfather and auntie', 'Phone': '222-555-105'})\n",
    "\n",
    "for row in open(path_file):\n",
    "    print(row)\n"
   ]
  },
  {
   "cell_type": "markdown",
   "metadata": {},
   "source": [
    "\n",
    "---\n",
    "\n",
    "[< __INTRO MODULE 5__](./Introduction.ipynb)"
   ]
  }
 ],
 "metadata": {
  "kernelspec": {
   "display_name": "Python 3",
   "language": "python",
   "name": "python3"
  },
  "language_info": {
   "codemirror_mode": {
    "name": "ipython",
    "version": 3
   },
   "file_extension": ".py",
   "mimetype": "text/x-python",
   "name": "python",
   "nbconvert_exporter": "python",
   "pygments_lexer": "ipython3",
   "version": "3.10.12"
  }
 },
 "nbformat": 4,
 "nbformat_minor": 2
}
