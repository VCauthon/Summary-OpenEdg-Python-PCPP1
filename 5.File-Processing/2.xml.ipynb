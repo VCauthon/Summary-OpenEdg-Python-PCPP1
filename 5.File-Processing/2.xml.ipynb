{
 "cells": [
  {
   "cell_type": "markdown",
   "metadata": {},
   "source": [
    "[< __INTRO MODULE 5__](./0.Introduction.ipynb)\n",
    "\n",
    "---\n",
    "\n",
    "# Index:\n",
    "- [Introduction](#introduction)\n",
    "    - [The most relevant modules of the xml library](#the-most-relevant-modules-of-the-xml-library)\n",
    "    - [Segmenting an XML document](#segmenting-an-xml-document)\n",
    "- [Parsing an XML file](#parsing-an-xml-file)\n",
    "    - [Converting XML file to usable data in Python](#converting-xml-file-to-usable-data-in-python)\n",
    "    - [Navigating the entire tree structure](#navigating-the-entire-tree-structure)\n",
    "    - [Accessing elements at a lower level within XML](#accessing-elements-at-a-lower-level-within-xml)\n",
    "- [Getting the first element that meets the requirements](#getting-the-first-element-that-meets-the-requirements)\n",
    "- [Working with a parsed XML file](#working-with-a-parsed-xml-file)\n",
    "    - [Adding elements](#adding-elements)\n",
    "    - [Editing elements](#editing-elements)\n",
    "    - [Deleting elements](#deleting-elements)\n",
    "    - [Saving changes done](#saving-changes-done)\n",
    "- [Creating an XML from scratch](#creating-an-xml-from-scratch)\n",
    "    - [Creating the root element](#creating-the-root-element)\n",
    "    - [Adding SubElements](#adding-subelements)\n",
    "\n",
    "\n",
    "\n",
    "---"
   ]
  },
  {
   "cell_type": "markdown",
   "metadata": {},
   "source": [
    "## Introduction\n",
    "\n",
    "As we have seen in module 4 ([RESTful-APIs](../4.RESTful-APIs/Introduction.ipynb)), `XML` is a file format for storing and managing data. In Python, the standard library for managing data that is organised in `XML` format is called `xml`.\n",
    "\n",
    "---\n",
    "\n",
    "### The most relevant modules of the xml library\n",
    "\n",
    "- `xml.etree.ElementTree`:\n",
    "    - Has a very simple API for analyzing and creating XML data.\n",
    "    - It's an excellent choice for people who have never worked with the Document Object Model (DOM) before.\n",
    "- `xml.dom.minidom`:\n",
    "    - Is the minimum implementation of the Document Object Model (DOM).\n",
    "    - Using the DOM, the approach to an XML document is slightly different, because it's parsed into a tree structure in which each node is an object.\n",
    "- `xml.sax`:\n",
    "    - SAX is an acronym for “Simple API for XML”.\n",
    "    - SAX is an interface in Python for event-driven XML document analysis.\n",
    "    - Unlike the above modules, analyzing a simple XML document using this module requires more work.\n",
    "\n",
    "---\n",
    "\n",
    "### Segmenting an XML document\n",
    "\n",
    "XML is used by SOAP to transmit messages between systems. It is standardised by the W3C organisation.\n",
    "\n",
    "Before segmenting it, an example of XML is shown:\n",
    "```xml\n",
    "    <?xml version=\"1.0\" encoding=\"ISO-8859-2\"?>\n",
    "    <data>\n",
    "        <book title=\"The Little Prince\">\n",
    "            <author>Antoine de Saint-Exupéry</author>\n",
    "            <year>1943</year>\n",
    "        </book>\n",
    "        <book title=\"Hamlet\">\n",
    "            <author>William Shakespeare</author>\n",
    "            <year>1603</year>\n",
    "        </book>\n",
    "    </data>\n",
    "```\n",
    "\n",
    "The elements that make up XML are the following:\n",
    "- __prolog__:\n",
    "    - The first (optional) line of the document. In the prolog, you can specify character encoding, e.g., `<?xml version=\"1.0\" encoding=\"ISO-8859-2\"?>` changes the default character encoding (UTF-8) to ISO-8859-2.\n",
    "- __root element__:\n",
    "    - The XML document must have one root element that contains all other elements. In the example below, the main element is the `data` tag.\n",
    "- __elements__: \n",
    "    - These consist of opening and closing tags. The elements include text, attributes, and other child elements. In the example below, we can find the book element with the `title` __attribute__ and two __child elements__ (`author` and `year`).\n",
    "- __attributes__:\n",
    "    - These are placed in the opening tags. They consist of key-value pairs, e.g., `title = \"The Little Prince\"`.\n",
    "\n",
    "---\n",
    "\n",
    "## Parsing an XML file\n",
    "\n",
    "The following is an example of how to parse an XML document, so that we can work with the XML data in a more Python-like way.\n",
    "\n",
    "---\n",
    "\n",
    "### Converting XML file to usable data in Python\n",
    "\n",
    "The `ElementTree` module provides methods with which to transform the XML file.\n",
    "This transformation can be done through two methods (depending on how we have obtained the data):\n",
    "- `parse(path)`: Receives as argument the path to the XML file.\n",
    "    - Once the instance has been obtained, we must execute the `parse()` method on it to obtain the variable with which to work with the data.\n",
    "- `fromstring(str_xml)`: Receives as argument the XML file in STR format.\n",
    "\n",
    "After performing the transformation we will obtain an instance called `Element`. This instance is the one that allows us to browse through the whole file. It is important to note that the instance starts from the [root_element](#segmenting-an-xml-document), i.e. from the base of the XML tree.\n",
    "\n",
    "---\n",
    "\n",
    "### Navigating the entire tree structure\n",
    "\n",
    "Through the `Element` instance we can access the data of each record. This allows us to access each `tag` and each `attribute`.\n",
    "\n",
    "Below is an example of working with the XML seen [above](#segmenting-an-xml-document):"
   ]
  },
  {
   "cell_type": "code",
   "execution_count": 1,
   "metadata": {},
   "outputs": [
    {
     "name": "stdout",
     "output_type": "stream",
     "text": [
      "The root tag is: data\n",
      "The root has the following children:\n",
      "book {'title': 'The Little Prince'}\n",
      "book {'title': 'Hamlet'}\n"
     ]
    }
   ],
   "source": [
    "import xml.etree.ElementTree as ET\n",
    "\n",
    "STRING_XML = \"\"\"<?xml version=\"1.0\" encoding=\"ISO-8859-2\"?>\n",
    "<data>\n",
    "    <book title=\"The Little Prince\">\n",
    "        <author>Antoine de Saint-Exupéry</author>\n",
    "        <year>1943</year>\n",
    "    </book>\n",
    "    <book title=\"Hamlet\">\n",
    "        <author>William Shakespeare</author>\n",
    "        <year>1603</year>\n",
    "    </book>\n",
    "</data>\n",
    "\"\"\"\n",
    "\n",
    "root = ET.fromstring(STRING_XML)\n",
    "print('The root tag is:', root.tag)\n",
    "print('The root has the following children:')\n",
    "for child in root:\n",
    "    print(child.tag, child.attrib)"
   ]
  },
  {
   "cell_type": "markdown",
   "metadata": {},
   "source": [
    "\n",
    "---\n",
    "\n",
    "### Accessing elements at a lower level within XML\n",
    "\n",
    "Child elements can be accessed through the following systems:\n",
    "- `indexes`: By iterating them, you can access the attributes with indexes. As if they were an array.\n",
    "- `iter()`: Method of `Element` with which you can get all attributes called in a specific way.\n",
    "- `findall()`: Method similar to `iter()`, with the difference that only the values in the first level are returned.\n",
    "    - __NOTE__: The findall method also accepts an XPath expression. We encourage you to deepen your knowledge of XPath expressions and apply it to the example shown.\n",
    "- `attrib()`: Returns a dictionary with all the values of the child.\n",
    "\n",
    "#### Example with indexes:"
   ]
  },
  {
   "cell_type": "code",
   "execution_count": 6,
   "metadata": {},
   "outputs": [
    {
     "name": "stdout",
     "output_type": "stream",
     "text": [
      "My books:\n",
      "\n",
      "Title:  The Little Prince\n",
      "Author: Antoine de Saint-Exupéry\n",
      "Year:  1943 \n",
      "\n",
      "Title:  Hamlet\n",
      "Author: William Shakespeare\n",
      "Year:  1603 \n",
      "\n"
     ]
    }
   ],
   "source": [
    "print(\"My books:\\n\")\n",
    "for book in root:\n",
    "    print('Title: ', book.attrib['title'])\n",
    "    print('Author:', book[0].text)\n",
    "    print('Year: ', book[1].text, '\\n')\n"
   ]
  },
  {
   "cell_type": "markdown",
   "metadata": {},
   "source": [
    "\n",
    "#### Example with `iter()`:\n"
   ]
  },
  {
   "cell_type": "code",
   "execution_count": 7,
   "metadata": {},
   "outputs": [
    {
     "name": "stdout",
     "output_type": "stream",
     "text": [
      "Antoine de Saint-Exupéry\n",
      "William Shakespeare\n"
     ]
    }
   ],
   "source": [
    "for author in root.iter('author'):\n",
    "    print(author.text)\n"
   ]
  },
  {
   "cell_type": "markdown",
   "metadata": {},
   "source": [
    "#### Example with `findall()`:"
   ]
  },
  {
   "cell_type": "code",
   "execution_count": null,
   "metadata": {},
   "outputs": [],
   "source": []
  },
  {
   "cell_type": "code",
   "execution_count": 13,
   "metadata": {},
   "outputs": [
    {
     "name": "stdout",
     "output_type": "stream",
     "text": [
      "Antoine de Saint-Exupéry\n",
      "William Shakespeare\n"
     ]
    }
   ],
   "source": [
    "for book in root:\n",
    "    for author in book.findall('author'):\n",
    "        print(author.text)"
   ]
  },
  {
   "cell_type": "markdown",
   "metadata": {},
   "source": [
    "#### Example with `attrib`:"
   ]
  },
  {
   "cell_type": "code",
   "execution_count": 21,
   "metadata": {},
   "outputs": [
    {
     "name": "stdout",
     "output_type": "stream",
     "text": [
      "title :  The Little Prince\n",
      "title :  Hamlet\n"
     ]
    }
   ],
   "source": [
    "for book in root:\n",
    "    for key, val in book.attrib.items():\n",
    "        print(key, \": \", val)    "
   ]
  },
  {
   "cell_type": "markdown",
   "metadata": {},
   "source": [
    "\n",
    "---\n",
    "\n",
    "### Getting the first element that meets the requirements\n",
    "\n",
    "Another interesting feature of `Element` is a `find` call. This functionality returns the first element that matches the requested name.\n",
    "\n",
    "An example is shown below:"
   ]
  },
  {
   "cell_type": "code",
   "execution_count": 2,
   "metadata": {},
   "outputs": [
    {
     "name": "stdout",
     "output_type": "stream",
     "text": [
      "The Little Prince\n"
     ]
    }
   ],
   "source": [
    "print(root.find('book').get('title'))"
   ]
  },
  {
   "cell_type": "markdown",
   "metadata": {},
   "source": [
    "Note, however, that `find` will not perform a drill down, i.e. if the `tag` searched for is not part of the item itself, but of a child `find` will not return anything.\n",
    "\n",
    "The following is an example of using find to search for the author of the book starting from the root:"
   ]
  },
  {
   "cell_type": "code",
   "execution_count": 16,
   "metadata": {},
   "outputs": [
    {
     "name": "stdout",
     "output_type": "stream",
     "text": [
      "None\n",
      "Antoine de Saint-Exupéry\n"
     ]
    }
   ],
   "source": [
    "# As we can see, find cannot find the author when starting from the root of XML\n",
    "print(root.find('book').get(\"author\"))\n",
    "\n",
    "# However, if the search is carried out on the specific element where the author is located...\n",
    "print(root[0].find('author').text)"
   ]
  },
  {
   "cell_type": "markdown",
   "metadata": {},
   "source": [
    "\n",
    "---\n",
    "\n",
    "## Working with a parsed XML file\n",
    "\n",
    "So far we have covered how to read an XML document parsed through `xml.etree.ElementTree`. Now what remains to be understood is how we can edit this same document...\n",
    "\n",
    "The following points are related to editing XML documents.\n",
    "\n",
    "---\n",
    "\n",
    "### Adding elements\n",
    "\n",
    "Starting with the creation of new elements within the document. This action is achieved through the `set` method provided by the `Element` class.\n",
    "\n",
    "\n",
    "As an example, we will include in our XML library a field to indicate the genre of the book:"
   ]
  },
  {
   "cell_type": "code",
   "execution_count": 12,
   "metadata": {},
   "outputs": [
    {
     "name": "stdout",
     "output_type": "stream",
     "text": [
      "******************Book number 0*******************\n",
      "title :  The Little Prince\n",
      "author : Antoine de Saint-Exupéry\n",
      "year : 1943\n",
      "******************Book number 1*******************\n",
      "title :  Hamlet\n",
      "author : William Shakespeare\n",
      "year : 1603\n",
      "******************Book number 0*******************\n",
      "title :  The Little Prince\n",
      "genre :  who knows\n",
      "author : Antoine de Saint-Exupéry\n",
      "year : 1943\n",
      "******************Book number 1*******************\n",
      "title :  Hamlet\n",
      "genre :  who knows\n",
      "author : William Shakespeare\n",
      "year : 1603\n"
     ]
    }
   ],
   "source": [
    "from xml.etree.cElementTree import Element\n",
    "\n",
    "def display_book_characteristics(root: Element):\n",
    "    for number, book in enumerate(root):\n",
    "        print(f\"{book.tag.capitalize()} number {number}\".center(50, \"*\"))\n",
    "        for key, val in book.attrib.items():\n",
    "            print(key, \": \", val)\n",
    "        for characteristics in book:\n",
    "            print(characteristics.tag, \":\", characteristics.text)\n",
    "        \n",
    "\n",
    "# Resets the XML worked\n",
    "root = ET.fromstring(STRING_XML)\n",
    "display_book_characteristics(root)\n",
    "\n",
    "# For-loop for editing data in the XML file\n",
    "for book in root:\n",
    "    book.set(\"genre\", \"who knows\")\n",
    "    \n",
    "\n",
    "display_book_characteristics(root)"
   ]
  },
  {
   "cell_type": "markdown",
   "metadata": {},
   "source": [
    "__NOTE__: The data has not been saved in the XML document.\n",
    "\n",
    "---\n",
    "\n",
    "### Editing elements\n",
    "\n",
    "The values that we iterate through an XML file are editable, that is to say, everything that we modify in them will be saved in the association variable with the XML.\n",
    "\n",
    "As an example, and going back to the library file, let's say we want to make the following modifications:\n",
    "- The `.tag` _book_ will become _movie_.\n",
    "- The `.text` _year_ of all movies will become 2000.\n",
    "\n",
    "To achieve this we would need to do the following:"
   ]
  },
  {
   "cell_type": "code",
   "execution_count": 15,
   "metadata": {},
   "outputs": [
    {
     "name": "stdout",
     "output_type": "stream",
     "text": [
      "******************Book number 0*******************\n",
      "title :  The Little Prince\n",
      "author : Antoine de Saint-Exupéry\n",
      "year : 1943\n",
      "******************Book number 1*******************\n",
      "title :  Hamlet\n",
      "author : William Shakespeare\n",
      "year : 1603\n",
      "******************Movie number 0******************\n",
      "title :  The Little Prince\n",
      "author : Antoine de Saint-Exupéry\n",
      "year : 2000\n",
      "******************Movie number 1******************\n",
      "title :  Hamlet\n",
      "author : William Shakespeare\n",
      "year : 2000\n"
     ]
    }
   ],
   "source": [
    "# Resets the XML worked\n",
    "root = ET.fromstring(STRING_XML)\n",
    "display_book_characteristics(root)\n",
    "\n",
    "for book in root:\n",
    "    book.tag = 'movie'\n",
    "    book.find('year').text = 2000\n",
    "\n",
    "display_book_characteristics(root)"
   ]
  },
  {
   "cell_type": "markdown",
   "metadata": {},
   "source": [
    "\n",
    "---\n",
    "\n",
    "### Deleting elements\n",
    "\n",
    "In order to remove entries from an XML file we must make use of the `.remove()` method located in the `Element` class. This method accepts child elements as arguments.\n",
    "\n",
    "> NOTE: An easy way to pass these arguments is through the `.find()` method, since it will return the first element that makes reference to the `tag` we want to remove (which will be the same as the one we want to send as parameter).\n",
    "\n",
    "We will generate an example case through our well-known XML library, in this case what we will do is to remove the year among its values.\n",
    "\n",
    "This can be achieved through the following snipped of code:"
   ]
  },
  {
   "cell_type": "code",
   "execution_count": 16,
   "metadata": {},
   "outputs": [
    {
     "name": "stdout",
     "output_type": "stream",
     "text": [
      "******************Book number 0*******************\n",
      "title :  The Little Prince\n",
      "author : Antoine de Saint-Exupéry\n",
      "year : 1943\n",
      "******************Book number 1*******************\n",
      "title :  Hamlet\n",
      "author : William Shakespeare\n",
      "year : 1603\n",
      "******************Book number 0*******************\n",
      "title :  The Little Prince\n",
      "author : Antoine de Saint-Exupéry\n",
      "******************Book number 1*******************\n",
      "title :  Hamlet\n",
      "author : William Shakespeare\n"
     ]
    }
   ],
   "source": [
    "# Resets the XML worked\n",
    "root = ET.fromstring(STRING_XML)\n",
    "display_book_characteristics(root)\n",
    "\n",
    "for book in root:\n",
    "    book.remove(book.find('year'))\n",
    "\n",
    "display_book_characteristics(root)"
   ]
  },
  {
   "cell_type": "markdown",
   "metadata": {},
   "source": [
    "\n",
    "---\n",
    "\n",
    "### Saving changes done\n",
    "\n",
    "One thing that should not be forgotten is that changes made to our parsed variable will not be reflected in the final file. It is like making changes in a Word document and not saving them (they will be lost once the document is closed).\n",
    "\n",
    "For this case we must use the `write` method which owns `ElementTree` (the class we use to parse the file).\n",
    "\n",
    "Next we will show an example where we get our beloved library (in file format), apply changes and then save the results.\n",
    "\n",
    "The code to make the following changes is as follows:"
   ]
  },
  {
   "cell_type": "code",
   "execution_count": 50,
   "metadata": {},
   "outputs": [
    {
     "name": "stdout",
     "output_type": "stream",
     "text": [
      "<data>\n",
      "    <book title=\"The Little Prince\">\n",
      "        <author>Antoine de Saint-Exupery</author>\n",
      "        <year>1943</year>\n",
      "    </book>\n",
      "    <book title=\"Hamlet\">\n",
      "        <author>William Shakespeare</author>\n",
      "        <year>1603</year>\n",
      "    </book>\n",
      "</data>\n",
      "***************Showing changes done***************\n",
      "<data>\n",
      "    <movie title=\"The Little Prince\">\n",
      "        <author>Antoine de Saint-Exupery</author>\n",
      "        <year>1943</year>\n",
      "    </movie>\n",
      "    <movie title=\"Hamlet\">\n",
      "        <author>William Shakespeare</author>\n",
      "        <year>1603</year>\n",
      "    </movie>\n",
      "</data>\n"
     ]
    }
   ],
   "source": [
    "import os\n",
    "import xml.etree.ElementTree as ET\n",
    "\n",
    "# Getting the file that will be edited\n",
    "library = ET.parse('./persistance/book.xml')\n",
    "root = library.getroot()\n",
    "ET.dump(root)\n",
    "\n",
    "# Changing one value\n",
    "for book in root:\n",
    "    book.tag = 'movie'\n",
    "\n",
    "# Saving the results into a file\n",
    "library.write(\"movies.xml\")\n",
    "\n",
    "# Parsing, showing and deleting the file created\n",
    "print(\"Showing changes done\".center(50, \"*\"))\n",
    "ET.dump(ET.parse(\"movies.xml\"))\n",
    "os.remove(\"movies.xml\")\n"
   ]
  },
  {
   "cell_type": "markdown",
   "metadata": {},
   "source": [
    "In case we have not parsed the results through a file, but through a STRING, we do not have to manually generate the file ourselves.\n",
    "\n",
    "To have our ElementTree (and also our needed `.write()` method) we just need to instance it with our root element.\n",
    "\n",
    "Here is an example:"
   ]
  },
  {
   "cell_type": "code",
   "execution_count": 51,
   "metadata": {},
   "outputs": [
    {
     "name": "stdout",
     "output_type": "stream",
     "text": [
      "<data>\n",
      "    <book title=\"The Little Prince\">\n",
      "        <author>Antoine de Saint-Exupéry</author>\n",
      "        <year>1943</year>\n",
      "    </book>\n",
      "    <book title=\"Hamlet\">\n",
      "        <author>William Shakespeare</author>\n",
      "        <year>1603</year>\n",
      "    </book>\n",
      "</data>\n",
      "***************Showing changes done***************\n",
      "<data>\n",
      "    <movie title=\"The Little Prince\">\n",
      "        <author>Antoine de Saint-Exupéry</author>\n",
      "        <year>1943</year>\n",
      "    </movie>\n",
      "    <movie title=\"Hamlet\">\n",
      "        <author>William Shakespeare</author>\n",
      "        <year>1603</year>\n",
      "    </movie>\n",
      "</data>\n"
     ]
    }
   ],
   "source": [
    "import os\n",
    "\n",
    "# Resets the XML worked\n",
    "root = ET.fromstring(STRING_XML)\n",
    "ET.dump(root)\n",
    "\n",
    "# Making changes to the XML file\n",
    "for book in root:\n",
    "    book.tag = 'movie'\n",
    "\n",
    "# Saving results\n",
    "ET.ElementTree(root).write(\"movies.xml\")\n",
    "\n",
    "# Parsing,howing and deleting the file created\n",
    "print(\"Showing changes done\".center(50, \"*\"))\n",
    "ET.dump(ET.parse(\"movies.xml\"))\n",
    "os.remove(\"movies.xml\")\n"
   ]
  },
  {
   "cell_type": "markdown",
   "metadata": {},
   "source": [
    "\n",
    "---\n",
    "\n",
    "## Creating an XML from scratch\n",
    "\n",
    "Finally, we will show how to generate an XML file from scratch, that is, without starting from a file (or string) that we have parsed. This is not very complicated, since it basically consists of instantiating the `Element` class and populating it with `SubElements`.\n",
    "\n",
    "We go, as if it were an XML and, once the loading is finished, save the results through the `.write()` method (accessible throw the `ElementTree` class as we have seen in the [last episode](#saving-changes-done)).\n",
    "\n",
    "However, examples will be shown below to put the theory into practice.\n",
    "\n",
    "---\n",
    "\n",
    "### Creating the root element\n",
    "\n",
    "To begin with, we must generate an `Element` where the data of our XML file will be stored.\n",
    "\n"
   ]
  },
  {
   "cell_type": "code",
   "execution_count": 52,
   "metadata": {},
   "outputs": [
    {
     "name": "stdout",
     "output_type": "stream",
     "text": [
      "<data />\n"
     ]
    }
   ],
   "source": [
    "# Creating a new Element\n",
    "new_xml = ET.Element('data')\n",
    "\n",
    "# Printing the results\n",
    "ET.dump(new_xml)"
   ]
  },
  {
   "cell_type": "markdown",
   "metadata": {},
   "source": [
    "\n",
    "---\n",
    "\n",
    "### Adding SubElements\n",
    "\n",
    "Once the file is generated, we must load the subelements we need, this can be achieved by using the `SubElement` class.\n",
    "\n",
    "On this we will indicate the parent element and its subelements."
   ]
  },
  {
   "cell_type": "code",
   "execution_count": 53,
   "metadata": {},
   "outputs": [
    {
     "name": "stdout",
     "output_type": "stream",
     "text": [
      "<data><movie title=\"The Little Prince\" rate=\"5\" /><movie title=\"Hamlet\" rate=\"5\" /></data>\n"
     ]
    }
   ],
   "source": [
    "# Creating a new Element\n",
    "new_xml = ET.Element('data')\n",
    "\n",
    "# Populating the Element with SubElements\n",
    "ET.SubElement(new_xml, 'movie', {'title': 'The Little Prince', 'rate': '5'})\n",
    "ET.SubElement(new_xml, 'movie', {'title': 'Hamlet', 'rate': '5'})\n",
    "\n",
    "# Printing the results\n",
    "ET.dump(new_xml)"
   ]
  },
  {
   "cell_type": "markdown",
   "metadata": {},
   "source": [
    "\n",
    "---\n",
    "\n",
    "[< __INTRO MODULE 5__](./Introduction.ipynb)"
   ]
  }
 ],
 "metadata": {
  "kernelspec": {
   "display_name": "Python 3",
   "language": "python",
   "name": "python3"
  },
  "language_info": {
   "codemirror_mode": {
    "name": "ipython",
    "version": 3
   },
   "file_extension": ".py",
   "mimetype": "text/x-python",
   "name": "python",
   "nbconvert_exporter": "python",
   "pygments_lexer": "ipython3",
   "version": "3.10.12"
  }
 },
 "nbformat": 4,
 "nbformat_minor": 2
}
