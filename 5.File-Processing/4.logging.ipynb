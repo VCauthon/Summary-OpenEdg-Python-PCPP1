{
 "cells": [
  {
   "cell_type": "markdown",
   "metadata": {},
   "source": [
    "[< __INTRO MODULE 5__](./0.Introduction.ipynb)\n",
    "\n",
    "---"
   ]
  },
  {
   "cell_type": "markdown",
   "metadata": {},
   "source": [
    "# Index:\n",
    "\n",
    "- [Introduction to logging](#introduction-to-logging)\n",
    "- [Loggers](#loggers)\n",
    "    - [Logging levels](#logging-levels)\n",
    "    - [Setting a level](#setting-a-level)\n",
    "    - [Adding format](#adding-format)\n",
    "    - [Saving logs](#saving-logs)\n",
    "- [Basic configuration](#basic-configuration)\n",
    "\n",
    "---"
   ]
  },
  {
   "cell_type": "markdown",
   "metadata": {},
   "source": [
    "# Introduction to logging\n",
    "\n",
    "Python has a system for logging everything that happens in the script. Do not confuse a log with the use of `print()`__ to terminally display an error that has been generated.\n",
    "\n",
    "Logs are used to detect when an error is occurring in the system at a point in time.\n",
    "\n",
    "An __example of LOG__ would be the actions performed by a user on your web platform. A priori these logs would not be interesting, however, __if we detect a posteriori that on day X something strange happened in a user's account we will have the LOGS__ to be able to get an idea of what happened.\n",
    "\n",
    "Logs can be displayed in different formats:\n",
    "- A file\n",
    "- Output stream\n",
    "- Load them into an external system\n",
    "\n",
    "Python offers all this functionality through the `logging` module.\n",
    "\n",
    "---\n",
    "\n",
    "# Loggers\n",
    "\n",
    "The system with which Logs can be generated is called a logger and they work like classes in python, i.e. there is a hierarchy topped by a logger called `root`.\n",
    "\n",
    "Then all its descendants inherit features from it, such as:\n",
    "- [Logging-levels](#logging-levels): How severe messages must be, as a minimum, to be processed.\n",
    "- [Handlers](#saving-logs): How messages will be displayed\n",
    "- [Format](#adding-format): The format in which the messages will be displayed.\n",
    "- Filters: Message filters can be applied so that they are not displayed by the current logger and children.\n",
    "- Propagation: Allow generated logs to propagate upwards (enabled by default)\n",
    "\n",
    "If the python script is simple, it is recommended to use the `root` logger. We can access it by creating the logger object through `getLogger()` without sending any parameters.\n",
    "\n",
    "Here is an example:"
   ]
  },
  {
   "cell_type": "code",
   "execution_count": 4,
   "metadata": {},
   "outputs": [
    {
     "name": "stderr",
     "output_type": "stream",
     "text": [
      "Hi from root logger\n"
     ]
    }
   ],
   "source": [
    "import logging\n",
    "\n",
    "logger = logging.getLogger()\n",
    "logger.critical(\"Hi from root logger\")"
   ]
  },
  {
   "cell_type": "markdown",
   "metadata": {},
   "source": [
    "For more complex structures, where inheritance-linked loggers are required, specify in the `getLogger()` parameter the desired hierarchy using dot-separated names.\n",
    "\n",
    "For example, in the following we will generate the logger father, child1 and child2. Obviously, the child loggers are inheritors of father:"
   ]
  },
  {
   "cell_type": "code",
   "execution_count": null,
   "metadata": {},
   "outputs": [],
   "source": [
    "father = logging.getLogger(\"father\")\n",
    "child1 = logging.getLogger(\"father.child1\")\n",
    "child2 = logging.getLogger(\"father.child2\")"
   ]
  },
  {
   "cell_type": "markdown",
   "metadata": {},
   "source": [
    "As we can see, the creation of loggers is very similar to modules in python, for example, let's imagine that we want to import data from child2, surely what we could do is a ... `import father.child2`.\n",
    "\n",
    "The nomenclature of the loggers is analogous to the import of modules in Python, which facilitates the organisation and management of logs in large applications. Therefore, it is advisable to use the __name__ parameter in getLogger to automatically reflect the module in use, thus improving log management and tracking.\n",
    "\n",
    "In other words, what we should do as a general rule is:"
   ]
  },
  {
   "cell_type": "code",
   "execution_count": null,
   "metadata": {},
   "outputs": [],
   "source": [
    "logger = logging.getLogger(__name__)"
   ]
  },
  {
   "cell_type": "markdown",
   "metadata": {},
   "source": [
    "\n",
    "---\n",
    "\n",
    "## Logging levels\n",
    "\n",
    "As we have seen in the previous example (`logger.critical(‘Hi from root logger’)`), for the logger to generate the message we have to explicitly indicate the message.\n",
    "\n",
    "We have different levels of criticality when generating it, these are:"
   ]
  },
  {
   "cell_type": "code",
   "execution_count": 5,
   "metadata": {},
   "outputs": [
    {
     "name": "stderr",
     "output_type": "stream",
     "text": [
      "CRITICAL:root:Your CRITICAL message\n",
      "ERROR:root:Your ERROR message\n",
      "WARNING:root:Your WARNING message\n"
     ]
    }
   ],
   "source": [
    "# Creating the logger\n",
    "logging.basicConfig()\n",
    "logger = logging.getLogger()\n",
    "\n",
    "# Messages\n",
    "logger.critical('Your CRITICAL message')\n",
    "logger.error('Your ERROR message')\n",
    "logger.warning('Your WARNING message')\n",
    "logger.info('Your INFO message')\n",
    "logger.debug('Your DEBUG message')"
   ]
  },
  {
   "cell_type": "markdown",
   "metadata": {},
   "source": [
    "Of the 5 messages, only 3 have been generated. This is due to the configuration of the logger itself, which defines the minimum level of criticality for a message to be displayed. \n",
    "\n",
    "> __NOTE__: We will go into detail about the initial log message (`...:root:...`) in the section \"[Adding format](#adding-format)\".\n",
    "\n",
    "As we can guess, `root`, only shows up to warnings, which may lead us to ask __What should I do to show the `info` and `debut` message logs?__?\n",
    "\n",
    "To define the level of criticality defined, we first need to know the existing levels\n",
    "\n",
    "| Level name | Value |\n",
    "|--|--|\n",
    "| CRITICAL | 50 |\n",
    "| ERROR | 40 |\n",
    "| WARNING | 30 |\n",
    "| INFO | 20 |\n",
    "| DEBUG | 10 |\n",
    "| NOTSET | 0 |\n",
    "\n",
    "<br>\n",
    "\n",
    "> __NOTE__: Please note that Logger allows you to create your own levels although the existing ones from the module itself should be enough.\n",
    "\n",
    "Then, in order to define the level of messages that will be shown with the generated logger, we must use the `setLevel()` method, indicating as a parameter the minimum level we want to show.\n",
    "\n",
    "If we query the table we can use the `DEBUT` or `NOTSET` value to display the `INFO` and `DEBUG` messages.\n",
    "\n",
    "Here is an example:"
   ]
  },
  {
   "cell_type": "code",
   "execution_count": 6,
   "metadata": {},
   "outputs": [
    {
     "name": "stderr",
     "output_type": "stream",
     "text": [
      "CRITICAL:root:Your CRITICAL message\n",
      "ERROR:root:Your ERROR message\n",
      "WARNING:root:Your WARNING message\n",
      "INFO:root:Your INFO message\n",
      "DEBUG:root:Your DEBUG message\n"
     ]
    }
   ],
   "source": [
    "logger.setLevel(logging.NOTSET)\n",
    "\n",
    "# Messages\n",
    "logger.critical('Your CRITICAL message')\n",
    "logger.error('Your ERROR message')\n",
    "logger.warning('Your WARNING message')\n",
    "logger.info('Your INFO message')\n",
    "logger.debug('Your DEBUG message')"
   ]
  },
  {
   "cell_type": "markdown",
   "metadata": {},
   "source": [
    "Regarding the criticality inheritance, it is important to note that when creating a new logger (not root) it will have a `NOTSET` criticality level, however, instead of displaying all messages in a predefined way, it will inherit the criticality of its upper layer.\n",
    "\n",
    "Practical Example:\n",
    "\n",
    "Imagine you have the following logger scheme:\n",
    "\n",
    ">Root Logger (`WARNING` level).<br>\n",
    ">&nbsp;&nbsp;&nbsp;&nbsp;└── Logger A (level `NOTSET`).<br>\n",
    ">&nbsp;&nbsp;&nbsp;&nbsp;&nbsp;&nbsp;&nbsp;&nbsp;&nbsp;└── Logger B (level `NOTSET`)\n",
    "\n",
    "- Logger A inherits the `WARNING` level from the root logger because its level is `NOTSET`. This means that Logger A will not process DEBUG or INFO messages.\n",
    "- Logger B also inherits the `WARNING` level because both its level and that of its parent (Logger A) are `NOTSET`.\n",
    "\n",
    "However, if we set the root logger to have a `NOTSET` criticality level, all its children will display all messages by default. Unless between the child and root there is a logger with a defined criticality level. Then that child will inherit that criticality level.\n",
    "\n",
    "---\n",
    "\n",
    "## Saving logs\n",
    "\n",
    "As mentioned [above](#loggers), a logger can define where the generated logs will be stored, be it on the terminal, in a file or on an external system.\n",
    "\n",
    "To serve this purpose, `logging` introduces `Handlers`, in particular, and for saving logs to files, it introduces the `FileHandler`.\n",
    "\n",
    "To generate a handler to save logs to a file, do the following:\n",
    "1. Instantiate a `FileHandler`.\n",
    "2. When instantiating, the following arguments are provided:\n",
    "    - Name of the file\n",
    "    - Mode to work with (the same mode used in the `open()` function).\n",
    "3. On the instantiated handler we define the level at which these messages will be shown with the `setLevel` method.\n",
    "4. Bind the Handler in the Logger through the `addHandler` method.\n",
    "\n",
    "> NOTE: Note that each handler can have its own criticality level. This opens the door that, for the same logger, the critical messages are stored in a file and everything lower is only displayed on screen.\n",
    "\n",
    "An example is shown below:"
   ]
  },
  {
   "cell_type": "code",
   "execution_count": 2,
   "metadata": {},
   "outputs": [],
   "source": [
    "logger = logging.getLogger(__name__)\n",
    "\n",
    "handler = logging.FileHandler('./persistance/example_logging_handler_module_4', mode='w')\n",
    "handler.setLevel(logging.CRITICAL)\n",
    "\n",
    "logger.addHandler(handler)\n",
    "\n",
    "logger.critical('Your CRITICAL message')\n",
    "logger.error('Your ERROR message')\n",
    "logger.warning('Your WARNING message')\n",
    "logger.info('Your INFO message')\n",
    "logger.debug('Your DEBUG message')"
   ]
  },
  {
   "cell_type": "markdown",
   "metadata": {},
   "source": [
    "If we look at the [generated file](./persistance/example_logging_handler_module_4), we will see that it has no formatting whatsoever, i.e. it is the literal message received.\n",
    "\n",
    "However... this message can be formatted a bit in order to provide all the necessary context, this is done through the [formatters](#adding-format).\n",
    "\n",
    "---\n",
    "\n",
    "## Adding format\n",
    "\n",
    "To apply a format we only need to include in the handler the format we want to apply.\n",
    "\n",
    "This format is generated through the `LogRecord` object which has [many attributes](https://docs.python.org/3/library/logging.html#logrecord-attributes) to format the generated message, here is a selection of options:\n",
    "- `%(name)s`: This pattern will be replaced by the name of the logger that calls the logging method. In our case, it's the root logger;\n",
    "- `%(levelname)s`: This pattern will be replaced with the set login level. In our case, this is the CRITICAL level;\n",
    "- `%(asctime)s`: This pattern will be replaced with a human-readable date format that indicates when the LogRecord object was created. The decimal value is expressed in milliseconds;\n",
    "- `%(message)s`: This pattern will be replaced by the defined message. In our case, it's 'Your CRITICAL message'.\n",
    "\n",
    "An example is shown below:"
   ]
  },
  {
   "cell_type": "code",
   "execution_count": 3,
   "metadata": {},
   "outputs": [],
   "source": [
    "import logging\n",
    "\n",
    "FORMAT = '%(name)s:%(levelname)s:%(asctime)s:%(message)s'\n",
    "\n",
    "logger = logging.getLogger(__name__)\n",
    "\n",
    "handler = logging.FileHandler('./persistance/example_logging_handler_formatted_module_4', mode='w')\n",
    "handler.setLevel(logging.CRITICAL)\n",
    "\n",
    "formatter = logging.Formatter(FORMAT)\n",
    "handler.setFormatter(formatter)\n",
    "\n",
    "logger.addHandler(handler)\n",
    "\n",
    "logger.critical('Your CRITICAL message')\n",
    "logger.error('Your ERROR message')\n",
    "logger.warning('Your WARNING message')\n",
    "logger.info('Your INFO message')\n",
    "logger.debug('Your DEBUG message')"
   ]
  },
  {
   "cell_type": "markdown",
   "metadata": {},
   "source": [
    "\n",
    "---\n",
    "\n",
    "## Basic configuration\n",
    "\n",
    "The logging module has a system for defining the configuration of the root logger and its children. This system can be accessed through the `basicConfig()` method.\n",
    "\n",
    "When calling it we can indicate in the parameters how each of the logger's features will be configured, however, if we don't inform anything a predefined configuration will be set (as we have seen in [examples](#logging-levels) above).\n",
    "\n",
    "The default configuration (with no arguments) does the following:\n",
    "1. Generates a `StreamHandler` to display the log output on screen.\n",
    "2. The `StreamHandler` is created from the default `Formatter`.\n",
    "    - The format consists of `LEVEL:LOGGER_NAME:MESSAGE`.\n",
    "3. The created andler is passed to the root logger.\n",
    "\n",
    "If instead we send the arguments to `basicConfig` we can tell it the criticality level, output system and how the log file is treated.\n",
    "\n",
    "> __NOTE__: Keep in mind that `basicConfig` can only be run once, so second runs will have no effect on the logger. This is especially important for this demo as we will need to (manually) restart the Jupyter Notebook kernel for it to work.\n",
    "\n",
    "An example is shown below:"
   ]
  },
  {
   "cell_type": "code",
   "execution_count": 1,
   "metadata": {},
   "outputs": [],
   "source": [
    "import logging\n",
    "\n",
    "FORMAT = '%(name)s:%(levelname)s:%(asctime)s:%(message)s'\n",
    "\n",
    "logging.basicConfig(level=logging.CRITICAL, filename='./persistance/example_logging_module_4_prod.log', filemode='a', format=FORMAT)\n",
    "\n",
    "loggerNew = logging.getLogger()\n",
    "\n",
    "loggerNew.critical('Your CRITICAL message')\n",
    "loggerNew.error('Your ERROR message')\n",
    "loggerNew.warning('Your WARNING message')\n",
    "loggerNew.info('Your INFO message')\n",
    "loggerNew.debug('Your DEBUG message')"
   ]
  },
  {
   "cell_type": "markdown",
   "metadata": {},
   "source": [
    "As we can see [here](./persistance/example_logging_module_4_prod.log), only the message with the critical level has been recorded in the log.\n",
    "\n",
    "The following are some of the arguments that `basicConfig` may receive:\n",
    "- `level`: The level that is set as the minimum level for displaying messages in root.\n",
    "- `filename`: What the generated log file will be called (this will imply that logs will not be displayed per terminal).\n",
    "- `filemode`: How the log file will be treated (this is related to the `open()` mode of files)\n",
    "- `format`: Format in which the messages will be displayed\n",
    "    - The default format is: `%(levelname)s:%(name)s:%(message)s`."
   ]
  },
  {
   "cell_type": "markdown",
   "metadata": {},
   "source": [
    "\n",
    "---\n",
    "\n",
    "[< __INTRO MODULE 5__](./Introduction.ipynb)"
   ]
  }
 ],
 "metadata": {
  "kernelspec": {
   "display_name": "Python 3",
   "language": "python",
   "name": "python3"
  },
  "language_info": {
   "codemirror_mode": {
    "name": "ipython",
    "version": 3
   },
   "file_extension": ".py",
   "mimetype": "text/x-python",
   "name": "python",
   "nbconvert_exporter": "python",
   "pygments_lexer": "ipython3",
   "version": "3.10.12"
  }
 },
 "nbformat": 4,
 "nbformat_minor": 2
}
