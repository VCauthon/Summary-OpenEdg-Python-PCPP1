{
 "cells": [
  {
   "cell_type": "markdown",
   "metadata": {},
   "source": [
    "[< __INTRO MODULE 1__](../README.md)\n",
    "\n",
    "---"
   ]
  },
  {
   "cell_type": "markdown",
   "metadata": {},
   "source": [
    "# Index\n",
    "\n",
    "- [Introduction](#introduction)\n",
    "- [Lets code an example](#lets-code-an-example)\n",
    "- [More actions from the property decorator](#more-actions-from-the-property-decorator)\n",
    "\n",
    "---"
   ]
  },
  {
   "cell_type": "markdown",
   "metadata": {},
   "source": [
    "### Introduction\n",
    "\n",
    "It describes the idea of bundling attributes and methods that work on those attributes within a class.\n",
    "\n",
    "Encapsulation is used to hide the __attributes variables__ inside a class like in a __capsule__, preventing unauthorized parties' direct access to them. Publicly accessible __methods__ are provided in the class __to access__ the values, and other objects call those methods to retrieve and modify the values within the object. \n",
    "\n",
    "![Alt text](../media/encapsulation.png)\n",
    "\n",
    "Python introduces the concept of __properties__ that act like proxies to encapsulated attributes."
   ]
  },
  {
   "cell_type": "markdown",
   "metadata": {},
   "source": [
    "---"
   ]
  },
  {
   "cell_type": "markdown",
   "metadata": {},
   "source": [
    "### Lets code an example\n",
    "\n",
    "As we were saying, the use of the property decorator allows to generate methods of the getter/setter type so that, when the user manipulates a specific variable of the class, additional validations are performed before applying the action expected by the user.\n",
    "\n",
    "Basically, the property decorator will bind the methods that we indicate to it. It will be our work to generate the private attributes and to implement the methods that return or modify this variable.\n",
    "\n",
    "The property decorator can be phased in two parts:\n",
    "1. A getter method is generated and the @property decorator is added.\n",
    "2. A setter method is generated and the decorator @variable_name.setter is added to it.\n",
    "\n",
    "NOTE: Both methods will have the name we want the user to see as the attribute to manipulate.\n",
    "\n",
    "Let's see a very basic example:"
   ]
  },
  {
   "cell_type": "code",
   "execution_count": 20,
   "metadata": {},
   "outputs": [
    {
     "name": "stdout",
     "output_type": "stream",
     "text": [
      "This is not clothing!\n",
      "The wash cycle has started\n",
      "There are still 10 seconds left in the wash cycle\n",
      "There are still 8 seconds left in the wash cycle\n",
      "There are still 5 seconds left in the wash cycle\n",
      "There are still 3 seconds left in the wash cycle\n",
      "[\"I'm\", 'clothes']\n"
     ]
    }
   ],
   "source": [
    "from datetime import datetime\n",
    "import time\n",
    "from typing import List\n",
    "\n",
    "\n",
    "class WashingMachine:\n",
    "    def __init__(self) -> None:\n",
    "        self.__washing_drum: List[str] = None\n",
    "        self.__timer: datetime = None\n",
    "        self.__cleaning_cycle = False\n",
    "\n",
    "    @property\n",
    "    def washing_drum(self):  # Here we are defining the getter\n",
    "        # To recover the clothes, it will be necessary that 10 seconds have passed\n",
    "        # Otherwise a warning will be returned indicating that the cleaning is not finished.        \n",
    "        if self.__cleaning_cycle:\n",
    "            if self.seconds_passed() >= 10:\n",
    "                returned_clothe, self.__washing_drum = self.__washing_drum, None\n",
    "                self.__cleaning_cycle = False\n",
    "                return returned_clothe\n",
    "            print(f\"There are still {10 - self.seconds_passed()} seconds left in the wash cycle\")\n",
    "        else:\n",
    "            print('There are no clothes inside')\n",
    "\n",
    "    def seconds_passed(self) -> int:\n",
    "        if self.__timer is None:\n",
    "            return 0\n",
    "        return (datetime.now() - self.__timer).seconds\n",
    "\n",
    "    @washing_drum.setter\n",
    "    def washing_drum(self, clothes: List[str]):  # The setter is defined here\n",
    "        # It is validated that what has been put into the washing machine is laundry and there is no current cleaning cycle.\n",
    "        if self.__cleaning_cycle:\n",
    "            print(\"There is a wash cycle in progress!\")\n",
    "        else:\n",
    "            if not isinstance(clothes, list):\n",
    "                print(\"This is not clothing!\")\n",
    "            elif not all(isinstance(cloth, str) for cloth in clothes):\n",
    "                print(\"This is not clothing!\")\n",
    "            else:\n",
    "                self.__washing_drum = clothes\n",
    "                self.__timer = datetime.now()\n",
    "                self.__cleaning_cycle = True\n",
    "                print(\"The wash cycle has started\")\n",
    "\n",
    "obj = WashingMachine()\n",
    "obj.washing_drum = \"I'm not clothes\"  # Aka list of strings\n",
    "obj.washing_drum = [\"I'm\", \"clothes\"]\n",
    "\n",
    "# Lets try to retrieve the clothes\n",
    "clothes = None\n",
    "while clothes is None:\n",
    "    # Let's check if there are clothes to be retrieved\n",
    "    clothes = obj.washing_drum\n",
    "    time.sleep(2.5)\n",
    "\n",
    "print(clothes)\n",
    "\n",
    "\n",
    "\n"
   ]
  },
  {
   "cell_type": "markdown",
   "metadata": {},
   "source": [
    "---"
   ]
  },
  {
   "cell_type": "markdown",
   "metadata": {},
   "source": [
    "### More actions from the property decorator\n",
    "\n",
    "Apart from generating the setter and getters of a variable the property decorator also allows to control what happens __when the user deletes the variable__.\n",
    "\n",
    "That is to say, and reusing the previous case, to do something like this:\n",
    "\n",
    "`del washing_drum`\n",
    "\n",
    "Through property we could control it using the following:\n",
    "\n",
    "`@washing_drum.deleter`\n",
    "\n",
    "This decorator should encapsulate the method that is in charge of deleting this variable.\n"
   ]
  },
  {
   "cell_type": "markdown",
   "metadata": {},
   "source": [
    "\n",
    "---\n",
    "\n",
    "[< __INTRO MODULE 1__](../README.md)"
   ]
  }
 ],
 "metadata": {
  "kernelspec": {
   "display_name": "Python 3",
   "language": "python",
   "name": "python3"
  },
  "language_info": {
   "codemirror_mode": {
    "name": "ipython",
    "version": 3
   },
   "file_extension": ".py",
   "mimetype": "text/x-python",
   "name": "python",
   "nbconvert_exporter": "python",
   "pygments_lexer": "ipython3",
   "version": "3.10.12"
  },
  "orig_nbformat": 4
 },
 "nbformat": 4,
 "nbformat_minor": 2
}
