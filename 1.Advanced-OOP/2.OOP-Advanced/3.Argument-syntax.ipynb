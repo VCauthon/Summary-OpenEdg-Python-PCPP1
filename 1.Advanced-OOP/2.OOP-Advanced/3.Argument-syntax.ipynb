{
 "cells": [
  {
   "cell_type": "markdown",
   "metadata": {},
   "source": [
    "# Extended function argument syntax\n",
    "---\n",
    "[< __GO BACK__](https://github.com/VCauthon/Summary-OpenEdg-Pyhon-PCPP1/blob/main/1.Advanced-OOP/2.OOP-Advanced/Introduction.ipynb)"
   ]
  },
  {
   "cell_type": "markdown",
   "metadata": {},
   "source": [
    "#### Recalling how arguments work\n",
    "\n",
    "When we talk about function arguments, we should recall the following facts:\n",
    "\n",
    "- Functions that can be invoked __without arguments__.\n",
    "    ```python\n",
    "    def f() -> int:\n",
    "        return 1\n",
    "\n",
    "    print(f())\n",
    "    ```\n",
    "\n",
    "- Functions that needs __a specific number of arguments__ (with no exclusions) and in a specific order.\n",
    "    ```python\n",
    "    def f(sum1, sum2, sub1) -> int:\n",
    "        return sum1 + sum2 - sub1\n",
    "\n",
    "    print(f(1, 2, 3))\n",
    "    ```\n",
    "\n",
    "- Functions that has a set of default values (and you don't need to pass them).\n",
    "    ```python\n",
    "    def f(sum1, sum2, sub1=0) -> int:\n",
    "        return sum1 + sum2 - sub1\n",
    "\n",
    "    print(f(1, 2))\n",
    "    ```\n",
    "\n",
    "- If the keyword of each parameter is assigned we can pass the arguments as we wish.\n",
    "    ```python\n",
    "    def f(sum1, sum2, sub1=0) -> int:\n",
    "        return sum1 + sum2 - sub1\n",
    "\n",
    "    print(f(sum2=1, sum1=2))\n",
    "    ```\n",
    "\n",
    "---"
   ]
  },
  {
   "cell_type": "markdown",
   "metadata": {},
   "source": [
    "#### Functions than can accept any arbitrary number of arguments\n",
    "\n",
    "Before going into detail about __how to create functions that accept any number of arguments__, let's start by talking about a function, of type build-in, that allows any number of arguments.\n",
    "\n",
    "Yes, we are talking about `print()`.\n",
    "\n",
    "This function terminally displays whatever is given to it, however, it can be given an arbitrary number of arguments.\n",
    "\n",
    "That is, these three lines of code are equally correct:\n",
    "\n",
    "```python\n",
    "print('Hello, how are you?')\n",
    "print('Hello' + 'how are you?')\n",
    "print('Hello' + 'like' + 'are you?')\n",
    "```\n",
    "\n",
    "---"
   ]
  },
  {
   "cell_type": "markdown",
   "metadata": {},
   "source": [
    "#### The `*args` and `**kwargs` argument\n",
    "\n",
    "To tell a function that will receive an arbitrary number of arguments, we use the `*args` and `**kwargs` arguments.\n",
    "\n",
    "The difference in both is the following:\n",
    "- `*args` is used to pass a `tuple` of arguments to the function.\n",
    "- `**kwargs` is used to pass a `dictionary` of arguments to the function.\n",
    "\n",
    "__NOTE__: Its not mandatory to call this arguments like this, but it's a convention, however, __the `*` and `**` are mandatory__.\n",
    "\n",
    "In the following section we will see these arguments in action with a code example:"
   ]
  },
  {
   "cell_type": "code",
   "execution_count": 3,
   "metadata": {},
   "outputs": [
    {
     "name": "stdout",
     "output_type": "stream",
     "text": [
      "10 <class 'int'>\n",
      "20 <class 'str'>\n",
      "(40, 60, 30) <class 'tuple'>\n",
      "{'argument1': 50, 'argument2': '66'} <class 'dict'>\n"
     ]
    }
   ],
   "source": [
    "def combiner(a, b, *args, **kwargs):\n",
    "    print(a, type(a))\n",
    "    print(b, type(b))\n",
    "    print(args, type(args))\n",
    "    print(kwargs, type(kwargs))\n",
    "\n",
    "\n",
    "combiner(10, '20', 40, 60, 30, argument1=50, argument2='66')\n"
   ]
  },
  {
   "cell_type": "markdown",
   "metadata": {},
   "source": [
    "---"
   ]
  },
  {
   "cell_type": "markdown",
   "metadata": {},
   "source": [
    "#### Passing this kind of arguments\n",
    "\n",
    "For a function to be able to pass this type of special arguments to another function it is necessary to include the asterisks (`*` and `**`) in the parameters. These asterisks must be kept if they are to be sent to another function/argument, otherwise the argument is unpacked. Converting args (*args) to a tuple and kwargs (**kwargs) to a dictionary.\n",
    "\n",
    "Another important thing to emphasize is that the function that receives the parameters must include the famous asterisks.\n",
    "\n",
    "Here goes a code example:"
   ]
  },
  {
   "cell_type": "code",
   "execution_count": 7,
   "metadata": {},
   "outputs": [
    {
     "name": "stdout",
     "output_type": "stream",
     "text": [
      "Non arbitrary arguments: 1 and 2\n",
      "Here the parameter is a tuple: (3, 4, 5, 6, 7)\n",
      "Here the parameter is a dictionary {'hi': 'hi'}\n"
     ]
    }
   ],
   "source": [
    "def function1(arg1: int, arg2: int, *args, **kwargs):\n",
    "    print(f\"Non arbitrary arguments: {arg1} and {arg2}\")\n",
    "    function2(*args, **kwargs)  # Here we are passing all arbitrary arguments\n",
    "\n",
    "def function2(*args, **kwargs):\n",
    "    print(f\"Here the parameter is a tuple: {args}\")\n",
    "    print(f\"Here the parameter is a dictionary {kwargs}\")\n",
    "\n",
    "function1(1, 2, 3, 4, 5, 6, 7, hi=\"hi\")"
   ]
  },
  {
   "cell_type": "markdown",
   "metadata": {},
   "source": [
    "---\n",
    "[< __GO BACK__](https://github.com/VCauthon/Summary-OpenEdg-Pyhon-PCPP1/blob/main/1.Advanced-OOP/2.OOP-Advanced/Introduction.ipynb)"
   ]
  }
 ],
 "metadata": {
  "kernelspec": {
   "display_name": "Python 3",
   "language": "python",
   "name": "python3"
  },
  "language_info": {
   "codemirror_mode": {
    "name": "ipython",
    "version": 3
   },
   "file_extension": ".py",
   "mimetype": "text/x-python",
   "name": "python",
   "nbconvert_exporter": "python",
   "pygments_lexer": "ipython3",
   "version": "3.10.12"
  },
  "orig_nbformat": 4
 },
 "nbformat": 4,
 "nbformat_minor": 2
}
