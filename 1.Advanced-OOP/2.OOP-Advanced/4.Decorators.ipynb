{
 "cells": [
  {
   "cell_type": "markdown",
   "metadata": {},
   "source": [
    "# Decorators\n",
    "---\n",
    "[< __GO BACK__](https://github.com/VCauthon/Summary-OpenEdg-Pyhon-PCPP1/blob/main/1.Advanced-OOP/2.OOP-Advanced/Introduction.ipynb)"
   ]
  },
  {
   "cell_type": "markdown",
   "metadata": {},
   "source": [
    "### Introduction\n",
    "\n",
    "The decorator's operation is based on wrapping the original function with a new \"decorating\" function (or class), hence the name \"decoration\". Of course, the decorating function does more, __because it can take the parameters of the decorated function and perform additional actions__ and that make it a real decorating function.\n",
    "\n",
    "__NOTE__: Note that decorators, in Python, are still closures.\n",
    "\n",
    "A decorator, apart from encapsulating a function, can also receive the arguments of that function and receive other arguments not related to it. The following are some of the possibilities with decorators.\n",
    "\n",
    "Here are some case uses of decorators:\n",
    "- Working with arguments:\n",
    "    - Validation\n",
    "    - Modification before passing to the decorated function\n",
    "    - Return the result arguments parsed\n",
    "- Debugging\n",
    "    - Measurement of execution time.\n",
    "    - Message logging.\n",
    "- Thread synchronization.\n",
    "- DRY (Don't Repeat Yourself) principle.\n",
    "- Caching.\n",
    "\n",
    "---"
   ]
  },
  {
   "cell_type": "markdown",
   "metadata": {},
   "source": [
    "### Decorators: Only wrapping a function\n",
    "\n",
    "This is the simplest example where the decorator encapsulates a function and does not need to send arguments to it (since it does not use them).\n",
    "\n",
    "Here goes a code example:"
   ]
  },
  {
   "cell_type": "code",
   "execution_count": 10,
   "metadata": {},
   "outputs": [
    {
     "name": "stdout",
     "output_type": "stream",
     "text": [
      "The simple_decorator is wrapping simple_function\n",
      "The parameters received are 'Hi' and 'Bye'\n"
     ]
    }
   ],
   "source": [
    "def simple_decorator(func):  # The argument of a decorator it's always the wrapped function\n",
    "    print(f\"The simple_decorator is wrapping {func.__name__}\")\n",
    "    return func  # The last argument of a decorator is called\n",
    "    # ^ It passes all the arguments send by the user even without concreting\n",
    "\n",
    "@simple_decorator  # This can be interpreted as simple_decorator(simple_function())\n",
    "def simple_function(arg1, arg2):  # This function now is received as an argument by the simple_decorator\n",
    "    print(f\"The parameters received are '{arg1}' and '{arg2}'\")\n",
    "\n",
    "simple_function(\"Hi\", \"Bye\")\n"
   ]
  },
  {
   "cell_type": "markdown",
   "metadata": {},
   "source": [
    "---"
   ]
  },
  {
   "cell_type": "markdown",
   "metadata": {},
   "source": [
    "### Decorators: Working with the function arguments\n",
    "\n",
    "One of the examples given above is that the decorator can work with arguments of the function it encapsulates, however, in the above demonstration we do not work with these arguments, so to do so we must use closures to access these arguments.\n",
    "\n",
    "An example in code would be the following:"
   ]
  },
  {
   "cell_type": "code",
   "execution_count": 11,
   "metadata": {},
   "outputs": [
    {
     "name": "stdout",
     "output_type": "stream",
     "text": [
      "The simple_decorator is wrapping simple_function\n",
      "The decorator has access to Hi and Bye\n",
      "Argument that the decorated function doesn't use 'Yoh!'\n",
      "The parameters received are 'Hi' and 'Bye'\n"
     ]
    }
   ],
   "source": [
    "def simple_decorator(func):\n",
    "    def wrapper(*args, **kwargs):  # Now i have access to the arguments sent by the user\n",
    "        print(f\"The simple_decorator is wrapping {func.__name__}\")\n",
    "        print(f\"The decorator has access to {args[0]} and {args[1]}\")  # We are using the *args parameters because in this example we haven't used keywords\n",
    "        print(f\"Argument that the decorated function doesn\\'t use '{kwargs['decorator_argument']}'\")\n",
    "        return func(*args, **kwargs)  # In this section the encapsulated function must be called manually by sending the received arguments\n",
    "    return wrapper  # We return the wrapper itself so that it receives the arguments sent to the function\n",
    "\n",
    "@simple_decorator\n",
    "def simple_function(arg1=\"\", arg2=\"\", **kwargs):\n",
    "    print(f\"The parameters received are '{arg1}' and '{arg2}'\")\n",
    "\n",
    "simple_function(\"Hi\", \"Bye\", decorator_argument=\"Yoh!\")"
   ]
  },
  {
   "cell_type": "markdown",
   "metadata": {},
   "source": [
    "\n",
    "---"
   ]
  },
  {
   "cell_type": "markdown",
   "metadata": {},
   "source": [
    "### Decorator: Receiving it's own arguments\n",
    "\n",
    "The decorator can also receive arguments, which are not related to the function it encapsulates, but are used by the decorator itself. This is done by creating a function that returns the decorator, which in turn encapsulates the function.\n",
    "\n",
    "Let's create an example that validates the datatype of the arguments received by the wrapped function:"
   ]
  },
  {
   "cell_type": "code",
   "execution_count": 20,
   "metadata": {},
   "outputs": [
    {
     "name": "stdout",
     "output_type": "stream",
     "text": [
      "The simple_decorator is wrapping simple_function\n",
      "The decorator has access to Hi and 2\n",
      "\n",
      "The decorator checks that the arguments received have the datatype '<class 'int'>':\n",
      "The argument 'Hi' doesn't have the expected datatype (has <class 'str'>)\n",
      "The argument '2' have the expected datatype\n",
      "\n",
      "Argument that the decorated function doesn't use 'Yoh!'\n",
      "The parameters received are 'Hi' and '2'\n"
     ]
    }
   ],
   "source": [
    "def validate_datatype(validate_datatype):  # This example just adds an initial function that receive the specified decorator argument\n",
    "    def simple_decorator(func):\n",
    "        def wrapper(*args, **kwargs):\n",
    "            print(f\"The simple_decorator is wrapping {func.__name__}\")\n",
    "            print(f\"The decorator has access to {args[0]} and {args[1]}\\n\")\n",
    "            print(f\"The decorator checks that the arguments received have the datatype '{str(validate_datatype)}':\")\n",
    "            for arg in args:\n",
    "                print(f\"The argument '{arg}' \", end=\"\")\n",
    "                if not isinstance(arg, validate_datatype):\n",
    "                    print(f\"doesn't have the expected datatype (has {str(type(arg))})\")\n",
    "                else:\n",
    "                    print(\"have the expected datatype\")\n",
    "            print(f\"\\nArgument that the decorated function doesn\\'t use '{kwargs['decorator_argument']}'\")\n",
    "            return func(*args, **kwargs)\n",
    "        return wrapper\n",
    "    return simple_decorator\n",
    "\n",
    "@validate_datatype(int)  # The argument is passed directly from here\n",
    "def simple_function(arg1=\"\", arg2=\"\", **kwargs):\n",
    "    print(f\"The parameters received are '{arg1}' and '{arg2}'\")\n",
    "\n",
    "simple_function(\"Hi\", 2, decorator_argument=\"Yoh!\")"
   ]
  },
  {
   "cell_type": "markdown",
   "metadata": {},
   "source": [
    "---"
   ]
  },
  {
   "cell_type": "markdown",
   "metadata": {},
   "source": [
    "### Stacking decorators\n",
    "\n",
    "You can accumulate as many decorators as you wish, however, keep in mind that the order in which they are included indicates the order in which they will be executed.\n",
    "\n",
    "The syntax for stacking decorators is as follows:"
   ]
  },
  {
   "cell_type": "code",
   "execution_count": 17,
   "metadata": {},
   "outputs": [
    {
     "name": "stdout",
     "output_type": "stream",
     "text": [
      "Outer time!\n",
      "Inner time!\n",
      "Function time!\n"
     ]
    }
   ],
   "source": [
    "def outer_decorator(func):\n",
    "    def wrapper():\n",
    "        print(\"Outer time!\")\n",
    "        func()\n",
    "    return wrapper\n",
    "\n",
    "\n",
    "def inner_decorator(func):\n",
    "    def wrapper():\n",
    "        print(\"Inner time!\")\n",
    "        func()\n",
    "    return wrapper\n",
    "\n",
    "@outer_decorator\n",
    "@inner_decorator\n",
    "def func():\n",
    "    print(\"Function time!\")\n",
    "\n",
    "\n",
    "func()\n",
    "    "
   ]
  },
  {
   "cell_type": "markdown",
   "metadata": {},
   "source": [
    "Adding the decorators is the same as calling the function like this:\n",
    "\n",
    "```outer_decorator(inner_decorator(func()))```\n",
    "\n",
    "---"
   ]
  },
  {
   "cell_type": "markdown",
   "metadata": {},
   "source": [
    "### Class decorators\n",
    "\n",
    "Decorators, besides being defined in functions, can be created as classes by using a special method called ```__call__```.\n",
    "\n",
    "Well, not only the special method mentioned above is taken into account, but also the constructor of the class has to be used.\n",
    "\n",
    "The translation of each special method will be as follows:\n",
    "- ```__init__```: It will be used as the first method of a decorator, that is to say, it is who the decorated function.\n",
    "- ```__call__```: It is used as the wrapper method seen previously, that is to say, it will receive the arguments of the decorated function and will have access to the method of the previous method.\n",
    "\n",
    "Before showing an example, __one of the advantages of using classes instead of functions__ to create decorators is that multiple methods can be generated to encapsulate the actions of the decorator and take advantage of the features provided by the inheritance of the class itself.\n",
    "\n",
    "Now we enter an example, starting from this simpler decorator:"
   ]
  },
  {
   "cell_type": "code",
   "execution_count": 19,
   "metadata": {},
   "outputs": [
    {
     "name": "stdout",
     "output_type": "stream",
     "text": [
      "Decorator: Hi!\n",
      "Function received: Bye\n"
     ]
    }
   ],
   "source": [
    "def simple_decorator(func):\n",
    "    def wrapper(*args, **kwargs):\n",
    "        print(\"Decorator: Hi!\")\n",
    "        func(*args, **kwargs)\n",
    "    return wrapper\n",
    "\n",
    "@simple_decorator\n",
    "def simple_function(arg1: str):\n",
    "    print(f\"Function received: {arg1}\")\n",
    "\n",
    "\n",
    "simple_function(\"Bye\")"
   ]
  },
  {
   "cell_type": "markdown",
   "metadata": {},
   "source": [
    "Let's say we want to pass it to a class, the translation would be as follows:"
   ]
  },
  {
   "cell_type": "code",
   "execution_count": 21,
   "metadata": {},
   "outputs": [
    {
     "name": "stdout",
     "output_type": "stream",
     "text": [
      "Decorator: Hi!\n",
      "Function received: Bye\n"
     ]
    }
   ],
   "source": [
    "class SimpleDecorator:\n",
    "    def __init__(self, func):  # Receive the function itself (like the function simple_decorator)\n",
    "        self.func = func\n",
    "\n",
    "    def __call__(self, *args, **kwargs):  # Receive the arguments of the function (like the function wrapper inside the simple_decorator)\n",
    "        print(\"Decorator: Hi!\")\n",
    "        self.func(*args, **kwargs)  # Doesn't need to return anything\n",
    "\n",
    "@SimpleDecorator\n",
    "def simple_function(arg1: str):\n",
    "    print(f\"Function received: {arg1}\")\n",
    "\n",
    "\n",
    "simple_function(\"Bye\")"
   ]
  },
  {
   "cell_type": "markdown",
   "metadata": {},
   "source": [
    "---"
   ]
  },
  {
   "cell_type": "markdown",
   "metadata": {},
   "source": [
    "### Class decorator with its own arguments\n",
    "\n",
    "As with the function decorators, the class decorators can also receive arguments, which are not related to the function it encapsulates, but are used by the decorator itself.\n",
    "\n",
    "It works in a similar way as with the functions, that is to say, you have to prepare the decorator so that the first argument it receives is its own arguments.\n",
    "\n",
    "This at the class level involves using the constructor of the class to receive the arguments of the decorator and the __call__ method must use a closure to access the function and its arguments.\n",
    "\n",
    "Adapting the previous example to include arguments would look something like this:\n"
   ]
  },
  {
   "cell_type": "code",
   "execution_count": 22,
   "metadata": {},
   "outputs": [
    {
     "name": "stdout",
     "output_type": "stream",
     "text": [
      "Decorator received: Hi\n",
      "Function received: Bye\n"
     ]
    }
   ],
   "source": [
    "def attributes_decorator(arg: str):\n",
    "    def simple_decorator(func):\n",
    "        def wrapper(*args, **kwargs):\n",
    "            print(f\"Decorator received: {arg}\")\n",
    "            func(*args, **kwargs)\n",
    "        return wrapper\n",
    "    return simple_decorator\n",
    "\n",
    "@attributes_decorator(\"Hi\")\n",
    "def simple_function(arg1: str):\n",
    "    print(f\"Function received: {arg1}\")\n",
    "\n",
    "\n",
    "simple_function(\"Bye\")"
   ]
  },
  {
   "cell_type": "markdown",
   "metadata": {},
   "source": [
    "And translated to class it would look something like this:"
   ]
  },
  {
   "cell_type": "code",
   "execution_count": 23,
   "metadata": {},
   "outputs": [
    {
     "name": "stdout",
     "output_type": "stream",
     "text": [
      "Decorator received: Hi\n",
      "Function received: Bye\n"
     ]
    }
   ],
   "source": [
    "class AttributeDecorator:\n",
    "    def __init__(self, arg: str):\n",
    "        self.arg = arg\n",
    "\n",
    "    def __call__(self, func):\n",
    "        def wrapper(*args, **kwargs):\n",
    "            print(f\"Decorator received: {self.arg}\")\n",
    "            func(*args, **kwargs)\n",
    "        return wrapper\n",
    "\n",
    "@AttributeDecorator(\"Hi\")\n",
    "def simple_function(arg1: str):\n",
    "    print(f\"Function received: {arg1}\")\n",
    "\n",
    "\n",
    "simple_function(\"Bye\")"
   ]
  },
  {
   "cell_type": "markdown",
   "metadata": {},
   "source": [
    "---"
   ]
  },
  {
   "cell_type": "markdown",
   "metadata": {},
   "source": [
    "### Classes decorated\n",
    "\n",
    "As with functions, classes can also be decorated, however, the syntax is a bit different, since the decorator must be placed before the class definition.\n",
    "\n",
    "The syntax would be as follows:\n",
    "\n",
    "```python\n",
    "\n",
    "def my_decorator():\n",
    "    pass\n",
    "\n",
    "@my_decorator\n",
    "class MyClass:\n",
    "    pass\n",
    "\n",
    "obj = MyClass()\n",
    "\n",
    "```\n",
    "\n",
    "One use case for this is to create a decorator that counts how many times an attribute of the class is accessed.\n",
    "\n",
    "__NOTE__: In this example the decorator replace the special method ```__getattribute__``` of the class to count which attribute is has accessed the user.\n",
    "\n",
    "This use case will look like this:"
   ]
  },
  {
   "cell_type": "code",
   "execution_count": 28,
   "metadata": {},
   "outputs": [
    {
     "name": "stdout",
     "output_type": "stream",
     "text": [
      "The argument attr_1 have been accessed\n",
      "1\n",
      "2\n",
      "The argument attr_1 have been accessed\n",
      "1\n"
     ]
    }
   ],
   "source": [
    "def count_use_attr(class_: type):  # The decorator receives the class decorated\n",
    "    class_.new_class_method = class_.__getattribute__  # Copy, in a new function, the method to retrieve attributes\n",
    "    \n",
    "    def wrapper(self, arg_retrieved):  # The wrapper will know which attribute has been accessed\n",
    "        if arg_retrieved == 'attr_1':\n",
    "            print(\"The argument attr_1 have been accessed\")\n",
    "        return class_.new_class_method(self, arg_retrieved) \n",
    "        # ^ Pass to the method to retrieve attributes the attr asked to return the control to the class\n",
    "\n",
    "    class_.__getattribute__ = wrapper   # Now change the method to retrieve arguments to the own wrapper\n",
    "    return class_\n",
    "\n",
    "@count_use_attr\n",
    "class DummyClass:\n",
    "    def __init__(self, attr_1, attr_2):\n",
    "        self.attr_1 = attr_1\n",
    "        self.attr_2 = attr_2\n",
    "\n",
    "\n",
    "obj = DummyClass(1, 2)\n",
    "print(obj.attr_1)  # wrapper will retrieve attr_1\n",
    "print(obj.attr_2)  # wrapper will retrieve attr_2\n",
    "print(obj.attr_1)  # wrapper will retrieve attr_1\n"
   ]
  },
  {
   "cell_type": "markdown",
   "metadata": {},
   "source": [
    "---\n",
    "[< __GO BACK__](https://github.com/VCauthon/Summary-OpenEdg-Pyhon-PCPP1/blob/main/1.Advanced-OOP/2.OOP-Advanced/Introduction.ipynb)"
   ]
  }
 ],
 "metadata": {
  "kernelspec": {
   "display_name": "Python 3",
   "language": "python",
   "name": "python3"
  },
  "language_info": {
   "codemirror_mode": {
    "name": "ipython",
    "version": 3
   },
   "file_extension": ".py",
   "mimetype": "text/x-python",
   "name": "python",
   "nbconvert_exporter": "python",
   "pygments_lexer": "ipython3",
   "version": "3.10.12"
  },
  "orig_nbformat": 4
 },
 "nbformat": 4,
 "nbformat_minor": 2
}
