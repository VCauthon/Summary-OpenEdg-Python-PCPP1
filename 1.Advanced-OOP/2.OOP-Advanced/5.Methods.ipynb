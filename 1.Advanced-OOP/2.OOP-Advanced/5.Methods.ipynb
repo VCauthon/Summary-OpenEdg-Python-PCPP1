{
 "cells": [
  {
   "cell_type": "markdown",
   "metadata": {},
   "source": [
    "# Methods\n",
    "---\n",
    "[< __GO BACK__](https://github.com/VCauthon/Summary-OpenEdg-Pyhon-PCPP1/blob/main/1.Advanced-OOP/2.OOP-Advanced/Introduction.ipynb)"
   ]
  },
  {
   "cell_type": "markdown",
   "metadata": {},
   "source": [
    "### Types of methods\n",
    "\n",
    "All classes created in Python can contain methods, which are defined as functions within a class.\n",
    "\n",
    "However, there is not only one type of method, but three:\n",
    "- __Instance methods__:\n",
    "    - This type has access to all attributes, i.e. instance, class and static.\n",
    "    - They can only be invoked from an instantiated object.\n",
    "- __Class methods__:\n",
    "    - This type has access to attributes of type class and static.\n",
    "    - They can be invoked from an object or the class itself.\n",
    "- __Static methods__:\n",
    "    - This type only has access to attributes sent as an argument.\n",
    "    - They can be invoked from an object or the class itself.\n",
    "\n",
    "__NOTE__: Externally to the class, only methods that are public can be accessed.\n",
    "\n",
    "---"
   ]
  },
  {
   "cell_type": "markdown",
   "metadata": {},
   "source": [
    "### Creating a instance method\n",
    "\n",
    "We have seen this type of method in the previous examples, but we will see it again to understand the difference between the types of methods."
   ]
  },
  {
   "cell_type": "code",
   "execution_count": 6,
   "metadata": {},
   "outputs": [
    {
     "name": "stdout",
     "output_type": "stream",
     "text": [
      "I can access to all attributes:\n",
      "\tclass_variable > Hi\n",
      "\tinstance_variable > Hello\n",
      "\n",
      "This can be done with variables and methods!\n",
      "But i need to be invoked from an object!\n"
     ]
    }
   ],
   "source": [
    "class Dummy:\n",
    "    \n",
    "    class_variable = 'Hi'\n",
    "    \n",
    "    def __init__(self, arg):\n",
    "        self.instance_variable = arg\n",
    "\n",
    "    def instance_method(self):\n",
    "        print(f\"I can access to all attributes:\")\n",
    "        for k, v in {'class_variable': Dummy.class_variable, 'instance_variable': self.instance_variable}.items():\n",
    "            print(f'\\t{k} > {v}')\n",
    "        print(\"\\nThis can be done with variables and methods!\")\n",
    "        print(\"But i need to be invoked from an object!\")\n",
    "\n",
    "obj = Dummy('Hello')\n",
    "obj.instance_method()\n",
    "    "
   ]
  },
  {
   "cell_type": "markdown",
   "metadata": {},
   "source": [
    "---"
   ]
  },
  {
   "cell_type": "markdown",
   "metadata": {},
   "source": [
    "### Creating a class method\n",
    "\n",
    "The methods of the class type are not defined very differently from those of the instance type.\n",
    "\n",
    "To avoid confusion, the changes are listed below:\n",
    "- `cls`:\n",
    "    - The first argument will be called `cls` instead of ~~`self`~~.\n",
    "    - This, as with self, is not mandatory, but it is called cls by convention.\n",
    "    - Through this argument the attributes of the class type (private or public) can be accessed.\n",
    "- `@classmethod`:\n",
    "    - Converts the instance type method to the class type.\n",
    "\n",
    "Here is an example of a class method:\n"
   ]
  },
  {
   "cell_type": "code",
   "execution_count": 11,
   "metadata": {},
   "outputs": [
    {
     "name": "stdout",
     "output_type": "stream",
     "text": [
      "----------------Start class method----------------\n",
      "I can only access to class attributes:\n",
      "\tclass_variable: Hi\n",
      "\tTell ya i can't access to instance attributes!!!\n",
      "\n",
      "This can be done with variables and methods!\n",
      "I can be accessed from an object or from the class!\n",
      "-----------------End class method-----------------\n",
      "----------------Start class method----------------\n",
      "I can only access to class attributes:\n",
      "\tclass_variable: Hi\n",
      "\tTell ya i can't access to instance attributes!!!\n",
      "\n",
      "This can be done with variables and methods!\n",
      "I can be accessed from an object or from the class!\n",
      "-----------------End class method-----------------\n"
     ]
    }
   ],
   "source": [
    "class Dummy:\n",
    "    \n",
    "    class_variable = 'Hi'\n",
    "    \n",
    "    def __init__(self, arg):\n",
    "        self.instance_variable = arg\n",
    "\n",
    "    @classmethod\n",
    "    def class_method(cls):\n",
    "        print(\"Start class method\".center(50, '-'))\n",
    "        print(f\"I can only access to class attributes:\")\n",
    "        print('\\tclass_variable: ' + cls.class_variable),\n",
    "        \n",
    "        try:\n",
    "            print('\\tinstance_variable: ' + cls.instance_variable)\n",
    "        except AttributeError:\n",
    "            print(\"\\tTell ya i can't access to instance attributes!!!\")\n",
    "        \n",
    "        print(\"\\nThis can be done with variables and methods!\")\n",
    "        print(\"I can be accessed from an object or from the class!\")\n",
    "        print(\"End class method\".center(50, '-'))\n",
    "\n",
    "obj = Dummy('Hello')\n",
    "obj.class_method()  # Can be called from an object\n",
    "Dummy.class_method()  # Can be called from the class\n",
    "    "
   ]
  },
  {
   "cell_type": "markdown",
   "metadata": {},
   "source": [
    "Even though we are mixing topics, it is important to remember that the attributes of the class type are accessible by attributes of the instance type, that is, there is a communication bridge between all the instances of an object.\n",
    "\n",
    "An example is shown below:"
   ]
  },
  {
   "cell_type": "code",
   "execution_count": 12,
   "metadata": {},
   "outputs": [
    {
     "name": "stdout",
     "output_type": "stream",
     "text": [
      "Argument from object 'obj1' >  1\n",
      "Argument from object 'obj2' >  2\n",
      "Argument from object 'obj3' >  3\n",
      "Argument from object 'obj4' >  4\n"
     ]
    }
   ],
   "source": [
    "class Dummy:\n",
    "    entered = 0\n",
    "    def __init__(self) -> None:\n",
    "        Dummy.entered += 1\n",
    "\n",
    "obj1 = Dummy()\n",
    "print(f\"Argument from object 'obj1' >  {Dummy.entered}\")\n",
    "obj2 = Dummy()\n",
    "print(f\"Argument from object 'obj2' >  {Dummy.entered}\")\n",
    "obj3 = Dummy()\n",
    "print(f\"Argument from object 'obj3' >  {Dummy.entered}\")\n",
    "obj4 = Dummy()\n",
    "print(f\"Argument from object 'obj4' >  {Dummy.entered}\")"
   ]
  },
  {
   "cell_type": "markdown",
   "metadata": {},
   "source": [
    "---"
   ]
  },
  {
   "cell_type": "markdown",
   "metadata": {},
   "source": [
    "### Creating a static method\n",
    "\n",
    "Unlike the methods of the class type, the methods of the static type are easier to create, basically, because they only need the `@staticmethod` decorator to be defined as static.\n",
    "\n",
    "On the other hand, note that they do not need the self arguments to be defined (not even cls), however, note that when calling them you can pass them the object itself to access the attributes.\n",
    "\n",
    "An example is shown below:"
   ]
  },
  {
   "cell_type": "code",
   "execution_count": 14,
   "metadata": {},
   "outputs": [
    {
     "name": "stdout",
     "output_type": "stream",
     "text": [
      "--------------Calling static methods without arguments from class---------------\n",
      "Hi from static method!\n",
      "I can access to public class attributes:\n",
      "\tclass_variable: Hi\n",
      "--------------Calling static methods without arguments from object--------------\n",
      "Hi from static method!\n",
      "I can access to public class attributes:\n",
      "\tclass_variable: Hi\n",
      "----------------Calling static methods with arguments from class----------------\n",
      "Hi from static method with Dummy object!\n",
      "I can access to public class attributes:\n",
      "\tclass_variable: Hi\n",
      "And... thanks to the object, i can access to instance attributes:\n",
      "\tinstance_variable: Hello\n"
     ]
    }
   ],
   "source": [
    "class Dummy:\n",
    "\n",
    "    class_variable = 'Hi'\n",
    "\n",
    "    def __init__(self, arg: str) -> None:\n",
    "        self.instance_variable = arg\n",
    "\n",
    "    @staticmethod\n",
    "    def static_method_without_arguments():\n",
    "        print(\"Hi from static method!\")\n",
    "        print(\"I can access to public class attributes:\")\n",
    "        print('\\tclass_variable: ' + Dummy.class_variable)\n",
    "\n",
    "    @staticmethod\n",
    "    def static_method_that_uses_objects(arg: 'Dummy'):\n",
    "        print(\"Hi from static method with Dummy object!\")\n",
    "        print(\"I can access to public class attributes:\")\n",
    "        print('\\tclass_variable: ' + Dummy.class_variable)\n",
    "        print(\"And... thanks to the object, i can access to instance attributes:\")\n",
    "        print('\\tinstance_variable: ' + arg.instance_variable)\n",
    "\n",
    "\n",
    "obj = Dummy('Hello')\n",
    "print(\"Calling static methods without arguments from class\".center(80, '-'))\n",
    "Dummy.static_method_without_arguments()\n",
    "print(\"Calling static methods without arguments from object\".center(80, '-'))\n",
    "obj.static_method_without_arguments()\n",
    "print(\"Calling static methods with arguments from class\".center(80, '-'))\n",
    "Dummy.static_method_that_uses_objects(obj)"
   ]
  },
  {
   "cell_type": "markdown",
   "metadata": {},
   "source": [
    "---\n",
    "[< __GO BACK__](https://github.com/VCauthon/Summary-OpenEdg-Pyhon-PCPP1/blob/main/1.Advanced-OOP/2.OOP-Advanced/Introduction.ipynb)"
   ]
  }
 ],
 "metadata": {
  "kernelspec": {
   "display_name": "Python 3",
   "language": "python",
   "name": "python3"
  },
  "language_info": {
   "codemirror_mode": {
    "name": "ipython",
    "version": 3
   },
   "file_extension": ".py",
   "mimetype": "text/x-python",
   "name": "python",
   "nbconvert_exporter": "python",
   "pygments_lexer": "ipython3",
   "version": "3.10.12"
  },
  "orig_nbformat": 4
 },
 "nbformat": 4,
 "nbformat_minor": 2
}
