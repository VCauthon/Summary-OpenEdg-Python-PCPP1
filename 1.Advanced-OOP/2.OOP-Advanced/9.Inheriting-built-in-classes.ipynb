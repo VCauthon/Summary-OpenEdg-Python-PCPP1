{
 "cells": [
  {
   "cell_type": "markdown",
   "metadata": {},
   "source": [
    "# Inheriting properties from built-in classes\n",
    "---\n",
    "[< __GO BACK__](https://github.com/VCauthon/Summary-OpenEdg-Pyhon-PCPP1/blob/main/1.Advanced-OOP/2.OOP-Advanced/Introduction.ipynb)"
   ]
  },
  {
   "cell_type": "markdown",
   "metadata": {},
   "source": [
    "### Introduction\n",
    "\n",
    "Python gives you the ability to __create a class that inherits properties from any Python built-in class__ in order to get a new class that can enrich the parent's attributes or methods.\n",
    "\n",
    "As a result, your newly-created class has the advantage of all of the well-known functionalities inherited from its parent or even parents and you can still access those attributes and methods.\n",
    "\n",
    "---\n"
   ]
  },
  {
   "cell_type": "markdown",
   "metadata": {},
   "source": [
    "### Creating a custom list class\n",
    "\n",
    "In the following example, we’ll create an implementation of our own list class, which will only accept elements of the integer type. But, wait – why might you need such an object?\n",
    "\n",
    "![Alt text](../media/inheritance%20build-in%20classes.png)\n",
    "\n",
    "The example does not bring you anything that has not been seen so far since it performs the following:\n",
    "1. You create a class that inherits from another class.\n",
    "2. Methods of the inherited class are replaced.\n",
    "3. The methods perform more specialized validations on the arguments.\n",
    "4. When the validation is finished, the original method of the parent class is called.\n",
    "\n",
    "With the three overwritten methods of the list class (extend, __setitem__, append) all input paths for new values with additional validation are already controlled.\n",
    "\n",
    "---"
   ]
  },
  {
   "cell_type": "markdown",
   "metadata": {},
   "source": [
    "### Well stop talking and start coding!"
   ]
  },
  {
   "cell_type": "code",
   "execution_count": 1,
   "metadata": {},
   "outputs": [
    {
     "name": "stdout",
     "output_type": "stream",
     "text": [
      "Appending int elements succeed: [66, 22]\n",
      "Inserting int element succeed: [49, 22]\n",
      "Extending with int elements succeed: [49, 22, 2, 3]\n",
      "Appending string failed\n",
      "Inserting string failed\n",
      "Extending with ineligible element failed\n",
      "Final result: [49, 22, 2, 3]\n"
     ]
    }
   ],
   "source": [
    "class IntegerList(list):\n",
    "\n",
    "    @staticmethod\n",
    "    def check_value_type(value):\n",
    "        if type(value) is not int:\n",
    "            raise ValueError('Not an integer type')\n",
    "\n",
    "    def __setitem__(self, index, value):\n",
    "        IntegerList.check_value_type(value)\n",
    "        list.__setitem__(self, index, value)\n",
    "\n",
    "    def append(self, value):\n",
    "        IntegerList.check_value_type(value)\n",
    "        list.append(self, value)\n",
    "\n",
    "    def extend(self, iterable):\n",
    "        for element in iterable:\n",
    "            IntegerList.check_value_type(element)\n",
    "\n",
    "        list.extend(self, iterable)\n",
    "\n",
    "\n",
    "int_list = IntegerList()\n",
    "\n",
    "int_list.append(66)\n",
    "int_list.append(22)\n",
    "print('Appending int elements succeed:', int_list)\n",
    "\n",
    "int_list[0] = 49\n",
    "print('Inserting int element succeed:', int_list)\n",
    "\n",
    "int_list.extend([2, 3])\n",
    "print('Extending with int elements succeed:', int_list)\n",
    "\n",
    "try:\n",
    "    int_list.append('8-10')\n",
    "except ValueError:\n",
    "    print('Appending string failed')\n",
    "\n",
    "try:\n",
    "    int_list[0] = '10/11'\n",
    "except ValueError:\n",
    "    print('Inserting string failed')\n",
    "\n",
    "try:\n",
    "    int_list.extend([997, '10/11'])\n",
    "except ValueError:\n",
    "    print('Extending with ineligible element failed')\n",
    "\n",
    "print('Final result:', int_list)"
   ]
  },
  {
   "cell_type": "markdown",
   "metadata": {},
   "source": [
    "__NOTE:__ The `__setitem__` method is used by classes that work with indexed objects (lists, dictionaries, tuples). It is invoked (and receives the index and the value) when calling the object through [].\n",
    "\n",
    "__NOTE 2:__`__getitem__` does the opposite – it is invoked when the object is called through [] and receives the index as an argument.\n",
    "\n",
    "---"
   ]
  },
  {
   "cell_type": "markdown",
   "metadata": {},
   "source": [
    "### An example with dictionaries\n",
    "\n",
    "Lets imagine that we want to create an special class that\n",
    "\n",
    "The code will be the following:"
   ]
  },
  {
   "cell_type": "code",
   "execution_count": 4,
   "metadata": {},
   "outputs": [
    {
     "name": "stdout",
     "output_type": "stream",
     "text": [
      "The my_dict dictionary contains:\n",
      "\tGB72 HBZU 7006 7212 1253 00 -> 900\n",
      "\tFR76 30003 03620 00020216907 50 -> 260\n",
      "\tDE02100100100152517108 -> 317\n",
      "IBANDict has protected your dictionary against incorrect data insertion\n"
     ]
    }
   ],
   "source": [
    "import random\n",
    "\n",
    "\n",
    "class IBANValidationError(Exception):\n",
    "    pass\n",
    "\n",
    "\n",
    "class IBANDict(dict):\n",
    "    def __setitem__(self, _key, _val):\n",
    "        if IBANDict.validateIBAN(_key):\n",
    "            super().__setitem__(_key, _val)\n",
    "\n",
    "    def update(self, *args, **kwargs):\n",
    "        for _key, _val in dict(*args, **kwargs).items():\n",
    "            self.__setitem__(_key, _val)\n",
    "\n",
    "    @staticmethod\n",
    "    def validateIBAN(iban: str):\n",
    "        iban = iban.replace(' ', '')\n",
    "\n",
    "        if not iban.isalnum():\n",
    "            raise IBANValidationError(\"You have entered invalid characters.\")\n",
    "\n",
    "        elif len(iban) < 15:\n",
    "            raise IBANValidationError(\"IBAN entered is too short.\")\n",
    "\n",
    "        elif len(iban) > 31:\n",
    "            raise IBANValidationError(\"IBAN entered is too long.\")\n",
    "\n",
    "        else:\n",
    "            iban = (iban[4:] + iban[0:4]).upper()\n",
    "            iban2 = ''\n",
    "            for ch in iban:\n",
    "                if ch.isdigit():\n",
    "                    iban2 += ch\n",
    "                else:\n",
    "                    iban2 += str(10 + ord(ch) - ord('A'))\n",
    "            ibann = int(iban2)\n",
    "\n",
    "            if ibann % 97 != 1:\n",
    "                raise IBANValidationError(\"IBAN entered is invalid.\")\n",
    "\n",
    "            return True\n",
    "\n",
    "\n",
    "my_dict = IBANDict()\n",
    "keys = ['GB72 HBZU 7006 7212 1253 00', 'FR76 30003 03620 00020216907 50', 'DE02100100100152517108']\n",
    "\n",
    "for key in keys:\n",
    "    my_dict[key] = random.randint(0, 1000)\n",
    "\n",
    "print('The my_dict dictionary contains:')\n",
    "for key, value in my_dict.items():\n",
    "    print(\"\\t{} -> {}\".format(key, value))\n",
    "\n",
    "try:\n",
    "    my_dict.update({'dummy_account': 100})\n",
    "except IBANValidationError:\n",
    "    print('IBANDict has protected your dictionary against incorrect data insertion')\n"
   ]
  },
  {
   "cell_type": "markdown",
   "metadata": {},
   "source": [
    "---\n",
    "[< __GO BACK__](https://github.com/VCauthon/Summary-OpenEdg-Pyhon-PCPP1/blob/main/1.Advanced-OOP/2.OOP-Advanced/Introduction.ipynb)"
   ]
  }
 ],
 "metadata": {
  "kernelspec": {
   "display_name": "Python 3",
   "language": "python",
   "name": "python3"
  },
  "language_info": {
   "codemirror_mode": {
    "name": "ipython",
    "version": 3
   },
   "file_extension": ".py",
   "mimetype": "text/x-python",
   "name": "python",
   "nbconvert_exporter": "python",
   "pygments_lexer": "ipython3",
   "version": "3.10.12"
  },
  "orig_nbformat": 4
 },
 "nbformat": 4,
 "nbformat_minor": 2
}
