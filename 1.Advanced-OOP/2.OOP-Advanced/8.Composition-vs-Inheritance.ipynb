{
 "cells": [
  {
   "cell_type": "markdown",
   "metadata": {},
   "source": [
    "[< __INTRO MODULE 1__](../README.md)\n",
    "\n",
    "---"
   ]
  },
  {
   "cell_type": "markdown",
   "metadata": {},
   "source": [
    "# Index\n",
    "\n",
    "- [Introduction](#introduction)\n",
    "- [Composition](#composition)\n",
    "- [How to chose between Inheritance and Composition?](#how-to-chose-between-inheritance-and-composition)\n",
    "- [Let's code an example](#lets-code-an-example)\n",
    "\n",
    "---"
   ]
  },
  {
   "cell_type": "markdown",
   "metadata": {},
   "source": [
    "### Introduction\n",
    "\n",
    "Inheritance is a great concept, one of the most important foundations of object-oriented programming that models a __tight relation between two classes__: the base class and the derived class, called a subclass.\n",
    "\n",
    "The result of this relation is a subclass class that __inherits all methods and all properties__ of the base class, and allows a subclass to extend everything that has been inherited. By extending a base class, you are creating a more specialized class. Moreover, we say that these classes are __tightly coupled__.\n",
    "\n",
    "The primary use of inheritance is to __reuse the code__.\n",
    "\n",
    "![Alt text](../media/inheritance.png)\n",
    "\n",
    "All classes derived from Vehicles own properties and methods responsible for informing the user of its mileage, starting and stopping the vehicle, fueling, etc. However, when you are reckless, then with the inheritance (especially multiple inheritances) you can create a huge, complex, and hierarchical structure of classes.\n",
    "\n",
    "Inheritance __is not the only way of constructing adaptable objects__. You can achieve similar goals by using a concept named __composition__.\n",
    "\n",
    "---"
   ]
  },
  {
   "cell_type": "markdown",
   "metadata": {},
   "source": [
    "### Composition\n",
    "\n",
    "Composition is the process of composing an object using other different objects. The objects used in the composition deliver a set of desired traits (properties and/or methods) so we can say that they act like blocks used to build a more complicated structure.\n",
    "\n",
    "Examples:\n",
    "- a Laptop has a network card;\n",
    "- a Hovercraft has a specific engine.\n",
    "\n",
    "It can be said that:\n",
    "- __Inheritance:__ extends a class's capabilities by adding new components and modifying existing ones.\n",
    "- __Composition__ projects a class as a container able to store and use other objects where each of the objects implements a part of a desired class's behavior.\n",
    "\n",
    "Pluses and minuses of composition:\n",
    "- \\+ Higher flexibility\n",
    "- \\+ Not deep dependency investigations\n",
    "- \\- Transfers additional responsibilities to the developer (all component are used)\n",
    "\n",
    "---"
   ]
  },
  {
   "cell_type": "markdown",
   "metadata": {},
   "source": [
    "### How to chose between Inheritance and Composition?\n",
    "\n",
    "Before answering this question, let's deep into a few more things:\n",
    "- Inheritance and composition are __not mutually exclusive__.\n",
    "- __Treat both__ inheritance and composition as __supplementary__ means for solving problems;\n",
    "- There is nothing wrong with composing objects of ... classes that were built using inheritance.\n",
    "\n",
    "Going back to the question: __how to chose between Inheritance and Composition?__\n",
    "- __X is a__: use inheritance\n",
    "- __X has a__: use composition\n",
    "\n",
    "---\n",
    "\n",
    "\n",
    "\n"
   ]
  },
  {
   "cell_type": "markdown",
   "metadata": {},
   "source": [
    "### Let's code an example\n",
    "\n",
    "Let's say we have a computer with different slots. The one that we are going to mark a little more of interest is the connection slot.\n",
    "\n",
    "This connection input allows three cards which work under an interface that can be interpreted by the computer.\n",
    "\n",
    "The cards would be the following:\n",
    "- ADSL\n",
    "- Ethernet\n",
    "- Dial-Up\n",
    "\n",
    "The user gets the computer with the requested card, but can also change it.\n",
    "\n",
    "Here is the code:"
   ]
  },
  {
   "cell_type": "code",
   "execution_count": 3,
   "metadata": {},
   "outputs": [
    {
     "name": "stdout",
     "output_type": "stream",
     "text": [
      "Waking up modem  ...                    Downloading at 2Mbit/s\n",
      "Constantly connected...                 Downloading at 10Mbit/s\n",
      "Dialling the access number ...          Downloading at 9600bit/s\n"
     ]
    }
   ],
   "source": [
    "from uuid import uuid4\n",
    "\n",
    "\n",
    "class Connection:\n",
    "    def __init__(self, speed: str) -> None:\n",
    "        self.__speed = speed\n",
    "\n",
    "    @property\n",
    "    def speed(self):\n",
    "        return self.__speed\n",
    "\n",
    "    def download(self):\n",
    "        print(f'Downloading at {self.speed}')\n",
    "\n",
    "\n",
    "# All this classes are based on composite pattern\n",
    "class ADSL(Connection):\n",
    "    def __init__(self) -> None:\n",
    "        super().__init__(\"2Mbit/s\")\n",
    "\n",
    "    def download(self):\n",
    "        print('Waking up modem  ... '.ljust(40), end='')\n",
    "        super().download()\n",
    "\n",
    "\n",
    "class DialUp(Connection):\n",
    "    def __init__(self) -> None:\n",
    "        super().__init__(\"9600bit/s\")\n",
    "\n",
    "    def download(self):\n",
    "        print('Dialling the access number ... '.ljust(40), end='')\n",
    "        super().download()\n",
    "\n",
    "\n",
    "class Ethernet(Connection):\n",
    "    def __init__(self) -> None:\n",
    "        super().__init__(\"10Mbit/s\")\n",
    "\n",
    "    def download(self):\n",
    "        print('Constantly connected... '.ljust(40), end='')\n",
    "        super().download()\n",
    "\n",
    "\n",
    "class BaseComputer:\n",
    "    def __init__(self) -> None:\n",
    "        self.__serial_number = str(uuid4())\n",
    "\n",
    "    @property\n",
    "    def serial_number(self):\n",
    "        return self.__serial_number\n",
    "\n",
    "\n",
    "class PersonalComputer(BaseComputer):\n",
    "    def __init__(self, connection_card: Connection) -> None:\n",
    "        super().__init__()\n",
    "        self.connection_slot = connection_card\n",
    "\n",
    "obj_pc = PersonalComputer(ADSL())\n",
    "obj_pc.connection_slot.download()  # The user needs to access to the variable to call the method\n",
    "\n",
    "# Changing the connection card\n",
    "obj_pc.connection_slot = Ethernet()\n",
    "obj_pc.connection_slot.download()\n",
    "\n",
    "# Changing the connection card\n",
    "obj_pc.connection_slot = DialUp()\n",
    "obj_pc.connection_slot.download()\n",
    "\n"
   ]
  },
  {
   "cell_type": "markdown",
   "metadata": {},
   "source": [
    "\n",
    "---\n",
    "\n",
    "[< __INTRO MODULE 1__](../README.md)"
   ]
  }
 ],
 "metadata": {
  "kernelspec": {
   "display_name": "Python 3",
   "language": "python",
   "name": "python3"
  },
  "language_info": {
   "codemirror_mode": {
    "name": "ipython",
    "version": 3
   },
   "file_extension": ".py",
   "mimetype": "text/x-python",
   "name": "python",
   "nbconvert_exporter": "python",
   "pygments_lexer": "ipython3",
   "version": "3.10.12"
  },
  "orig_nbformat": 4
 },
 "nbformat": 4,
 "nbformat_minor": 2
}
