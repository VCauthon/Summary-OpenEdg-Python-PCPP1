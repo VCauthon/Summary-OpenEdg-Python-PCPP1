{
 "cells": [
  {
   "cell_type": "markdown",
   "metadata": {},
   "source": [
    "# Inheritance and polymorphism\n",
    "---\n",
    "[< __GO BACK__](https://github.com/VCauthon/Summary-OpenEdg-Pyhon-PCPP1/blob/main/1.Advanced-OOP/2.OOP-Advanced/Introduction.ipynb)"
   ]
  },
  {
   "cell_type": "markdown",
   "metadata": {},
   "source": [
    "### Inheritance is a pillar of OOP\n",
    "\n",
    "Any object bound to a specific level of class hierarchy inherits all the traits (methods and attributes) defined inside any of the superclasses.\n",
    "\n",
    "Following this premise we can define the basic hierarchy of:\n",
    "- Superclass: It's the parent class and more generic (abstract).\n",
    "- Subclass: It's the child class and more specialized (specific).\n",
    "\n",
    "__NOTE__: If the subclass have a descendant that means that for that descendant the subclass is a superclass.\n"
   ]
  },
  {
   "cell_type": "markdown",
   "metadata": {},
   "source": [
    "![Inheritance](../media/improvedInheritance.png)\n",
    "\n",
    "---"
   ]
  },
  {
   "cell_type": "markdown",
   "metadata": {},
   "source": [
    "### Single inheritance vs. multiple inheritance\n",
    "\n",
    "There are no obstacles to using multiple inheritance in Python. You can derive any new class from __more than one__ previously defined class.\n",
    "\n",
    "But it's not always the best idea to implement a solution with multiple inheritance because:\n",
    "- Multiple inheritance may override methods and attributes (get attributes from parent a anb b and so on).\n",
    "- Using the `super()` function can lead to ambiguity.\n",
    "- High chances to violate the single responsibility principle.\n",
    "- Can create the diamond problem.\n",
    "    - Class D inherits from B and C.\n",
    "    - Class B and C inherits from A."
   ]
  },
  {
   "cell_type": "markdown",
   "metadata": {},
   "source": [
    "![Diamond problem](../media/diamond.png)\n",
    "\n",
    "__NOTE__: Illustration of the diamond problem above.\n",
    "\n",
    "---"
   ]
  },
  {
   "cell_type": "markdown",
   "metadata": {},
   "source": [
    "### The MRO algorithm (Method Resolution Order)\n",
    "\n",
    "If an object created from D calls a method of A, which method will be called: the one coming from class B or the one coming from class C?\n",
    "\n",
    "In the multiple inheritance scenario, any specified attribute is searched for first in the current class. If it is not found, the search continues into the direct parent classes in depth-first level (the first level above), __from the left to the right__, according to the class definition.\n",
    "\n",
    "Taking that into account let's say we have the following code __¿Which info method will be called? ¿The one from B or the one from C?__"
   ]
  },
  {
   "cell_type": "code",
   "execution_count": 1,
   "metadata": {},
   "outputs": [
    {
     "name": "stdout",
     "output_type": "stream",
     "text": [
      "Class B\n"
     ]
    }
   ],
   "source": [
    "class A:\n",
    "    def info(self):\n",
    "        print('Class A')\n",
    "\n",
    "class B(A):\n",
    "    def info(self):\n",
    "        print('Class B')\n",
    "\n",
    "class C(A):\n",
    "    def info(self):\n",
    "        print('Class C')\n",
    "\n",
    "class D(B, C):\n",
    "    pass\n",
    "\n",
    "D().info()"
   ]
  },
  {
   "cell_type": "markdown",
   "metadata": {},
   "source": [
    "The answer is __the B one because__ the D class inherits first the B class than the C class (the attribute searching starts from left to right).\n",
    "\n",
    "---"
   ]
  },
  {
   "cell_type": "markdown",
   "metadata": {},
   "source": [
    "### MRO inconsistency\n",
    "\n",
    "We can create an inconsistency if we make that D class inherits the parent class first and then the B or C class.\n",
    "\n",
    "Code example:"
   ]
  },
  {
   "cell_type": "code",
   "execution_count": 2,
   "metadata": {},
   "outputs": [
    {
     "ename": "TypeError",
     "evalue": "Cannot create a consistent method resolution\norder (MRO) for bases A, B",
     "output_type": "error",
     "traceback": [
      "\u001b[0;31m---------------------------------------------------------------------------\u001b[0m",
      "\u001b[0;31mTypeError\u001b[0m                                 Traceback (most recent call last)",
      "\u001b[1;32m/home/vcauthon/Workspace/Summary-OpenEdg-Pyhon-PCPP1/1.Advanced-OOP/2.OOP-Advanced/2.Inheritance-and-polymorphism/Material.ipynb Cell 10\u001b[0m line \u001b[0;36m1\n\u001b[1;32m     <a href='vscode-notebook-cell:/home/vcauthon/Workspace/Summary-OpenEdg-Pyhon-PCPP1/1.Advanced-OOP/2.OOP-Advanced/2.Inheritance-and-polymorphism/Material.ipynb#X16sZmlsZQ%3D%3D?line=9'>10</a>\u001b[0m     \u001b[39mdef\u001b[39;00m \u001b[39minfo\u001b[39m(\u001b[39mself\u001b[39m):\n\u001b[1;32m     <a href='vscode-notebook-cell:/home/vcauthon/Workspace/Summary-OpenEdg-Pyhon-PCPP1/1.Advanced-OOP/2.OOP-Advanced/2.Inheritance-and-polymorphism/Material.ipynb#X16sZmlsZQ%3D%3D?line=10'>11</a>\u001b[0m         \u001b[39mprint\u001b[39m(\u001b[39m'\u001b[39m\u001b[39mClass C\u001b[39m\u001b[39m'\u001b[39m)\n\u001b[0;32m---> <a href='vscode-notebook-cell:/home/vcauthon/Workspace/Summary-OpenEdg-Pyhon-PCPP1/1.Advanced-OOP/2.OOP-Advanced/2.Inheritance-and-polymorphism/Material.ipynb#X16sZmlsZQ%3D%3D?line=12'>13</a>\u001b[0m \u001b[39mclass\u001b[39;00m \u001b[39mD\u001b[39;00m(A, B):\n\u001b[1;32m     <a href='vscode-notebook-cell:/home/vcauthon/Workspace/Summary-OpenEdg-Pyhon-PCPP1/1.Advanced-OOP/2.OOP-Advanced/2.Inheritance-and-polymorphism/Material.ipynb#X16sZmlsZQ%3D%3D?line=13'>14</a>\u001b[0m     \u001b[39mpass\u001b[39;00m\n\u001b[1;32m     <a href='vscode-notebook-cell:/home/vcauthon/Workspace/Summary-OpenEdg-Pyhon-PCPP1/1.Advanced-OOP/2.OOP-Advanced/2.Inheritance-and-polymorphism/Material.ipynb#X16sZmlsZQ%3D%3D?line=15'>16</a>\u001b[0m D()\u001b[39m.\u001b[39minfo()\n",
      "\u001b[0;31mTypeError\u001b[0m: Cannot create a consistent method resolution\norder (MRO) for bases A, B"
     ]
    }
   ],
   "source": [
    "class A:\n",
    "    def info(self):\n",
    "        print('Class A')\n",
    "\n",
    "class B(A):\n",
    "    def info(self):\n",
    "        print('Class B')\n",
    "\n",
    "class C(A):\n",
    "    def info(self):\n",
    "        print('Class C')\n",
    "\n",
    "class D(A, B):\n",
    "    pass\n",
    "\n",
    "D().info()"
   ]
  },
  {
   "cell_type": "markdown",
   "metadata": {},
   "source": [
    "---"
   ]
  },
  {
   "cell_type": "markdown",
   "metadata": {},
   "source": [
    "### Talking of polymorphism\n",
    "\n",
    "In Python, polymorphism is the provision of a single interface to objects of different types. In other words, it is the ability to create abstract methods from specific types in order to treat those types in a uniform way."
   ]
  },
  {
   "cell_type": "markdown",
   "metadata": {},
   "source": [
    "![Alt text](../media/add_method.png)\n",
    "\n",
    "---"
   ]
  },
  {
   "cell_type": "markdown",
   "metadata": {},
   "source": [
    "### Code example of polymorphism\n",
    "\n",
    "One way to carry out polymorphism is inheritance, when subclasses make use of base class methods, or override them.\n",
    "\n",
    "By combining both approaches, the programmer is given a very convenient way of creating applications, as:\n",
    "- most of the code could be reused and only specific methods are implemented.\n",
    "- the code is clearly structured.\n",
    "- there is a uniform way of calling methods responsible for the same operations, implemented accordingly for the types.\n",
    "\n",
    "Here is an example of inheritance with polymorphism and without:\n"
   ]
  },
  {
   "cell_type": "code",
   "execution_count": 1,
   "metadata": {},
   "outputs": [
    {
     "name": "stdout",
     "output_type": "stream",
     "text": [
      "The device was turned on\n",
      "The device was turned on\n",
      "PortableRadio type object was turned on\n",
      "TvSet type object was turned on\n"
     ]
    }
   ],
   "source": [
    "class Device:\n",
    "    def turn_on(self):\n",
    "        print('The device was turned on')\n",
    "\n",
    "# This class doesn't apply polymorphism because doesn't overwrite the turn_on method\n",
    "class Radio(Device):\n",
    "    pass\n",
    "\n",
    "# This class applies polymorphism with it's inheritance because the method turn_on is overwrite\n",
    "class PortableRadio(Device):\n",
    "    def turn_on(self):\n",
    "        print('PortableRadio type object was turned on')\n",
    "\n",
    "# Idem as PortableRadio\n",
    "class TvSet(Device):\n",
    "    def turn_on(self):\n",
    "        print('TvSet type object was turned on')\n",
    "\n",
    "device = Device()\n",
    "radio = Radio()\n",
    "portableRadio = PortableRadio()\n",
    "tvset = TvSet()\n",
    "\n",
    "for element in (device, radio, portableRadio, tvset):\n",
    "    element.turn_on()\n"
   ]
  },
  {
   "cell_type": "markdown",
   "metadata": {},
   "source": [
    "### Duck Typing\n",
    "\n",
    "Duck typing is a fancy name for the term describing an application of the duck test: \"If it walks like a duck and it quacks like a duck, then it must be a duck\".\n",
    "\n",
    "In Python, this means that we can call a method or a class constructor on an object, without checking its type, as long as it supports the appropriate set of methods, i.e. has a matching interface.\n",
    "\n",
    "Duck typing is another way of achieving polymorphism, and represents a more general approach than polymorphism achieved by inheritance. It bases on the attributes and methods that the object provides to suppose its type.\n",
    "\n",
    "![Alt text](../media/its_a_duck.png)\n",
    "\n",
    "---"
   ]
  },
  {
   "cell_type": "markdown",
   "metadata": {},
   "source": [
    "#### Summary:\n",
    "\n",
    "- Polymorphism is used when different class objects share conceptually similar methods (but are not always inherited).\n",
    "- Polymorphism leverages clarity and expressiveness of the application design and development.\n",
    "- When polymorphism is assumed, it is wise to handle exceptions that could pop up.\n",
    "\n",
    "---\n",
    "[< __GO BACK__](https://github.com/VCauthon/Summary-OpenEdg-Pyhon-PCPP1/blob/main/1.Advanced-OOP/2.OOP-Advanced/Introduction.ipynb)"
   ]
  }
 ],
 "metadata": {
  "kernelspec": {
   "display_name": "Python 3",
   "language": "python",
   "name": "python3"
  },
  "language_info": {
   "codemirror_mode": {
    "name": "ipython",
    "version": 3
   },
   "file_extension": ".py",
   "mimetype": "text/x-python",
   "name": "python",
   "nbconvert_exporter": "python",
   "pygments_lexer": "ipython3",
   "version": "3.10.12"
  },
  "orig_nbformat": 4
 },
 "nbformat": 4,
 "nbformat_minor": 2
}
