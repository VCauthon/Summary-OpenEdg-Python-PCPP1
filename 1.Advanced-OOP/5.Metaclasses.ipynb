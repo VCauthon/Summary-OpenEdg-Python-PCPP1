{
 "cells": [
  {
   "cell_type": "markdown",
   "metadata": {},
   "source": [
    "[< __INTRO MODULE 1__](./README.md)\n",
    "\n",
    "---"
   ]
  },
  {
   "cell_type": "markdown",
   "metadata": {},
   "source": [
    "# Index:\n",
    "- [Introduction](#introduction)\n",
    "- [What is the difference between a metaclass and decorating a class?](#what-is-the-difference-between-a-metaclass-and-decorating-a-class)\n",
    "- [The type() function](#the-type-function)\n",
    "- [Special attributes of a class](#special-attributes-of-a-class)\n",
    "- [Type and its arguments](#type-and-its-arguments)\n",
    "- [Creating a more realistic Dog class with type](#creating-a-more-realistic-dog-class-with-type)\n",
    "- [Creating a metaclass](#creating-a-metaclass)\n",
    "- [Metaclass with logic](#metaclass-with-logic)\n",
    "\n",
    "---"
   ]
  },
  {
   "cell_type": "markdown",
   "metadata": {},
   "source": [
    "### Introduction\n",
    "\n",
    "Metaprogramming is a programming technique in which computer programs have __the ability to modify their own or other program's codes__. It may sound like an idea from a science fiction story, but the idea was born and implemented in the early 1960s.\n",
    "\n",
    "For Python, code modifications can occure while the code is being executed, __and you might have already experienced__:\n",
    "- `decorators`\n",
    "- `overriding operators`\n",
    "- `properties`\n",
    "\n",
    "Tim Peters, the Python guru who authored the __Zen of Python__, expressed his feelings about metaclasses in the comp.lang.python newsgroup on 12/22/2002:\n",
    "\n",
    "> __metaclasses__ - are deeper magic than 99% of users should ever worry about. If you wonder whether you need them, you don't (the people who actually need them know with certainty that they need them, and don't need an explanation about why).\n",
    "\n",
    "__Another example of metaprogramming is the metaclass concept__, which is one of the most advanced concepts presented in this course.\n",
    "\n",
    "In Python, __a metaclass is a class whose instances are classes__. Just as an ordinary class defines the behavior of certain objects, a metaclass allows for the customization of class instantiation. __That is to say, we could understand it as the code that is executed, previously, when a class is instantiated__.\n",
    "\n",
    "---"
   ]
  },
  {
   "cell_type": "markdown",
   "metadata": {},
   "source": [
    "### What is the difference between a metaclass and decorating a class?\n",
    "\n",
    "The functionality of the metaclass partly coincides with that of class decorators, but metaclasses act in a different way than decorators:\n",
    "\n",
    "- __Decorators__: Bind the names of decorated functions or classes to new callable objects. Class decorators are applied when classes are instantiated.\n",
    "- __Metaclasses__: Redirect class instantiations to dedicated logic, contained in metaclasses. Metaclasses are applied when class definitions are read to create classes, well before classes are instantiated.\n",
    "\n",
    "The typical use cases for metaclasses:\n",
    "\n",
    "- logging;\n",
    "- registering classes at creation time;\n",
    "- interface checking;\n",
    "- automatically adding new methods;\n",
    "- automatically adding new variables.\n",
    "\n",
    "---"
   ]
  },
  {
   "cell_type": "markdown",
   "metadata": {},
   "source": [
    "### The type() function\n",
    "\n",
    "In other sections of the documentation the usefulness of the build-in type() function has been explained, as a reminder, this function allows to obtain, on an object, the class on which it has been instantiated.\n",
    "\n",
    "However... see what happens if the same function is used on the class itself:"
   ]
  },
  {
   "cell_type": "code",
   "execution_count": 5,
   "metadata": {},
   "outputs": [
    {
     "name": "stdout",
     "output_type": "stream",
     "text": [
      "<class '__main__.Dog'>\n",
      "<class 'type'>\n"
     ]
    }
   ],
   "source": [
    "class Dog:\n",
    "    def __init__(self, name, age):\n",
    "        self.name = name\n",
    "        self.age = age\n",
    "\n",
    "dog_1 = Dog('Rex', 2)\n",
    "\n",
    "# Let's see its type\n",
    "print(type(dog_1))\n",
    "\n",
    "# And with the class?\n",
    "print(type(Dog))"
   ]
  },
  {
   "cell_type": "markdown",
   "metadata": {},
   "source": [
    "As we can see, by querying the type of the Dog class we have obtained type again (`<class 'type'>`)!\n",
    "\n",
    "Taking into account the previous explanation, we can understand that the class Dog is just an instance of the special class type, which is the predefined metaclass in charge of creating classes.\n",
    "\n",
    "> About classes being an instance of the type class, yes, in python everything is an object.\n",
    "\n",
    "Other important details:\n",
    "- The type of the metaclass `type` is `type` - no, __that is not a typo__.\n",
    "- `type` is a class that generates classes defined by a programmer;\n",
    "- __metaclasses__ are subclasses of the type class.\n",
    "\n",
    "![Example code diagram](./media/metaclasses.png)\n",
    "\n",
    "---"
   ]
  },
  {
   "cell_type": "markdown",
   "metadata": {},
   "source": [
    "### Special attributes of a class\n",
    "\n",
    "Before going into detail on how to create a metaclass, let's do a little refresher on the special attributes that every class always acquires.\n",
    "\n",
    "The attributes are:\n",
    "- `__name__`: Returns the name of the object (either this is a class or its instance).\n",
    "- `__class__`: Returns the class that generated the instance.\n",
    "    - __NOTE__: Returns the same results from the `type()` function\n",
    "- `__bases__`: Indicates from which classes the parent class is formed.\n",
    "- `__dict__`: Returns, in a dictionary, the attributes of the object.\n",
    "\n",
    "Example in code:"
   ]
  },
  {
   "cell_type": "code",
   "execution_count": 16,
   "metadata": {},
   "outputs": [
    {
     "name": "stdout",
     "output_type": "stream",
     "text": [
      "\"dog\" is an object of class named: Dog\n",
      "--------------------------------------------------\n",
      "class \"Dog\" is an instance of: \n",
      "\t -__class__: <class 'type'> \n",
      "\t -type: <class 'type'>\n",
      "class \"dog\" is an instance of: \n",
      "\t -__class__: <class '__main__.Dog'> \n",
      "\t -type: <class '__main__.Dog'>\n",
      "--------------------------------------------------\n",
      "class \"Dog\" is   (<class 'object'>,)\n",
      "--------------------------------------------------\n",
      "class \"Dog\" attributes: {'__module__': '__main__', '__dict__': <attribute '__dict__' of 'Dog' objects>, '__weakref__': <attribute '__weakref__' of 'Dog' objects>, '__doc__': None}\n",
      "object \"dog\" attributes: {}\n"
     ]
    }
   ],
   "source": [
    "class Dog:\n",
    "    pass\n",
    "\n",
    "dog = Dog()\n",
    "print('\"dog\" is an object of class named:', Dog.__name__)\n",
    "print(''.center(50, '-'))\n",
    "print(f'class \"Dog\" is an instance of: \\n\\t -__class__: {Dog.__class__} \\n\\t -type: {type(Dog)}')\n",
    "print(f'class \"dog\" is an instance of: \\n\\t -__class__: {dog.__class__} \\n\\t -type: {type(dog)}')\n",
    "print(''.center(50, '-'))\n",
    "print('class \"Dog\" is  ', Dog.__bases__)\n",
    "print(''.center(50, '-'))\n",
    "print('class \"Dog\" attributes:', Dog.__dict__)\n",
    "print('object \"dog\" attributes:', dog.__dict__)"
   ]
  },
  {
   "cell_type": "markdown",
   "metadata": {},
   "source": [
    "---"
   ]
  },
  {
   "cell_type": "markdown",
   "metadata": {},
   "source": [
    "### Type and its arguments\n",
    "\n",
    "So far, we have seen the function in action, however... we have only seen it executed with a single argument and this function... also allows three functions!\n",
    "\n",
    "Methods of execution of the `type()` function:\n",
    "- __1 Argument__: Returns the class that has been instantiated to create the argument sent.\n",
    "- __3 Arguments__: Dynamically generates a class from the arguments sent, the usefulness of these is the following:\n",
    "    1. Name of the class (this value becomes what the `__name__` attribute will return).\n",
    "    2. Tuple with the base classes that will be used to generate the new class (what will inherit the class).\n",
    "    3. A dictionary with the attributes that the class will be able to use.\n",
    "\n",
    "__NOTE__: As we can see, the arguments received are the special attributes discussed in the previous section.\n",
    "\n",
    "> We can state that Python, internally, uses the `type()` function when the keyword class is used to define a class.\n",
    "\n",
    "As an example, we indicate how the class Dog that we have seen in the previous example could be created from the `type` function.\n",
    "\n",
    "Demonstration:"
   ]
  },
  {
   "cell_type": "code",
   "execution_count": 15,
   "metadata": {},
   "outputs": [
    {
     "name": "stdout",
     "output_type": "stream",
     "text": [
      "The class name is: Dog\n",
      "The class is an instance of: <class 'type'>\n",
      "The class is based on: (<class 'object'>,)\n",
      "The class attributes are: {'__module__': '__main__', '__dict__': <attribute '__dict__' of 'Dog' objects>, '__weakref__': <attribute '__weakref__' of 'Dog' objects>, '__doc__': None}\n",
      "--------------------------------------------------\n",
      "The object is an instance of: <class '__main__.Dog'>\n",
      "The object attributes are: {}\n"
     ]
    }
   ],
   "source": [
    "Dog = type('Dog', (), {})\n",
    "\n",
    "print('The class name is:', Dog.__name__)\n",
    "print('The class is an instance of:', Dog.__class__)\n",
    "print('The class is based on:', Dog.__bases__)\n",
    "print('The class attributes are:', Dog.__dict__)\n",
    "\n",
    "\n",
    "print(''.center(50, '-'))\n",
    "\n",
    "dog = Dog()\n",
    "\n",
    "print('The object is an instance of:', dog.__class__)\n",
    "print('The object attributes are:', dog.__dict__)"
   ]
  },
  {
   "cell_type": "markdown",
   "metadata": {},
   "source": [
    "---"
   ]
  },
  {
   "cell_type": "markdown",
   "metadata": {},
   "source": [
    "### Creating a more realistic Dog class with type\n",
    "\n",
    "In the previous example we have seen how you can create a class called Dog, however, this class is of little use since it doesn't really ... has no attributes that it can use.\n",
    "\n",
    "Therefore, through type, we are going to include to the class Dog methods and variables that can be used by the instantiated objects.\n",
    "\n",
    "The code is shown below:"
   ]
  },
  {
   "cell_type": "code",
   "execution_count": 31,
   "metadata": {},
   "outputs": [
    {
     "name": "stdout",
     "output_type": "stream",
     "text": [
      "I'm eating\n",
      "I'm sleeping\n",
      "I'm breathing\n",
      "Woof!\n"
     ]
    }
   ],
   "source": [
    "class Animal:\n",
    "    def eat(self):\n",
    "        print(\"I'm eating\")\n",
    "\n",
    "    def sleep(self):\n",
    "        print(\"I'm sleeping\")\n",
    "\n",
    "    def breathe(self):\n",
    "        print(\"I'm breathing\")\n",
    "\n",
    "\n",
    "# Function that will be added as a method into the Dog class\n",
    "@staticmethod\n",
    "def bark():\n",
    "    print(\"Woof!\")\n",
    "\n",
    "\n",
    "# Let's see what can do our dog\n",
    "Dog = type('Dog', (Animal,), {'bark': bark})\n",
    "dog = Dog()\n",
    "\n",
    "\n",
    "# Methods inherited from Animal class (added as base class)\n",
    "dog.eat()\n",
    "dog.sleep()\n",
    "dog.breathe()\n",
    "\n",
    "\n",
    "# Function added as a method into the Dog class\n",
    "dog.bark()\n"
   ]
  },
  {
   "cell_type": "markdown",
   "metadata": {},
   "source": [
    "---"
   ]
  },
  {
   "cell_type": "markdown",
   "metadata": {},
   "source": [
    "This way of creating classes, using the type function, is substantial for Python's way of creating classes using the class instruction:\n",
    "- after the class instruction has been identified and the class body has been executed, the class = type(, , ) code is executed;\n",
    "- the type is responsible for calling the `__call__` method upon class instance creation; this method calls two other methods:\n",
    "    1. `__new__()`, responsible for creating the class instance in the computer memory.\n",
    "    2. `__init__()`, responsible for object initialization.\n",
    "\n",
    "![Alt text](./media/instance_metaclass.png)\n",
    "\n",
    "---"
   ]
  },
  {
   "cell_type": "markdown",
   "metadata": {},
   "source": [
    "### Creating a metaclass\n",
    "\n",
    "As we have seen so far, the type function is the one used by python to instantiate our custom class in order to generate instances of that class.\n",
    "\n",
    "Now a few words from OpenEDG.\n",
    "\n",
    "> It's important to remember that metaclasses are classes that are instantiated to get classes.\n",
    "\n",
    "With this in mind we understand that we must create a class that is going to overlap between the type function (in charge of generating the class) and the custom class itself, that is to say, we have to create a metaclass.\n",
    "\n",
    "> How can we achieve this?\n",
    "\n",
    "If we take into account that type is the function in charge of generating classes ... we could say that, to create a metaclass, we must generate a class that inherits from type where the logic prior to the instantiation of the class is applied.\n",
    "\n",
    "Here we would have an example:"
   ]
  },
  {
   "cell_type": "code",
   "execution_count": 32,
   "metadata": {},
   "outputs": [
    {
     "name": "stdout",
     "output_type": "stream",
     "text": [
      "{'__module__': '__main__', '__dict__': <attribute '__dict__' of 'My_Object' objects>, '__weakref__': <attribute '__weakref__' of 'My_Object' objects>, '__doc__': None, 'custom_attribute': 'Added by My_Meta'}\n"
     ]
    }
   ],
   "source": [
    "# This is a metaclass!\n",
    "class My_Meta(type):\n",
    "    def __new__(mcs, name, bases, dictionary):\n",
    "        obj = super().__new__(mcs, name, bases, dictionary)\n",
    "        obj.custom_attribute = 'Added by My_Meta'\n",
    "        return obj\n",
    "\n",
    "# By passing My_Meta as the argument of \"metaclass\" type will call My_Meta instead of instantiating a new class\n",
    "class My_Object(metaclass=My_Meta):\n",
    "    pass\n",
    "\n",
    "print(My_Object.__dict__)"
   ]
  },
  {
   "cell_type": "markdown",
   "metadata": {},
   "source": [
    "From the above code, we can understand the following:\n",
    "1. My_Meta inherits from type.\n",
    "2. My_Meta replaces method `__new__` (to be called by `__call__`)\n",
    "3. The `__new__` method calls the `__new__` method of the parent class (which corresponds to the type function).\n",
    "    - __mcs__: It uses `__new__` to reference itself as an object.\n",
    "    - __Name, Inheritance and Attributes of the class__: name, base, dictionary: Arguments that type receives directly.\n",
    "4. A custom attribute generated by the metaclass is included.\n",
    "5. The instantiated object is returned for `__call__` to pass to `__init__`.\n",
    "\n",
    "---"
   ]
  },
  {
   "cell_type": "markdown",
   "metadata": {},
   "source": [
    "### Metaclass with logic\n",
    "\n",
    "The following is an example of a metaclass that is able to include methods in case the defined class does not have them.\n",
    "\n",
    "Code example:"
   ]
  },
  {
   "cell_type": "code",
   "execution_count": 34,
   "metadata": {},
   "outputs": [
    {
     "name": "stdout",
     "output_type": "stream",
     "text": [
      "Just a greeting function, but it could be something more serious like a check sum\n",
      "We are ready to greet you!\n"
     ]
    }
   ],
   "source": [
    "def greetings(self):\n",
    "    print('Just a greeting function, but it could be something more serious like a check sum')\n",
    "\n",
    "\n",
    "# The metaclass append, if missing, the greetings method to the class\n",
    "class My_Meta(type):\n",
    "    def __new__(mcs, name, bases, dictionary):\n",
    "        if 'greetings' not in dictionary:\n",
    "            dictionary['greetings'] = greetings\n",
    "        obj = super().__new__(mcs, name, bases, dictionary)\n",
    "        return obj\n",
    "\n",
    "# I'm missing the greetings method\n",
    "class My_Class1(metaclass=My_Meta):\n",
    "    pass\n",
    "\n",
    "# I'm not missing the greetings method\n",
    "class My_Class2(metaclass=My_Meta):\n",
    "    def greetings(self):\n",
    "        print('We are ready to greet you!')\n",
    "\n",
    "myobj1 = My_Class1()\n",
    "myobj1.greetings()\n",
    "myobj2 = My_Class2()\n",
    "myobj2.greetings()\n"
   ]
  },
  {
   "cell_type": "markdown",
   "metadata": {},
   "source": []
  },
  {
   "cell_type": "markdown",
   "metadata": {},
   "source": [
    "\n",
    "---\n",
    "\n",
    "[< __INTRO MODULE 1__](./README.md)"
   ]
  }
 ],
 "metadata": {
  "kernelspec": {
   "display_name": "Python 3",
   "language": "python",
   "name": "python3"
  },
  "language_info": {
   "codemirror_mode": {
    "name": "ipython",
    "version": 3
   },
   "file_extension": ".py",
   "mimetype": "text/x-python",
   "name": "python",
   "nbconvert_exporter": "python",
   "pygments_lexer": "ipython3",
   "version": "3.10.12"
  },
  "orig_nbformat": 4
 },
 "nbformat": 4,
 "nbformat_minor": 2
}
