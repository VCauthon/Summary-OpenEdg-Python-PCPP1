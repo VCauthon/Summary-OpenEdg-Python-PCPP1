{
 "cells": [
  {
   "cell_type": "markdown",
   "metadata": {},
   "source": [
    "# Serialization of Python objects using the pickle module\n",
    "---\n",
    "[< __GO BACK__](https://github.com/VCauthon/Summary-OpenEdg-Pyhon-PCPP1/blob/main/1.Advanced-OOP/4.Objects-Persistence/Introduction.ipynb)"
   ]
  },
  {
   "cell_type": "markdown",
   "metadata": {},
   "source": [
    "### Introduction\n",
    "\n",
    "In this section, you will learn how to persist Python objects for later use.\n",
    "\n",
    "Before going into detail about the subject matter, we will point out that: to transport an object converted into a pickle (we will get into this concept in no time), we need to __serialize__ and __deserialize__ the object. This process consists of converting a Python object into a stream of bytes. When the object is in this state, it can be transported between Python machines/scripts, but in order to use it, it will need to be deserialized.\n",
    "\n",
    "This last process consists of using the stream of bytes to reconstruct the object.\n",
    "\n",
    "With this understood, we can say that python has the pickle module to serialize its objects.\n",
    "\n",
    "These are the types that can be pickled:\n",
    "- None, booleans\n",
    "- Integers, floating-point numbers, complex numbers\n",
    "- Strings, bytes, bytearrays\n",
    "- Tuples, lists, sets, and dictionaries containing pickleable objects\n",
    "- Objects, including objects with references to other objects (remember to avoid cycles!)\n",
    "- References to functions and classes, but not their definitions\n",
    "\n",
    "---"
   ]
  },
  {
   "cell_type": "markdown",
   "metadata": {},
   "source": [
    "### Code demonstration\n",
    "\n",
    "The following is a demonstration of the pickle module to serialize and deserialize a dictionary and a list.\n",
    "\n",
    "Before getting into the subject, we will clarify that when an object has been serialized it is ready to be stored, however, for this demonstration we will not save the file (but we will leave commented the code that would do it).\n",
    "\n",
    "The code to serialize is the following:"
   ]
  },
  {
   "cell_type": "code",
   "execution_count": 2,
   "metadata": {},
   "outputs": [
    {
     "name": "stdout",
     "output_type": "stream",
     "text": [
      "*********Showing pre serialize**********\n",
      "{'str': 'Hi!', 'int': 1, 'bool': True, 'list': [1, [2, [3]]]}\n",
      "[1, 2, 3, [4, 5]]\n",
      "*********Showing post serialize*********\n",
      "b'\\x80\\x04\\x959\\x00\\x00\\x00\\x00\\x00\\x00\\x00}\\x94(\\x8c\\x03str\\x94\\x8c\\x03Hi!\\x94\\x8c\\x03int\\x94K\\x01\\x8c\\x04bool\\x94\\x88\\x8c\\x04list\\x94]\\x94(K\\x01]\\x94(K\\x02]\\x94K\\x03aeeu.'\n",
      "b'\\x80\\x04\\x95\\x13\\x00\\x00\\x00\\x00\\x00\\x00\\x00]\\x94(K\\x01K\\x02K\\x03]\\x94(K\\x04K\\x05ee.'\n",
      "********Showing post deserialize********\n",
      "{'str': 'Hi!', 'int': 1, 'bool': True, 'list': [1, [2, [3]]]}\n",
      "[1, 2, 3, [4, 5]]\n"
     ]
    }
   ],
   "source": [
    "import pickle\n",
    "\n",
    "dict_1 = {\n",
    "    \"str\": \"Hi!\",\n",
    "    \"int\": 1,\n",
    "    \"bool\": True,\n",
    "    \"list\": [1, [2, [3]]]\n",
    "}\n",
    "list_1 = [1, 2, 3, [4, 5]]\n",
    "\n",
    "print(\"Showing pre serialize\".center(40, \"*\"))\n",
    "print(dict_1)\n",
    "print(list_1)\n",
    "\n",
    "# Time to serialize\n",
    "dict_1 = pickle.dumps(dict_1)\n",
    "list_1 = pickle.dumps(list_1)\n",
    "\n",
    "print(\"Showing post serialize\".center(40, \"*\"))\n",
    "print(dict_1)\n",
    "print(list_1)\n",
    "\n",
    "# This will be the code used to save the serialized file\n",
    "# with open('multidata.pckl', 'wb') as file_out:\n",
    "    # pickle.dump(dict_1, file_out)\n",
    "    # pickle.dump(list_1, file_out)\n",
    "\n",
    "# Time to deserialize\n",
    "dict_1 = pickle.loads(dict_1)\n",
    "list_1 = pickle.loads(list_1)\n",
    "\n",
    "# Time to deserialize\n",
    "print(\"Showing post deserialize\".center(40, \"*\"))\n",
    "print(dict_1)\n",
    "print(list_1)"
   ]
  },
  {
   "cell_type": "markdown",
   "metadata": {},
   "source": [
    "Another important point, when serializing several objects in a file, it forces us to deserialize in the same order as when serializing. For the example code, if we had created the file with the stream of bytes then, when loading, we would have to start with dict_1 and then list_1.\n",
    "\n",
    "Let's assume that the previous pickle has been created and we have access to it, in that case we would have to deserialize the pickle as follows:\n",
    "\n",
    "```python\n",
    "import pickle\n",
    "\n",
    "with open('multidata.pckl', 'rb') as file_in:\n",
    "    dict_1 = pickle.load(file_in)\n",
    "    list_1 = pickle.load(file_in)\n",
    "\n",
    "print(dict_1)\n",
    "print(list_1)\n",
    "```\n",
    "\n",
    "---"
   ]
  },
  {
   "cell_type": "markdown",
   "metadata": {},
   "source": [
    "# Pickle Exceptions\n",
    "\n",
    "Pickle has the `PicklingError` exception to detect when you are trying to deserialize something that is not a pickle or `RecursionError` when the pickle that is being deserialized exceeds the maximum depth (object[object[object[object[object]]]] ad infinitum...).\n",
    "\n",
    "Another point to take into account is that when serializing an object it will be necessary that the class exists in the namespace, if not, the `AttributeError` error will appear. This also applies to functions."
   ]
  },
  {
   "cell_type": "markdown",
   "metadata": {},
   "source": [
    "---\n",
    "[< __GO BACK__](https://github.com/VCauthon/Summary-OpenEdg-Pyhon-PCPP1/blob/main/1.Advanced-OOP/4.Objects-Persistence/Introduction.ipynb)"
   ]
  }
 ],
 "metadata": {
  "kernelspec": {
   "display_name": "Python 3",
   "language": "python",
   "name": "python3"
  },
  "language_info": {
   "codemirror_mode": {
    "name": "ipython",
    "version": 3
   },
   "file_extension": ".py",
   "mimetype": "text/x-python",
   "name": "python",
   "nbconvert_exporter": "python",
   "pygments_lexer": "ipython3",
   "version": "3.10.12"
  },
  "orig_nbformat": 4
 },
 "nbformat": 4,
 "nbformat_minor": 2
}
