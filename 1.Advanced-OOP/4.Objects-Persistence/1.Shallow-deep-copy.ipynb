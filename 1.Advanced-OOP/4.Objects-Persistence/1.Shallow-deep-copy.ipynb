{
 "cells": [
  {
   "cell_type": "markdown",
   "metadata": {},
   "source": [
    "[< __INTRO MODULE 1__](../README.md)\n",
    "\n",
    "---"
   ]
  },
  {
   "cell_type": "markdown",
   "metadata": {},
   "source": [
    "# Index\n",
    "\n",
    "- [Introduction](#introduction)\n",
    "- [Build-in function `id()`](#build-in-function-id)\n",
    "- [Iteration about `is` and `==`](#iteration-about-is-and-)\n",
    "- [Copying an object](#copying-an-object)\n",
    "\n",
    "---"
   ]
  },
  {
   "cell_type": "markdown",
   "metadata": {},
   "source": [
    "### Introduction\n",
    "\n",
    "To extend, in code, the life of an object it is necessary to assign a variable to it.\n",
    "\n",
    "This variable does not explicitly store the values of the object, but it stores in which section of the memory the data of this object has been stored, that is to say, the variable is a pointer in the memory.\n",
    "\n",
    "Let's put an example with a list of objects.\n",
    "\n",
    "![Alt text](../media/variable_creation.png)\n",
    "\n",
    "Conceptually, the creation of this list can be segmented as follows:\n",
    "- At first, an object (a list in this example) is created in the computer's memory. Now the object has its identity.\n",
    "- Then the object is populated with other objects. Now our object has a value.\n",
    "- Finally a variable, which you should treat as a label or name binding, is created, and this label refers to a distinct place in the computer memory.\n",
    "\n",
    "---\n",
    "\n"
   ]
  },
  {
   "cell_type": "markdown",
   "metadata": {},
   "source": [
    "### Build-in function `id()`\n",
    "\n",
    "An interesting detail is that there is a build-in `id()` method that displays the unique identifier of an object. This identifier is not the actual reference in memory where the variable points to, but a unique identifier generated for this object.\n",
    "\n",
    "This method can be useful when we want to debug the state of two objects."
   ]
  },
  {
   "cell_type": "code",
   "execution_count": 9,
   "metadata": {},
   "outputs": [
    {
     "name": "stdout",
     "output_type": "stream",
     "text": [
      "******Different object makes a different ID*******\n",
      "ID str1: 139919374693808\n",
      "ID str2: 139919328366320\n",
      "***str3 points to the same object so... same ID***\n",
      "ID str1: 139919374693808\n",
      "ID str3: 139919374693808\n"
     ]
    }
   ],
   "source": [
    "str1 = \"hi\"\n",
    "str2 = \"bye\"\n",
    "\n",
    "print(\"Different object makes a different ID\".center(50, \"*\"))\n",
    "print(f\"ID str1: {id(str1)}\")  \n",
    "print(f\"ID str2: {id(str2)}\")\n",
    "print(\"str3 points to the same object so... same ID\".center(50, \"*\"))\n",
    "str3 = str1\n",
    "print(f\"ID str1: {id(str1)}\")\n",
    "print(f\"ID str3: {id(str3)}\")"
   ]
  },
  {
   "cell_type": "markdown",
   "metadata": {},
   "source": [
    "This can be translated into these:\n",
    "\n",
    "![Alt text](pointers.png)\n",
    "\n",
    "---"
   ]
  },
  {
   "cell_type": "markdown",
   "metadata": {},
   "source": [
    "### Iteration about `is` and `==`.\n",
    "\n",
    "Taking advantage of the introduction of pointers, mention the difference between `is` and `==`. Both logical operators are used to compare an object, however, there is a nuance.\n",
    "\n",
    "The nuance is as follows:\n",
    "- `is`: Serves to tell if two variables have the same object, that is, if they point to the same memory pointer.\n",
    "- `==`: Used to tell if two variables point to the same value.\n",
    "\n",
    "Here we have an example in code:"
   ]
  },
  {
   "cell_type": "code",
   "execution_count": 12,
   "metadata": {},
   "outputs": [
    {
     "name": "stdout",
     "output_type": "stream",
     "text": [
      "ID str1: 139919328369712\n",
      "ID str2: 139919328369712\n",
      "== comparison (value): True\n",
      "is comparison (pointer): True \n",
      "\n",
      "ID str1: 139919301430256\n",
      "ID str2: 139919301439664\n",
      "== comparison (value): True\n",
      "is comparison (pointer): False\n"
     ]
    }
   ],
   "source": [
    "str1 = \"Hi!\"\n",
    "str2 = str1\n",
    "\n",
    "print('ID str1:', id(str1))\n",
    "print('ID str2:', id(str2))\n",
    "print('== comparison (value):', str1 == str2)\n",
    "print('is comparison (pointer):', str1 is str2, \"\\n\")\n",
    "\n",
    "str1 = \"Hi!\"\n",
    "str2 = \"Hi!\"\n",
    "\n",
    "print('ID str1:', id(str1))\n",
    "print('ID str2:', id(str2))\n",
    "print('== comparison (value):', str1 == str2)\n",
    "print('is comparison (pointer):', str1 is str2)"
   ]
  },
  {
   "cell_type": "markdown",
   "metadata": {},
   "source": [
    "---"
   ]
  },
  {
   "cell_type": "markdown",
   "metadata": {},
   "source": [
    "### Copying an object\n",
    "\n",
    "It may happen that we are interested in copying an object, for example, to be able to treat values of the same object in two different ways.\n",
    "\n",
    "Python has functions to copy objects, however, it is necessary to note that there are two types of copies.\n",
    "- __shallow__: Copies an object for a first level.\n",
    "- __deep__: Copies an object in all its levels.\n",
    "\n",
    "And here we can ask, what does the concept of level mean?\n",
    "\n",
    "To explain this concept we can see an example with this listing:"
   ]
  },
  {
   "cell_type": "code",
   "execution_count": 28,
   "metadata": {},
   "outputs": [
    {
     "name": "stdout",
     "output_type": "stream",
     "text": [
      "*********Showing original and copy values*********\n",
      "[1, 2, True, [1, 2], 'Hi']\n",
      "[1, 2, True, [1, 2], 'Hi']\n",
      "************Modifying original values*************\n",
      "[1, 2, True, [1, 2], 'Hi']\n",
      "['EDITED', 2, True, [1, 2], 'Hi']\n"
     ]
    }
   ],
   "source": [
    "import copy\n",
    "\n",
    "list1 = [1, 2, True, [3, 4], \"Hi\"]\n",
    "\n",
    "print(\"Showing original and copy values\".center(50, \"*\"))\n",
    "list2 = copy.copy(list1)  # Shallow copy done\n",
    "print(list1)\n",
    "print(list2)\n",
    "\n",
    "print(\"Modifying original values\".center(50, \"*\"))\n",
    "list2[0] = \"EDITED\"\n",
    "print(list1)\n",
    "print(list2)\n"
   ]
  },
  {
   "cell_type": "markdown",
   "metadata": {},
   "source": [
    "As we can see, both listings have maintained their individuality, the changes in one have not affected the other.\n",
    "\n",
    "Now, on the same example, we are going to modify the listing in the third position (the listing '[3, 4]'), specifically, the first value (the value '3'):"
   ]
  },
  {
   "cell_type": "code",
   "execution_count": 29,
   "metadata": {},
   "outputs": [
    {
     "name": "stdout",
     "output_type": "stream",
     "text": [
      "*********Showing original and copy values*********\n",
      "[1, 2, True, [3, 4], 'Hi']\n",
      "[1, 2, True, [3, 4], 'Hi']\n",
      "************Modifying original values*************\n",
      "[1, 2, True, ['CHANGED', 4], 'Hi']\n",
      "[1, 2, True, ['CHANGED', 4], 'Hi']\n"
     ]
    }
   ],
   "source": [
    "import copy\n",
    "\n",
    "list1 = [1, 2, True, [3, 4], \"Hi\"]\n",
    "\n",
    "print(\"Showing original and copy values\".center(50, \"*\"))\n",
    "list2 = copy.copy(list1)  # Shallow copy done\n",
    "print(list2)\n",
    "print(list1)\n",
    "\n",
    "print(\"Modifying original values\".center(50, \"*\"))\n",
    "list2[3][0] = \"CHANGED\"\n",
    "print(list2)\n",
    "print(list1)\n"
   ]
  },
  {
   "cell_type": "markdown",
   "metadata": {},
   "source": [
    "In this case we see that the change made in an object has also affected the copy, i.e., they were not two individual elements.\n",
    "\n",
    "Here we can say that a shallow copy copies all the values pointed to by the first pointer, i.e. it duplicates the following objects:\n",
    "0. 1\n",
    "1. 2\n",
    "2. list\n",
    "3. true\n",
    "4. Hi\n",
    "\n",
    "However, the second position stores a list which contains two objects, i.e. other memory pointers. The shallow copy will not duplicate these values, but will store the position of the memory pointers. In case we want to copy, at all levels, this object, it is necessary to use a deepcopy:"
   ]
  },
  {
   "cell_type": "code",
   "execution_count": 30,
   "metadata": {},
   "outputs": [
    {
     "name": "stdout",
     "output_type": "stream",
     "text": [
      "*********Showing original and copy values*********\n",
      "[1, 2, True, [3, 4], 'Hi']\n",
      "[1, 2, True, [3, 4], 'Hi']\n",
      "************Modifying original values*************\n",
      "[1, 2, True, ['CHANGED', 4], 'Hi']\n",
      "[1, 2, True, [3, 4], 'Hi']\n"
     ]
    }
   ],
   "source": [
    "import copy\n",
    "\n",
    "list1 = [1, 2, True, [3, 4], \"Hi\"]\n",
    "\n",
    "print(\"Showing original and copy values\".center(50, \"*\"))\n",
    "list2 = copy.deepcopy(list1)  # Shallow copy done\n",
    "print(list2)\n",
    "print(list1)\n",
    "\n",
    "print(\"Modifying original values\".center(50, \"*\"))\n",
    "list2[3][0] = \"CHANGED\"\n",
    "print(list2)\n",
    "print(list1)"
   ]
  },
  {
   "cell_type": "markdown",
   "metadata": {},
   "source": [
    "---\n",
    "\n",
    "[< __INTRO MODULE 1__](../README.md)"
   ]
  }
 ],
 "metadata": {
  "kernelspec": {
   "display_name": "Python 3",
   "language": "python",
   "name": "python3"
  },
  "language_info": {
   "codemirror_mode": {
    "name": "ipython",
    "version": 3
   },
   "file_extension": ".py",
   "mimetype": "text/x-python",
   "name": "python",
   "nbconvert_exporter": "python",
   "pygments_lexer": "ipython3",
   "version": "3.10.12"
  },
  "orig_nbformat": 4
 },
 "nbformat": 4,
 "nbformat_minor": 2
}
