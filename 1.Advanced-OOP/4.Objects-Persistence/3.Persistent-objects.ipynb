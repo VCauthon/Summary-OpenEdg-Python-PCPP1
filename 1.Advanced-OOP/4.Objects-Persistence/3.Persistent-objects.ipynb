{
 "cells": [
  {
   "cell_type": "markdown",
   "metadata": {},
   "source": [
    "# Serialization of Python objects using the shelve module\n",
    "---\n",
    "[< __GO BACK__](https://github.com/VCauthon/Summary-OpenEdg-Pyhon-PCPP1/blob/main/1.Advanced-OOP/4.Objects-Persistence/Introduction.ipynb)"
   ]
  },
  {
   "cell_type": "markdown",
   "metadata": {},
   "source": [
    "### Introduction\n",
    "\n",
    "An important nuance that has been commented in serialization and deserialization of `pickles` is that, __when deserializing a pickle of several objects, the objects must be deserialized in the same order that they were serialized__. This can be a problem, since all the scripts that work with that pickle are forced to deserialize the whole objects and not to take only the object they are interested in using.\n",
    "\n",
    "Because of this limitation there is the `shelve` library, __this library ends up being a usability layer that is above pickle__, so that it can facilitate its use. The addition that shelve includes is that it is a __database of objects__, that is to say, it allows to store as many objects as we want and then, as if it were a dictionary, to access the object that we need.\n",
    "\n",
    "---"
   ]
  },
  {
   "cell_type": "markdown",
   "metadata": {},
   "source": [
    "### Creating a shelve\n",
    "\n",
    "First, let's import the appropriate module and create an object representing a file-based database:\n",
    "\n",
    "```python\n",
    "import shelve\n",
    "my_shelve = shelve.open('first_shelve.shlv', flag='w')\n",
    "```\n",
    "\n",
    "The meaning of the optional flag parameter:\n",
    "\n",
    "|Value | Meaning |\n",
    "|---  | --- |   \n",
    "|'r' | Open existing database for reading only  | \n",
    "|'w' | Open existing database for reading and writing  | \n",
    "|'c' | Open database for reading and writing, creating it if it doesn’t exist (this is a default value)  | \n",
    "|'n' | Always create a new, empty database, open for reading and writing  | \n",
    "\n",
    "Below is a code example where a shelve is created and a couple of objects are saved:"
   ]
  },
  {
   "cell_type": "code",
   "execution_count": 5,
   "metadata": {},
   "outputs": [],
   "source": [
    "from dataclasses import dataclass\n",
    "import shelve\n",
    "\n",
    "\n",
    "@dataclass\n",
    "class Item:\n",
    "    name: str\n",
    "    quantity: int\n",
    "\n",
    "\n",
    "# Creating the shevel\n",
    "obj_shelve = shelve.open('example_shelve.shlv')\n",
    "\n",
    "# Saving some objects\n",
    "obj_shelve['obj1'] = Item('Banana', 10)\n",
    "obj_shelve['obj2'] = Item('Apple', 7)\n",
    "\n",
    "# Closing the shelve\n",
    "obj_shelve.close()"
   ]
  },
  {
   "cell_type": "markdown",
   "metadata": {},
   "source": [
    "After this example we show another one where the created shelve is recovered to reuse the objects.\n",
    "\n",
    "Note that neither pickle nor shelve can save the implementation of a class, that is to say, and for the example case, shelve cannot be asked to save the Item class.\n",
    "\n",
    "Now the code begins:"
   ]
  },
  {
   "cell_type": "code",
   "execution_count": 10,
   "metadata": {},
   "outputs": [
    {
     "name": "stdout",
     "output_type": "stream",
     "text": [
      "Key: obj2 - Value: Item(name='Apple', quantity=7)\n",
      "Key: obj1 - Value: Item(name='Banana', quantity=10)\n"
     ]
    }
   ],
   "source": [
    "from dataclasses import dataclass\n",
    "import shelve\n",
    "\n",
    "\n",
    "@dataclass\n",
    "class Item:\n",
    "    name: str\n",
    "    quantity: int\n",
    "\n",
    "\n",
    "# Reopening the shelve\n",
    "obj_shelve = shelve.open('example_shelve.shlv', flag='r')\n",
    "\n",
    "# Retrieving the objects saved\n",
    "for key, value in obj_shelve.items():\n",
    "    print(f\"Key: {key} - Value: {value}\")\n",
    "\n",
    "# Closing the shelve\n",
    "obj_shelve.close()"
   ]
  },
  {
   "cell_type": "markdown",
   "metadata": {},
   "source": [
    "### Tips for using the shelve modules\n",
    "\n",
    "When you treat a shelve object like a Python dictionary, you can make use of the dictionary utilities:\n",
    "- The `len()` function\n",
    "- The `in` operator\n",
    "- The `keys()` and `items()` methods\n",
    "- The `update` operation, which works the same as when applied to a Python `dictionary`\n",
    "- The `del` instruction, used to delete a key-value pair\n",
    "- Python puts the changes in a buffer which is periodically flushed to the disk. To enforce an immediate flush, call the `sync()` method on your shelve object\n",
    "- When you call the `close()` method on an shelve object, it also flushes the buffers\n",
    "\n",
    "\n",
    "__IMPORTANT__: Because the shelve module is backed by pickle, it isn’t safe to load a shelve from an untrusted source. As with pickle, loading a shelve can execute arbitrary code."
   ]
  },
  {
   "cell_type": "markdown",
   "metadata": {},
   "source": [
    "---\n",
    "[< __GO BACK__](https://github.com/VCauthon/Summary-OpenEdg-Pyhon-PCPP1/blob/main/1.Advanced-OOP/4.Objects-Persistence/Introduction.ipynb)"
   ]
  }
 ],
 "metadata": {
  "kernelspec": {
   "display_name": "Python 3",
   "language": "python",
   "name": "python3"
  },
  "language_info": {
   "codemirror_mode": {
    "name": "ipython",
    "version": 3
   },
   "file_extension": ".py",
   "mimetype": "text/x-python",
   "name": "python",
   "nbconvert_exporter": "python",
   "pygments_lexer": "ipython3",
   "version": "3.10.12"
  },
  "orig_nbformat": 4
 },
 "nbformat": 4,
 "nbformat_minor": 2
}
