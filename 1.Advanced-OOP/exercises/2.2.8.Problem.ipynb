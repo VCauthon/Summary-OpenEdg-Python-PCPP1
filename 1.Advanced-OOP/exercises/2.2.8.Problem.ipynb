{
 "cells": [
  {
   "cell_type": "markdown",
   "metadata": {},
   "source": [
    "# Estimated time\n",
    "20 minutes"
   ]
  },
  {
   "cell_type": "markdown",
   "metadata": {},
   "source": [
    "# Level of difficulty\n",
    "Easy"
   ]
  },
  {
   "cell_type": "markdown",
   "metadata": {},
   "source": [
    "# Objectives\n",
    "- creating classes, class and instance variables\n",
    "- accessing class and instance variables"
   ]
  },
  {
   "cell_type": "markdown",
   "metadata": {},
   "source": [
    "# Scenario\n",
    "Imagine that you receive a task description of an application that monitors the process of apple packaging before the apples are sent to a shop.\n",
    "\n",
    "A shop owner has asked for 1000 apples, but the total weight limitation cannot exceed 300 units.\n",
    "\n",
    "Write a code that creates objects representing apples as long as both limitations are met. When any limitation is exceeded, than the packaging process is stopped, and your application should print the number of apple class objects created, and the total weight.\n",
    "\n",
    "Your application should keep track of two parameters:\n",
    "- The number of apples processed, stored as a class variable;\n",
    "- The total weight of the apples processed; stored as a class variable.\n",
    "    - Assume that each apple's weight is random, and can vary between 0.2 and 0.5 of an imaginary weight unit;\n",
    "\n",
    "__Hint__: Use a random.uniform(lower, upper) function to create a random number between the lower and upper float values."
   ]
  }
 ],
 "metadata": {
  "language_info": {
   "name": "python"
  },
  "orig_nbformat": 4
 },
 "nbformat": 4,
 "nbformat_minor": 2
}
