{
 "cells": [
  {
   "cell_type": "markdown",
   "metadata": {},
   "source": [
    "# Estimated time\n",
    "45 minutes"
   ]
  },
  {
   "cell_type": "markdown",
   "metadata": {},
   "source": [
    "# Level of difficulty\n",
    "Medium"
   ]
  },
  {
   "cell_type": "markdown",
   "metadata": {},
   "source": [
    "# Objectives\n",
    "- Improving the student's skills in operating with inheritance and composition\n"
   ]
  },
  {
   "cell_type": "markdown",
   "metadata": {},
   "source": [
    "# Scenario\n",
    "\n",
    "Imagine that you are an automotive fan, and you are able to build a car from a limited set of components.\n",
    "\n",
    "Your task is to :\n",
    "- Define classes representing:\n",
    "    - Tires (as a bundle needed by a car to operate); methods available: get_pressure(), pump(); attribute available: size\n",
    "    - Engine; methods available: start(), stop(), get_state(); attribute available: fuel type\n",
    "    - Vehicle; method available: __init__(VIN, engine, tires); attribute available: VIN\n",
    "- Based on the classes defined above, create the following objects:\n",
    "    - Two sets of tires: city tires (size: 15), off-road tires (size: 18)\n",
    "    - Two engines: electric engine, petrol engine\n"
   ]
  },
  {
   "cell_type": "markdown",
   "metadata": {},
   "source": [
    "# Test your class behavior by:\n",
    "- Instantiate two objects representing cars:\n",
    "    - The first one is a city car, built of an electric engine and city tires\n",
    "    - The second one is an all-terrain car build of a petrol engine and off-road tires\n",
    "- Play with the cars by calling methods responsible for interaction with components."
   ]
  }
 ],
 "metadata": {
  "language_info": {
   "name": "python"
  },
  "orig_nbformat": 4
 },
 "nbformat": 4,
 "nbformat_minor": 2
}
