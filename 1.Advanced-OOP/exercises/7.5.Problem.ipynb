{
 "cells": [
  {
   "cell_type": "markdown",
   "metadata": {},
   "source": [
    "# Estimated time\n",
    "30~60 minutes"
   ]
  },
  {
   "cell_type": "markdown",
   "metadata": {},
   "source": [
    "# Level of difficulty\n",
    "Medium"
   ]
  },
  {
   "cell_type": "markdown",
   "metadata": {},
   "source": [
    "# Objectives\n",
    "- Improving the student's skills in operating with the getter, setter, and deleter methods;\n",
    "- Improving the student's skills in creating their own exceptions."
   ]
  },
  {
   "cell_type": "markdown",
   "metadata": {},
   "source": [
    "# Scenario\n",
    "- Implement a class representing an account exception,\n",
    "- Implement a class representing a single bank account,\n",
    "- This class should control access to the account number and account balance attributes by implementing the properties:\n",
    "    - It should be possible to read the account number only, not change it. In case someone tries to change the account number, raise an alarm by raising an exception;\n",
    "    - It should not be possible to set a negative balance. In case someone tries to set a negative balance, raise an alarm by raising an exception;\n",
    "    - When the bank operation (deposit or withdrawal) is above 100.000, then additional message should be printed on the standard output (screen) for auditing purposes;\n",
    "    - It should not be possible to delete an account as long as the balance is not zero;"
   ]
  },
  {
   "cell_type": "markdown",
   "metadata": {},
   "source": [
    "# Test your class behavior by:\n",
    "- Setting the balance to 1000;\n",
    "- Trying to set the balance to -200;\n",
    "- Trying to set a new value for the account number;\n",
    "- Trying to deposit 1.000.000;\n",
    "- Trying to delete the account attribute containing a non-zero balance."
   ]
  }
 ],
 "metadata": {
  "language_info": {
   "name": "python"
  },
  "orig_nbformat": 4
 },
 "nbformat": 4,
 "nbformat_minor": 2
}
