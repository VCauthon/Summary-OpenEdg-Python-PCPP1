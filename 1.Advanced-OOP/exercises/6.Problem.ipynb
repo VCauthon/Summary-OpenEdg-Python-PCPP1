{
 "cells": [
  {
   "cell_type": "markdown",
   "metadata": {},
   "source": [
    "# Estimated time\n",
    "20 minutes"
   ]
  },
  {
   "cell_type": "markdown",
   "metadata": {},
   "source": [
    "# Level of difficulty\n",
    "Easy"
   ]
  },
  {
   "cell_type": "markdown",
   "metadata": {},
   "source": [
    "# Objectives\n",
    "- improving the student's skills in operating with multiple inheritance;\n",
    "- pointing out the nature of multiple inheritance problems."
   ]
  },
  {
   "cell_type": "markdown",
   "metadata": {},
   "source": [
    "# Scenario\n",
    "- Your task is to build a multifunction device (MFD) class consisting of methods responsible for document scanning, printing, and sending via fax.\n",
    "- The methods are delivered by the following classes:\n",
    "    - `scan()`, delivered by the Scanner class;\n",
    "    - `print()`, delivered by the Printer class;\n",
    "    - `send()` and print(), delivered by the Fax class.\n",
    "- Each method should print a message indicating its purpose and origin, like:\n",
    "    - `print()` method from Printer class\n",
    "    - `send()` method from Fax class\n",
    "- create an `MFD_SPF class ('SPF' means 'Scanner', 'Printer', 'Fax')`, then instantiate it;\n",
    "- create an `MFD_SFP class ('SFP' means 'Scanner', 'Fax', 'Printer')`, then instantiate it;\n",
    "- on each object call the methods: `scan()`, `print()`, `send()`;\n",
    "- observe the output differences. Was the Printer class utilized each time?"
   ]
  }
 ],
 "metadata": {
  "language_info": {
   "name": "python"
  },
  "orig_nbformat": 4
 },
 "nbformat": 4,
 "nbformat_minor": 2
}
