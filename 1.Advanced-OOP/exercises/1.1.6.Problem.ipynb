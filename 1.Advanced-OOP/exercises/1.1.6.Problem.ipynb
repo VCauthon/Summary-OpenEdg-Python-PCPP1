{
 "cells": [
  {
   "cell_type": "markdown",
   "metadata": {},
   "source": [
    "# Estimated time\n",
    "10-15 minutes"
   ]
  },
  {
   "cell_type": "markdown",
   "metadata": {},
   "source": [
    "# Level of difficulty\n",
    "Easy"
   ]
  },
  {
   "cell_type": "markdown",
   "metadata": {},
   "source": [
    "# Objectives\n",
    "- creating classes, methods, and variables;\n",
    "- calling methods;\n",
    "- getting simple access to instance variables;"
   ]
  },
  {
   "cell_type": "markdown",
   "metadata": {},
   "source": [
    "# Scenario\n",
    "- create a class representing a mobile phone;\n",
    "- your class should implement the following methods:\n",
    "    - `__init__` expects a number to be passed as an argument; this method stores the number in an instance variable self.number\n",
    "    - `turn_on()` should return the message 'mobile phone {number} is turned on'. Curly brackets are used to mark the place to insert the object's number variable;\n",
    "    - `turn_off()` should return the message 'mobile phone is turned off';\n",
    "    - `call(number)` should return the message 'calling {number}'. Curly brackets are used to mark the place to insert the object's number variable;\n",
    "- create two objects representing two different mobile phones; assign any random phone numbers to them;\n",
    "- implement a sequence of method calls on the objects to turn them on, call any number. Print the methods' outcomes;\n",
    "- turn off both mobiles."
   ]
  },
  {
   "cell_type": "markdown",
   "metadata": {},
   "source": [
    "# Example output\n",
    "\n",
    "> mobile phone 01632-960004 is turned on<br>\n",
    "> mobile phone 01632-960012 is turned on<br>\n",
    "> calling 555-34343<br>\n",
    "> mobile phone is turned off<br>\n",
    "> mobile phone is turned off<br>"
   ]
  }
 ],
 "metadata": {
  "language_info": {
   "name": "python"
  },
  "orig_nbformat": 4
 },
 "nbformat": 4,
 "nbformat_minor": 2
}
