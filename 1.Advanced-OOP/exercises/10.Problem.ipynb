{
 "cells": [
  {
   "cell_type": "markdown",
   "metadata": {},
   "source": [
    "# Estimated time\n",
    "45 minutes"
   ]
  },
  {
   "cell_type": "markdown",
   "metadata": {},
   "source": [
    "# Level of difficulty\n",
    "Medium"
   ]
  },
  {
   "cell_type": "markdown",
   "metadata": {},
   "source": [
    "# Objectives\n",
    "- Improving the student's skills in operating with metaclasses\n",
    "- Improving the student's skills in operating with class variables and class methods\n"
   ]
  },
  {
   "cell_type": "markdown",
   "metadata": {},
   "source": [
    "# Scenario\n",
    "\n",
    "- Imagine you’ve been given a task to clean up the code of a system developed in Python – the code should be treated as legacy code\n",
    "- The system was created by a group of volunteers who worked with no clear “clean coding” rules\n",
    "- The system suffers from a problem: we don’t know in which order the classes are created, so it causes multiple dependency problems\n",
    "- Your task is to prepare a metaclass that is responsible for\n",
    "    - Equipping all newly instantiated classes with time stamps, persisted in a class attribute named instantiation_time\n",
    "    - Equipping all newly instantiated classes with the get_instantiation_time() method. The method should return the value of the class attribute instantiation_time\n",
    "\n",
    "> The metaclass should have its own class variable (a list) that contains a list of the names of the classes instantiated by the metaclass (tip: append the class name in the __new__ method)."
   ]
  },
  {
   "cell_type": "markdown",
   "metadata": {},
   "source": [
    "# Test your class behavior by:\n",
    "\n",
    "- Your metaclass should be used to create a few distinct legacy classes;\n",
    "- Create objects based on the classes;\n",
    "- List the class names that are instantiated by your metaclass."
   ]
  }
 ],
 "metadata": {
  "language_info": {
   "name": "python"
  },
  "orig_nbformat": 4
 },
 "nbformat": 4,
 "nbformat_minor": 2
}
