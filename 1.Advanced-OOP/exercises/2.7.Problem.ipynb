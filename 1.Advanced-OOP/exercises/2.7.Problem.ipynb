{
 "cells": [
  {
   "cell_type": "markdown",
   "metadata": {},
   "source": [
    "# Estimated time\n",
    "15-30 minutes"
   ]
  },
  {
   "cell_type": "markdown",
   "metadata": {},
   "source": [
    "# Level of difficulty\n",
    "Medium"
   ]
  },
  {
   "cell_type": "markdown",
   "metadata": {},
   "source": [
    "# Objectives\n",
    "- Improving the student's skills in creating decorators and operating with them."
   ]
  },
  {
   "cell_type": "markdown",
   "metadata": {},
   "source": [
    "# Scenario\n",
    "- Create a function decorator that prints a timestamp (in a form like __year-month-day hour:minute:seconds__, eg. 2019-11-05 08:33:22)\n",
    "- Create a few ordinary functions that do some simple tasks, like adding or multiplying two numbers.\n",
    "- Apply your decorator to those functions to ensure that the time of the function executions can be monitored."
   ]
  }
 ],
 "metadata": {
  "language_info": {
   "name": "python"
  },
  "orig_nbformat": 4
 },
 "nbformat": 4,
 "nbformat_minor": 2
}
