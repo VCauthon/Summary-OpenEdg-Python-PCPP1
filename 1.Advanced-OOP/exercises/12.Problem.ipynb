{
 "cells": [
  {
   "cell_type": "markdown",
   "metadata": {},
   "source": [
    "# Estimated time\n",
    "15 minutes"
   ]
  },
  {
   "cell_type": "markdown",
   "metadata": {},
   "source": [
    "# Level of difficulty\n",
    "Low"
   ]
  },
  {
   "cell_type": "markdown",
   "metadata": {},
   "source": [
    "# Objectives\n",
    "- improving the student's skills in operating with the deepcopy() method on a list of dictionaries."
   ]
  },
  {
   "cell_type": "markdown",
   "metadata": {},
   "source": [
    "# Scenario\n",
    "\n",
    "__Introduction:__\n",
    "Imagine you have been hired to help run a candy warehouse.\n",
    "\n",
    "__The task:__\n",
    "1. Your task is to write a code that will prepare a proposal of reduced prices for the candies whose total weight exceeds 300 units of weight (we don’t care whether those are kilograms or pounds)\n",
    "2. Your input is a list of dictionaries; each dictionary represents one type of candy. Each type of candy contains a key entitled 'weight', which should lead you to the total weight details of the given delicacy. The input is presented in the editor;\n",
    "3. Prepare a copy of the source list (this should be done with a one-liner) and then iterate over it to reduce the price of each delicacy by 20% if its weight exceeds the value of 300;\n",
    "4. Present an original list of candies and a list that contains the proposals;\n",
    "5. Check if your code works correctly when copying and modifying the candy item details."
   ]
  },
  {
   "cell_type": "markdown",
   "metadata": {},
   "source": [
    "# Test your class behavior by:\n",
    "\n",
    "__Expected output__\n",
    "\n",
    "```python\n",
    "Source list of candies\n",
    "{'name': 'Lolly Pop', 'price': 0.4, 'weight': 133}\n",
    "{'name': 'Licorice', 'price': 0.1, 'weight': 251}\n",
    "{'name': 'Chocolate', 'price': 1, 'weight': 601}\n",
    "{'name': 'Sours', 'price': 0.01, 'weight': 513}\n",
    "{'name': 'Hard candies', 'price': 0.3, 'weight': 433}\n",
    "******************\n",
    "Price proposal\n",
    "{'name': 'Lolly Pop', 'price': 0.4, 'weight': 133}\n",
    "{'name': 'Licorice', 'price': 0.1, 'weight': 251}\n",
    "{'name': 'Chocolate', 'price': 0.8, 'weight': 601}\n",
    "{'name': 'Sours', 'price': 0.008, 'weight': 513}\n",
    "{'name': 'Hard candies', 'price': 0.24, 'weight': 433}\n",
    "```"
   ]
  }
 ],
 "metadata": {
  "language_info": {
   "name": "python"
  },
  "orig_nbformat": 4
 },
 "nbformat": 4,
 "nbformat_minor": 2
}
