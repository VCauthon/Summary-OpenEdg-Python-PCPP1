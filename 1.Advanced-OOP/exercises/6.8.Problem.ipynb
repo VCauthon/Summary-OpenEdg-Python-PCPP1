{
 "cells": [
  {
   "cell_type": "markdown",
   "metadata": {},
   "source": [
    "# Estimated time\n",
    "40 minutes"
   ]
  },
  {
   "cell_type": "markdown",
   "metadata": {},
   "source": [
    "# Level of difficulty\n",
    "Medium"
   ]
  },
  {
   "cell_type": "markdown",
   "metadata": {},
   "source": [
    "# Objectives\n",
    "- Creation of abstract classes and abstract methods;\n",
    "- Multiple inheritance of abstract classes;\n",
    "- Overriding abstract methods;\n",
    "- Delivering multiple child classes."
   ]
  },
  {
   "cell_type": "markdown",
   "metadata": {},
   "source": [
    "# Scenario\n",
    "- You are about to create a multifunction device (MFD) that can scan and print documents;\n",
    "- The system consists of a scanner and a printer;\n",
    "- Your task is to create blueprints for it and deliver the implementations;\n",
    "- Create an abstract class representing a scanner that enforces the following methods:\n",
    "    - `scan_document` – returns a string indicating that the document has been scanned;\n",
    "    - `get_scanner_status` – returns information about the scanner (max. resolution, serial number)\n",
    "- Create an abstract class representing a printer that enforces the following methods:\n",
    "    - `print_document` – returns a string indicating that the document has been printed;\n",
    "    - `get_printer_status` – returns information about the printer (max. resolution, serial number)\n",
    "- Create MFD1, MFD2 and MFD3 classes that inherit the abstract classes responsible for scanning and printing:\n",
    "    - __MFD1__ – should be a cheap device, made of a cheap printer and a cheap scanner, so device capabilities (resolution) should be low;\n",
    "    - __MFD2__ – should be a medium-priced device allowing additional operations like printing operation history, and the resolution is better than the lower-priced device;\n",
    "    - __MFD3__ – should be a premium device allowing additional operations like printing operation history and fax machine.\n",
    "- Instantiate __MFD1__, __MFD2__ and __MFD3__ to demonstrate their abilities. All devices should be capable of serving generic feature sets."
   ]
  }
 ],
 "metadata": {
  "language_info": {
   "name": "python"
  },
  "orig_nbformat": 4
 },
 "nbformat": 4,
 "nbformat_minor": 2
}
