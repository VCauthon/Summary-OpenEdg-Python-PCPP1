{
 "cells": [
  {
   "cell_type": "markdown",
   "metadata": {},
   "source": [
    "# Estimated time\n",
    "15 minutes"
   ]
  },
  {
   "cell_type": "markdown",
   "metadata": {},
   "source": [
    "# Level of difficulty\n",
    "Medium"
   ]
  },
  {
   "cell_type": "markdown",
   "metadata": {},
   "source": [
    "# Objectives\n",
    "- improving the student's skills in creating classes representing candies;\n",
    "- improving the student's skills in operating with `deepcopy()` and `copy`."
   ]
  },
  {
   "cell_type": "markdown",
   "metadata": {},
   "source": [
    "# Scenario\n",
    "\n",
    "The previous task was a very easy one. Now let's rework the code a bit:\n",
    "\n",
    "1. introduce the Delicacy class to represent a generic delicacy. The objects of this class will replace the old school dictionaries. Suggested attribute names: name, price, weight;\n",
    "2. your class should implement the `__str__()` method to represent each object state;\n",
    "3. experiment with the `copy.copy()` and `deepcopy.copy()` methods to see the difference in how each method copies objects"
   ]
  }
 ],
 "metadata": {
  "language_info": {
   "name": "python"
  },
  "orig_nbformat": 4
 },
 "nbformat": 4,
 "nbformat_minor": 2
}
