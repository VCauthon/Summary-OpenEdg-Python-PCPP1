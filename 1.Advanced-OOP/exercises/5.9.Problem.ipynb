{
 "cells": [
  {
   "cell_type": "markdown",
   "metadata": {},
   "source": [
    "# Estimated time\n",
    "20 minutes"
   ]
  },
  {
   "cell_type": "markdown",
   "metadata": {},
   "source": [
    "# Level of difficulty\n",
    "Easy"
   ]
  },
  {
   "cell_type": "markdown",
   "metadata": {},
   "source": [
    "# Objectives\n",
    "- improving the student's skills in operating with static and class methods"
   ]
  },
  {
   "cell_type": "markdown",
   "metadata": {},
   "source": [
    "# Scenario\n",
    "- Create a class representing a luxury watch;\n",
    "- The class should allow you to hold a number of watches created in the `watches_created` class variable. The number could be fetched using a class method named `get_number_of_watches_created`; the class may allow you to create a watch with a dedicated engraving (text). As this is an extra option, the watch with the engraving should be created using an alternative constructor (a class method), as a regular `__init__` method should not allow ordering engravings;\n",
    "- The regular `__init__` method should only increase the value of the appropriate class variable;\n",
    "\n",
    "The text intended to be engraved should follow some restrictions:\n",
    "- It should not be longer than 40 characters;\n",
    "- It should consist of alphanumerical characters, so no space characters are allowed;\n",
    "- If the text does not comply with restrictions, an exception should be raised;\n",
    "\n",
    "Before engraving the desired text, the text should be validated against restrictions using a dedicated static method.\n",
    "- Create a watch with no engraving\n",
    "- Create a watch with correct text for engraving\n",
    "- Try to create a watch with incorrect text, like 'foo@baz.com'. Handle the exception\n",
    "- After each watch is created, call class method to see if the counter variable was increased"
   ]
  }
 ],
 "metadata": {
  "language_info": {
   "name": "python"
  },
  "orig_nbformat": 4
 },
 "nbformat": 4,
 "nbformat_minor": 2
}
