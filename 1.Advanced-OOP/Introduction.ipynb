{
 "cells": [
  {
   "cell_type": "markdown",
   "metadata": {},
   "source": [
    "## An overview of the OpenEdg material can be found in [edube.org](https://edube.org/study/pcpp1-1).\n",
    "\n",
    "All the topics that we will cover in this course are listed below:\n",
    "1. [__OOP Foundations__](https://github.com/VCauthon/Summary-OpenEdg-Pyhon-PCPP1/tree/main/1.Advanced-OOP/1.OOP-Foundations/Introduction.ipynb):\n",
    "    + Classes, instances, attributes, methods, as well as working with class and instance data;\n",
    "2. [__OOP Advanced__](https://github.com/VCauthon/Summary-OpenEdg-Pyhon-PCPP1/blob/main/1.Advanced-OOP/2.OOP-Advanced/Introduction.ipynb):\n",
    "    + Inheritance, polymorphism, subclasses, and encapsulation;\n",
    "    + Abstract classes, method overriding, static and class methods, special methods;\n",
    "3. [__Advanced Techniques of Creating and serving Exceptions__](https://github.com/VCauthon/Summary-OpenEdg-Pyhon-PCPP1/blob/main/1.Advanced-OOP/3.Advanced-Exceptions/Introduction.ipynb):\n",
    "    + Advanced exception handling techniques;\n",
    "4. [__Object Persistence__](https://github.com/VCauthon/Summary-OpenEdg-Pyhon-PCPP1/blob/main/1.Advanced-OOP/4.Objects-Persistence/Introduction.ipynb):\n",
    "    + The pickle and shelve modules;\n",
    "    + Shallow and deep operations;\n",
    "5. [__Metaprogramming__](https://github.com/VCauthon/Summary-OpenEdg-Pyhon-PCPP1/blob/main/1.Advanced-OOP/5.Metaclasses/Introduction.ipynb):\n",
    "    + Metaclasses\n",
    "\n",
    "## [__Questions to test your skills__](https://quizlet.com/es/823176582/1advanced-perspective-of-classes-and-object-oriented-programming-in-python-flash-cards/?i=4l6l0h&x=1jqt)\n",
    "\n",
    "[< __GO BACK__](/README.md)"
   ]
  }
 ],
 "metadata": {
  "language_info": {
   "name": "python"
  },
  "orig_nbformat": 4
 },
 "nbformat": 4,
 "nbformat_minor": 2
}
