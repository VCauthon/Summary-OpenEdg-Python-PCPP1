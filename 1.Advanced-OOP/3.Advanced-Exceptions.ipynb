{
 "cells": [
  {
   "cell_type": "markdown",
   "metadata": {},
   "source": [
    "# Advanced techniques of creating and serving exceptions\n",
    "---\n",
    "[< __GO BACK__](https://github.com/VCauthon/Summary-OpenEdg-Pyhon-PCPP1/blob/main/1.Advanced-OOP/3.Advanced-Exceptions/Introduction.ipynb)"
   ]
  },
  {
   "cell_type": "markdown",
   "metadata": {},
   "source": [
    "### Introduction\n",
    "\n",
    "When Python executes a script and encounters a situation that it cannot cope with, it:\n",
    "\n",
    "- Stops your program\n",
    "- Creates a special kind of data, called an exception. Of course, this exception is an object\n",
    "\n",
    "__Both__ of these activities are called __raising an exception__.\n",
    "\n",
    "\n",
    "__¿What happens next?__ The exceptions expects something to take care of it and do something about it.\n",
    "- If there is no such thing, the __program is forcibly terminated__ (and you will see an error message sent to the console).\n",
    "- Otherwise, if the exception is __handled properly__, the program continues its execution.\n",
    "\n",
    "Python categorizes all exceptions into a 63* build-in classes, each of which is responsible for a particular kind of problem. The classes are organized into a hierarchy, which means that some classes are subclasses of others.\n",
    "\n",
    "__*NOTE__: The number of classes may vary depending on the version of Python you are using.\n",
    "\n",
    "The hierarchy is presented in the picture below:\n",
    "\n",
    "![Alt text](./media/exceptions_tree.png)\n",
    "\n",
    "---"
   ]
  },
  {
   "cell_type": "markdown",
   "metadata": {},
   "source": [
    "### Handling in code\n",
    "\n",
    "When you suspect that the code may raise an exception, you should use the `try:` problematic_code `except` code block to surround the \"problematic\" piece of code. In effect, when the exception is raised, execution is not terminated, but the code following the `except` clause will try to handle the problem in an elegant way.\n",
    "\n",
    "An example will be the following:"
   ]
  },
  {
   "cell_type": "code",
   "execution_count": 4,
   "metadata": {},
   "outputs": [
    {
     "name": "stdout",
     "output_type": "stream",
     "text": [
      "An exception occurred:  invalid literal for int() with base 10: 'a'\n"
     ]
    }
   ],
   "source": [
    "try:\n",
    "    print(int(\"a\"))  # An error will be raised here because we are trying to convert a string to a number (which we could actually do via ord but this is not the case).\n",
    "except ValueError as e:\n",
    "    print(\"An exception occurred: \", e)"
   ]
  },
  {
   "cell_type": "markdown",
   "metadata": {},
   "source": [
    "---"
   ]
  },
  {
   "cell_type": "markdown",
   "metadata": {},
   "source": [
    "### What contains the value \"`e`\" declared in `except ValueError as e`?\n",
    "\n",
    "Basically, for this case e is an instance of ValueError with the context, that is, an object with the necessary attributes to indicate why the error originated.\n",
    "\n",
    "The attributes of the object will vary depending on the exception raised, for example, the exception that controls when an error has arisen when importing a module (ImportError) has the following attributes:\n",
    "- `name`: Indicates the module that has been tried to be imported.\n",
    "- `path`: Indicates from where the module has been tried to be imported.\n",
    "\n",
    "Additionally, as python exceptions are a sequence of inheritances it is important to note that there are several attributes that will always have an exception. Like `args` which is a tuple with the arguments that were passed to the exception constructor.\n",
    "\n",
    "Another example, when an error related to the encoding is raised, the `UnicodeError` library comes into action. \n",
    "\n",
    "It has the following attributes:\n",
    "- `encoding`:Tthe name of the encoding that raised the error.\n",
    "- `reason`: String describing the specific codec error.\n",
    "- `object`: The object the codec was attempting to encode or decode.\n",
    "- `start`: The first index of invalid data in the object.\n",
    "- `end`: The index after the last invalid data in the object.\n",
    "---"
   ]
  },
  {
   "cell_type": "markdown",
   "metadata": {},
   "source": [
    "### Introduction into chained exceptions\n",
    "\n",
    "From python 3 onwards, chained exceptions are introduced. What are they for? Basically to know if, when handling an exception, another exception has been raised.\n",
    "\n",
    "The context of both exceptions is stored as follows:\n",
    "- `Implicit chaining`: When you raise a new exception without explicitly mentioning the previous exception.\n",
    "- `Explicit chaining`: You can explicitly chain exceptions by using the from keyword when raising a new exception (basically when you add the `raise Exception('dummy')` __`from X`__).\n",
    "\n",
    "This concept introduces two attributes in the created instances of an exception (`raise Exception as e`).\n",
    "\n",
    "The attributes included are the following:\n",
    "- `__context__`: Contains the implicit chaining.\n",
    "- `__cause__`: Contains explicit chaining.\n",
    "\n",
    "---"
   ]
  },
  {
   "cell_type": "markdown",
   "metadata": {},
   "source": [
    "### Let's see an example of chained exceptions\n",
    "\n",
    "As you can see in the code below, two exceptions are raised, the first one inside the try clause and a second error in the except clause.\n",
    "\n",
    "This code will originate a chained exception and we can __identify this if we see the message that comes out between exceptions__.\n",
    "\n",
    "`During handling of the above exception, another exception occurred:`\n",
    "\n",
    "Ah there is the code i was talking about:"
   ]
  },
  {
   "cell_type": "code",
   "execution_count": 5,
   "metadata": {},
   "outputs": [
    {
     "ename": "ZeroDivisionError",
     "evalue": "division by zero",
     "output_type": "error",
     "traceback": [
      "\u001b[0;31m---------------------------------------------------------------------------\u001b[0m",
      "\u001b[0;31mIndexError\u001b[0m                                Traceback (most recent call last)",
      "\u001b[1;32m/home/vcauthon/Workspace/Summary-OpenEdg-Pyhon-PCPP1/1.Advanced-OOP/3.Advanced-Exceptions/1.Creating-serving-exceptions/Material.ipynb Cell 9\u001b[0m line \u001b[0;36m4\n\u001b[1;32m      <a href='vscode-notebook-cell:/home/vcauthon/Workspace/Summary-OpenEdg-Pyhon-PCPP1/1.Advanced-OOP/3.Advanced-Exceptions/1.Creating-serving-exceptions/Material.ipynb#X26sZmlsZQ%3D%3D?line=2'>3</a>\u001b[0m \u001b[39mtry\u001b[39;00m:\n\u001b[0;32m----> <a href='vscode-notebook-cell:/home/vcauthon/Workspace/Summary-OpenEdg-Pyhon-PCPP1/1.Advanced-OOP/3.Advanced-Exceptions/1.Creating-serving-exceptions/Material.ipynb#X26sZmlsZQ%3D%3D?line=3'>4</a>\u001b[0m     \u001b[39mprint\u001b[39m(dummy_list[\u001b[39m2\u001b[39;49m])  \u001b[39m# This will rise the first error (IndexError)\u001b[39;00m\n\u001b[1;32m      <a href='vscode-notebook-cell:/home/vcauthon/Workspace/Summary-OpenEdg-Pyhon-PCPP1/1.Advanced-OOP/3.Advanced-Exceptions/1.Creating-serving-exceptions/Material.ipynb#X26sZmlsZQ%3D%3D?line=4'>5</a>\u001b[0m \u001b[39mexcept\u001b[39;00m \u001b[39mIndexError\u001b[39;00m \u001b[39mas\u001b[39;00m e:\n",
      "\u001b[0;31mIndexError\u001b[0m: list index out of range",
      "\nDuring handling of the above exception, another exception occurred:\n",
      "\u001b[0;31mZeroDivisionError\u001b[0m                         Traceback (most recent call last)",
      "\u001b[1;32m/home/vcauthon/Workspace/Summary-OpenEdg-Pyhon-PCPP1/1.Advanced-OOP/3.Advanced-Exceptions/1.Creating-serving-exceptions/Material.ipynb Cell 9\u001b[0m line \u001b[0;36m6\n\u001b[1;32m      <a href='vscode-notebook-cell:/home/vcauthon/Workspace/Summary-OpenEdg-Pyhon-PCPP1/1.Advanced-OOP/3.Advanced-Exceptions/1.Creating-serving-exceptions/Material.ipynb#X26sZmlsZQ%3D%3D?line=3'>4</a>\u001b[0m     \u001b[39mprint\u001b[39m(dummy_list[\u001b[39m2\u001b[39m])  \u001b[39m# This will rise the first error (IndexError)\u001b[39;00m\n\u001b[1;32m      <a href='vscode-notebook-cell:/home/vcauthon/Workspace/Summary-OpenEdg-Pyhon-PCPP1/1.Advanced-OOP/3.Advanced-Exceptions/1.Creating-serving-exceptions/Material.ipynb#X26sZmlsZQ%3D%3D?line=4'>5</a>\u001b[0m \u001b[39mexcept\u001b[39;00m \u001b[39mIndexError\u001b[39;00m \u001b[39mas\u001b[39;00m e:\n\u001b[0;32m----> <a href='vscode-notebook-cell:/home/vcauthon/Workspace/Summary-OpenEdg-Pyhon-PCPP1/1.Advanced-OOP/3.Advanced-Exceptions/1.Creating-serving-exceptions/Material.ipynb#X26sZmlsZQ%3D%3D?line=5'>6</a>\u001b[0m     \u001b[39mprint\u001b[39m(\u001b[39m0\u001b[39;49m\u001b[39m/\u001b[39;49m\u001b[39m0\u001b[39;49m)  \u001b[39m# And this will rise the second error (ZeroDivisionError)\u001b[39;00m\n",
      "\u001b[0;31mZeroDivisionError\u001b[0m: division by zero"
     ]
    }
   ],
   "source": [
    "dummy_list = [1, 2] \n",
    "\n",
    "try:\n",
    "    print(dummy_list[2])  # This will rise the first error (IndexError)\n",
    "except IndexError as e:\n",
    "    print(0/0)  # And this will rise the second error (ZeroDivisionError)"
   ]
  },
  {
   "cell_type": "markdown",
   "metadata": {},
   "source": [
    "---"
   ]
  },
  {
   "cell_type": "markdown",
   "metadata": {},
   "source": [
    "### Wait where is the __context__ and __cause__ attributes?\n",
    "\n",
    "From the above code we can see the context attribute if we catch the second exception and ask for __context__. This will return the detail of the first error raised.\n",
    "\n",
    "Let's see this in an example:"
   ]
  },
  {
   "cell_type": "code",
   "execution_count": 13,
   "metadata": {},
   "outputs": [
    {
     "name": "stdout",
     "output_type": "stream",
     "text": [
      "Inner exception (f): list index out of range\n",
      "Outer exception (e): division by zero\n",
      "Outer exception referenced: list index out of range\n",
      "Is it the same object: True\n"
     ]
    }
   ],
   "source": [
    "dummy_list = [1, 2] \n",
    "\n",
    "try:\n",
    "    print(dummy_list[2])  # This will rise the first error (IndexError)\n",
    "except IndexError as e:\n",
    "    \n",
    "    try:\n",
    "        print(0/0)  # And this will rise the second error (ZeroDivisionError)\n",
    "    except ZeroDivisionError as e2:\n",
    "        print('Inner exception (f):', e)\n",
    "        print('Outer exception (e):', e2)\n",
    "        print('Outer exception referenced:', e2.__context__)\n",
    "        print('Is it the same object:', e2.__context__ is e)"
   ]
  },
  {
   "cell_type": "markdown",
   "metadata": {},
   "source": [
    "---"
   ]
  },
  {
   "cell_type": "markdown",
   "metadata": {},
   "source": [
    "### And what about the __cause__ attribute?\n",
    "\n",
    "This originates when we raise an error from the exception section including the details of what happened.\n",
    "\n",
    "Let's rescue the previous code example:"
   ]
  },
  {
   "cell_type": "code",
   "execution_count": 16,
   "metadata": {},
   "outputs": [
    {
     "ename": "DummyException",
     "evalue": "This is a dummy exception",
     "output_type": "error",
     "traceback": [
      "\u001b[0;31m---------------------------------------------------------------------------\u001b[0m",
      "\u001b[0;31mIndexError\u001b[0m                                Traceback (most recent call last)",
      "\u001b[1;32m/home/vcauthon/Workspace/Summary-OpenEdg-Pyhon-PCPP1/1.Advanced-OOP/3.Advanced-Exceptions/1.Creating-serving-exceptions/Material.ipynb Cell 15\u001b[0m line \u001b[0;36m7\n\u001b[1;32m      <a href='vscode-notebook-cell:/home/vcauthon/Workspace/Summary-OpenEdg-Pyhon-PCPP1/1.Advanced-OOP/3.Advanced-Exceptions/1.Creating-serving-exceptions/Material.ipynb#X35sZmlsZQ%3D%3D?line=5'>6</a>\u001b[0m \u001b[39mtry\u001b[39;00m:\n\u001b[0;32m----> <a href='vscode-notebook-cell:/home/vcauthon/Workspace/Summary-OpenEdg-Pyhon-PCPP1/1.Advanced-OOP/3.Advanced-Exceptions/1.Creating-serving-exceptions/Material.ipynb#X35sZmlsZQ%3D%3D?line=6'>7</a>\u001b[0m     \u001b[39mprint\u001b[39m(dummy_list[\u001b[39m2\u001b[39;49m])  \u001b[39m# This will rise the first error (IndexError)\u001b[39;00m\n\u001b[1;32m      <a href='vscode-notebook-cell:/home/vcauthon/Workspace/Summary-OpenEdg-Pyhon-PCPP1/1.Advanced-OOP/3.Advanced-Exceptions/1.Creating-serving-exceptions/Material.ipynb#X35sZmlsZQ%3D%3D?line=7'>8</a>\u001b[0m \u001b[39mexcept\u001b[39;00m \u001b[39mIndexError\u001b[39;00m \u001b[39mas\u001b[39;00m e:\n",
      "\u001b[0;31mIndexError\u001b[0m: list index out of range",
      "\nThe above exception was the direct cause of the following exception:\n",
      "\u001b[0;31mDummyException\u001b[0m                            Traceback (most recent call last)",
      "\u001b[1;32m/home/vcauthon/Workspace/Summary-OpenEdg-Pyhon-PCPP1/1.Advanced-OOP/3.Advanced-Exceptions/1.Creating-serving-exceptions/Material.ipynb Cell 15\u001b[0m line \u001b[0;36m9\n\u001b[1;32m      <a href='vscode-notebook-cell:/home/vcauthon/Workspace/Summary-OpenEdg-Pyhon-PCPP1/1.Advanced-OOP/3.Advanced-Exceptions/1.Creating-serving-exceptions/Material.ipynb#X35sZmlsZQ%3D%3D?line=6'>7</a>\u001b[0m     \u001b[39mprint\u001b[39m(dummy_list[\u001b[39m2\u001b[39m])  \u001b[39m# This will rise the first error (IndexError)\u001b[39;00m\n\u001b[1;32m      <a href='vscode-notebook-cell:/home/vcauthon/Workspace/Summary-OpenEdg-Pyhon-PCPP1/1.Advanced-OOP/3.Advanced-Exceptions/1.Creating-serving-exceptions/Material.ipynb#X35sZmlsZQ%3D%3D?line=7'>8</a>\u001b[0m \u001b[39mexcept\u001b[39;00m \u001b[39mIndexError\u001b[39;00m \u001b[39mas\u001b[39;00m e:\n\u001b[0;32m----> <a href='vscode-notebook-cell:/home/vcauthon/Workspace/Summary-OpenEdg-Pyhon-PCPP1/1.Advanced-OOP/3.Advanced-Exceptions/1.Creating-serving-exceptions/Material.ipynb#X35sZmlsZQ%3D%3D?line=8'>9</a>\u001b[0m     \u001b[39mraise\u001b[39;00m DummyException(\u001b[39m'\u001b[39m\u001b[39mThis is a dummy exception\u001b[39m\u001b[39m'\u001b[39m) \u001b[39mfrom\u001b[39;00m \u001b[39me\u001b[39;00m\n",
      "\u001b[0;31mDummyException\u001b[0m: This is a dummy exception"
     ]
    }
   ],
   "source": [
    "class DummyException(Exception):\n",
    "    pass\n",
    "\n",
    "dummy_list = [1, 2] \n",
    "\n",
    "try:\n",
    "    print(dummy_list[2])  # This will rise the first error (IndexError)\n",
    "except IndexError as e:\n",
    "    raise DummyException('This is a dummy exception') from e"
   ]
  },
  {
   "cell_type": "markdown",
   "metadata": {},
   "source": [
    "The error message to highlight on the displayed is:\n",
    "\n",
    "`The above exception was the direct cause of the following exception:`\n",
    "\n",
    "This is like the previous one we have seen when performing an Implicit chaining (where we saw the detail of the previous exception through the context), but for Explicit chaining.\n",
    "\n",
    "---"
   ]
  },
  {
   "cell_type": "markdown",
   "metadata": {},
   "source": [
    "### Ok, but where is the use of the __cause__ attribute?\n",
    "\n",
    "To do this, it would be necessary to check the dummy exception that has been raised and ask it for that attribute, which would return ... the arguments of the original IndexError\n",
    "\n",
    "Code example:"
   ]
  },
  {
   "cell_type": "code",
   "execution_count": 18,
   "metadata": {},
   "outputs": [
    {
     "name": "stdout",
     "output_type": "stream",
     "text": [
      "('list index out of range',)\n"
     ]
    }
   ],
   "source": [
    "class DummyException(Exception):\n",
    "    pass\n",
    "\n",
    "dummy_list = [1, 2] \n",
    "\n",
    "try:\n",
    "    print(dummy_list[2])  # This will rise the first error (IndexError)\n",
    "except IndexError as e:\n",
    "    try:\n",
    "        raise DummyException('This is a dummy exception') from e\n",
    "    except DummyException as f:\n",
    "        print(f.__cause__.args)  # Wow i other exception i can access the original exception"
   ]
  },
  {
   "cell_type": "markdown",
   "metadata": {},
   "source": [
    "---\n",
    "\n",
    "### Where does the exception come from?\n",
    "\n",
    "All Python exceptions have a traceback. This allows us to know in which line of code the error was raised, but...\n",
    "\n",
    "Look what happens when we display the traceback of the last example:"
   ]
  },
  {
   "cell_type": "code",
   "execution_count": 19,
   "metadata": {},
   "outputs": [
    {
     "name": "stdout",
     "output_type": "stream",
     "text": [
      "<traceback object at 0x7f9a381cc400>\n"
     ]
    }
   ],
   "source": [
    "class DummyException(Exception):\n",
    "    pass\n",
    "\n",
    "dummy_list = [1, 2] \n",
    "\n",
    "try:\n",
    "    print(dummy_list[2])  # This will rise the first error (IndexError)\n",
    "except IndexError as e:\n",
    "    try:\n",
    "        raise DummyException('This is a dummy exception') from e\n",
    "    except DummyException as f:\n",
    "        print(f.__traceback__)"
   ]
  },
  {
   "cell_type": "markdown",
   "metadata": {},
   "source": [
    "What we are seeing is a traceback object, which now we may be wondering ... How can I use this?\n",
    "\n",
    "Here luckily python has two build-in functions to be able to display the traceback on the screen.\n",
    "- print_tb: Which displays the content on the screen.\n",
    "- format_tb: Which allows us to format the traceback together with another string.\n",
    "\n",
    "Let's see an example:"
   ]
  },
  {
   "cell_type": "code",
   "execution_count": 26,
   "metadata": {},
   "outputs": [
    {
     "name": "stdout",
     "output_type": "stream",
     "text": [
      "<traceback object at 0x7f9a38206000>\n",
      "Hi ['  File \"/tmp/ipykernel_7797/536246293.py\", line 12, in <module>\\n    raise DummyException(\\'This is a dummy exception\\') from e\\n']\n"
     ]
    },
    {
     "name": "stderr",
     "output_type": "stream",
     "text": [
      "  File \"/tmp/ipykernel_7797/536246293.py\", line 12, in <module>\n",
      "    raise DummyException('This is a dummy exception') from e\n"
     ]
    }
   ],
   "source": [
    "from traceback import print_tb, format_tb # Let's don't forget to import it!!\n",
    "\n",
    "class DummyException(Exception):\n",
    "    pass\n",
    "\n",
    "dummy_list = [1, 2] \n",
    "\n",
    "try:\n",
    "    print(dummy_list[2])  # This will rise the first error (IndexError)\n",
    "except IndexError as e:\n",
    "    try:\n",
    "        raise DummyException('This is a dummy exception') from e\n",
    "    except DummyException as f:\n",
    "        print(f.__traceback__)\n",
    "        print_tb(f.__traceback__)\n",
    "        print(f\"Hi {format_tb(f.__traceback__)}\")"
   ]
  },
  {
   "cell_type": "markdown",
   "metadata": {},
   "source": [
    "---\n",
    "[< __GO BACK__](https://github.com/VCauthon/Summary-OpenEdg-Pyhon-PCPP1/blob/main/1.Advanced-OOP/3.Advanced-Exceptions/Introduction.ipynb)"
   ]
  }
 ],
 "metadata": {
  "kernelspec": {
   "display_name": "Python 3",
   "language": "python",
   "name": "python3"
  },
  "language_info": {
   "codemirror_mode": {
    "name": "ipython",
    "version": 3
   },
   "file_extension": ".py",
   "mimetype": "text/x-python",
   "name": "python",
   "nbconvert_exporter": "python",
   "pygments_lexer": "ipython3",
   "version": "3.10.12"
  },
  "orig_nbformat": 4
 },
 "nbformat": 4,
 "nbformat_minor": 2
}
